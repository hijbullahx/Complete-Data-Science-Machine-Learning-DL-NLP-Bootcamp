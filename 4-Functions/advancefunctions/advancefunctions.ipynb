{
 "cells": [
  {
   "cell_type": "markdown",
   "metadata": {},
   "source": [
    "### Assignment 5: Function that Returns a Function\n",
    "\n",
    "Define a function that returns another function. The returned function should take an integer and return its square. Test the returned function with different inputs.\n",
    "\n",
    "### Assignment 6: Function with Decorators\n",
    "\n",
    "Define a function that calculates the time taken to execute another function. Apply this decorator to a function that performs a complex calculation. Test the decorated function with different inputs.\n",
    "\n",
    "### Assignment 7: Higher-Order Function for Filtering and Mapping\n",
    "\n",
    "Define a higher-order function that takes two functions, a filter function and a map function, along with a list of integers. The higher-order function should first filter the integers using the filter function and then apply the map function to the filtered integers. Test with different filter and map functions.\n",
    "\n",
    "### Assignment 8: Function Composition\n",
    "\n",
    "Define a function that composes two functions, f and g, such that the result is f(g(x)). Test with different functions f and g.\n",
    "\n",
    "### Assignment 9: Partial Function Application\n",
    "\n",
    "Use the functools.partial function to create a new function that multiplies its input by 2. Test the new function with different inputs.\n",
    "\n",
    "### Assignment 10: Function with Error Handling\n",
    "\n",
    "Define a function that takes a list of integers and returns their average. The function should handle any errors that occur (e.g., empty list) and return None in such cases. Test with different inputs.\n",
    "\n",
    "### Assignment 11: Function with Generators\n",
    "\n",
    "Define a function that generates an infinite sequence of Fibonacci numbers. Test by printing the first 10 numbers in the sequence.\n",
    "\n",
    "### Assignment 12: Currying\n",
    "\n",
    "Define a curried function that takes three arguments, one at a time, and returns their product. Test the function by providing arguments one at a time.\n",
    "\n",
    "### Assignment 13: Function with Context Manager\n",
    "\n",
    "Define a function that uses a context manager to write a list of integers to a file. The function should handle any errors that occur during file operations. Test with different lists.\n",
    "\n",
    "### Assignment 14: Function with Multiple Return Types\n",
    "\n",
    "Define a function that takes a list of mixed data types (integers, strings, and floats) and returns three lists: one containing all the integers, one containing all the strings, and one containing all the floats. Test with different inputs.\n",
    "\n",
    "### Assignment 15: Function with State\n",
    "\n",
    "Define a function that maintains state between calls using a mutable default argument. The function should keep track of how many times it has been called. Test by calling the function multiple times."
   ]
  },
  {
   "cell_type": "markdown",
   "id": "736770eb",
   "metadata": {},
   "source": [
    "### Assignment 1: Fibonacci Sequence with Memoization\n",
    "\n",
    "Define a recursive function to calculate the nth Fibonacci number using memoization. Test the function with different inputs.\n"
   ]
  },
  {
   "cell_type": "code",
   "execution_count": 2,
   "id": "834844bd",
   "metadata": {},
   "outputs": [
    {
     "name": "stdout",
     "output_type": "stream",
     "text": [
      "55\n",
      "610\n",
      "3524578\n"
     ]
    }
   ],
   "source": [
    "def fib(n, memo = {}):\n",
    "  if n in memo:\n",
    "    return memo[n]\n",
    "  if n<= 1:\n",
    "    return n\n",
    "  memo[n] = fib(n-1, memo) + fib(n-2, memo)\n",
    "  return memo[n]\n",
    "\n",
    "print(fib(10))\n",
    "print(fib(15))\n",
    "print(fib(33))"
   ]
  },
  {
   "cell_type": "markdown",
   "id": "ae367a19",
   "metadata": {},
   "source": [
    "### Assignment 2: Function with Nested Default Arguments\n",
    "\n",
    "Define a function that takes two arguments, a and b, where b is a dictionary with a default value of an empty dictionary. The function should add a new key-value pair to the dictionary and return it. Test the function with different inputs."
   ]
  },
  {
   "cell_type": "code",
   "execution_count": 6,
   "id": "6a0b9668",
   "metadata": {},
   "outputs": [
    {
     "name": "stdout",
     "output_type": "stream",
     "text": [
      "{2: 4}\n",
      "{4: 16, 5: 25}\n"
     ]
    }
   ],
   "source": [
    "def add_to_dict(a, b=None):\n",
    "  if b is None:\n",
    "    b = {}\n",
    "  b[a] = a**2\n",
    "  return b\n",
    "\n",
    "print(add_to_dict(2))\n",
    "print(add_to_dict(5,{4:16}))"
   ]
  },
  {
   "cell_type": "markdown",
   "id": "0a01d4bf",
   "metadata": {},
   "source": [
    "\n",
    "### Assignment 3: Function with Variable Keyword Arguments\n",
    "\n",
    "Define a function that takes a variable number of keyword arguments and returns a dictionary containing only those key-value pairs where the value is an integer. Test the function with different inputs."
   ]
  },
  {
   "cell_type": "code",
   "execution_count": 9,
   "id": "aa8bdc1e",
   "metadata": {},
   "outputs": [
    {
     "name": "stdout",
     "output_type": "stream",
     "text": [
      "{'a': 1, 'c': 3}\n",
      "{'x': 10, 'z': 20}\n"
     ]
    }
   ],
   "source": [
    "def filter_integers(**kwargs):\n",
    "  return{k:v for k, v in kwargs.items() if isinstance(v,int) }\n",
    "print(filter_integers(a = 1, b = \"two\", c =3, d = 4.5))\n",
    "print(filter_integers(x=10, y='yes', z=20))"
   ]
  },
  {
   "cell_type": "markdown",
   "id": "fe3ba30e",
   "metadata": {},
   "source": [
    "### Assignment 4: Function with Callback\n",
    "\n",
    "Define a function that takes another function as a callback and a list of integers. The function should apply the callback to each integer in the list and return a new list with the results. Test with different callback functions."
   ]
  },
  {
   "cell_type": "code",
   "execution_count": 10,
   "id": "309dfe15",
   "metadata": {},
   "outputs": [
    {
     "name": "stdout",
     "output_type": "stream",
     "text": [
      "[1, 4, 9, 16]\n",
      "[2, 3, 4, 5]\n"
     ]
    }
   ],
   "source": [
    "def apply_callback(callback, lst):\n",
    "  return [callback(x) for x in lst]\n",
    "\n",
    "print(apply_callback(lambda x:x**2, [1,2,3,4]))\n",
    "print(apply_callback(lambda x:x+1, [1,2,3,4]))"
   ]
  },
  {
   "cell_type": "markdown",
   "id": "d3a0a8db",
   "metadata": {},
   "source": [
    "### Assignment 5: Function that Returns a Function\n",
    "\n",
    "Define a function that returns another function. The returned function should take an integer and return its square. Test the returned function with different inputs."
   ]
  },
  {
   "cell_type": "code",
   "execution_count": 11,
   "id": "ce849bcd",
   "metadata": {},
   "outputs": [
    {
     "name": "stdout",
     "output_type": "stream",
     "text": [
      "4\n",
      "16\n"
     ]
    }
   ],
   "source": [
    "def outer_func():\n",
    "  def inner_func(x):\n",
    "    return x**2\n",
    "  return inner_func\n",
    "\n",
    "squuare = outer_func()\n",
    "print(squuare(2))\n",
    "print(squuare(4))"
   ]
  },
  {
   "cell_type": "markdown",
   "id": "5e3a7664",
   "metadata": {},
   "source": [
    "### Assignment 6: Function with Decorators\n",
    "\n",
    "Define a function that calculates the time taken to execute another function. Apply this decorator to a function that performs a complex calculation. Test the decorated function with different inputs."
   ]
  },
  {
   "cell_type": "code",
   "execution_count": 14,
   "id": "327ad313",
   "metadata": {},
   "outputs": [
    {
     "name": "stdout",
     "output_type": "stream",
     "text": [
      "Function complex_calculation took 6.9141387939453125e-06 seconds to execute. \n",
      "20540\n",
      "Function complex_calculation took 0.13252973556518555 seconds to execute. \n",
      "2666664666667000000\n"
     ]
    }
   ],
   "source": [
    "import time\n",
    "def timer_decorator(func):\n",
    "  def wrapper(*args, **kwargs):\n",
    "    start_time = time.time()\n",
    "    result = func(*args, **kwargs)\n",
    "    end_time = time.time()\n",
    "    print(f\"Function {func.__name__} took {end_time - start_time} seconds to execute. \")\n",
    "    return result\n",
    "  return wrapper\n",
    "\n",
    "@timer_decorator\n",
    "def complex_calculation(n):\n",
    "  total = 0\n",
    "  for i in  range(n):\n",
    "    total += i**2\n",
    "  return total\n",
    "print(complex_calculation(40))\n",
    "print(complex_calculation(2000000))"
   ]
  },
  {
   "cell_type": "markdown",
   "id": "8ac666d1",
   "metadata": {},
   "source": [
    "### Assignment 7: Higher-Order Function for Filtering and Mapping\n",
    "\n",
    "Define a higher-order function that takes two functions, a filter function and a map function, along with a list of integers. The higher-order function should first filter the integers using the filter function and then apply the map function to the filtered integers. Test with different filter and map functions."
   ]
  },
  {
   "cell_type": "code",
   "execution_count": 15,
   "id": "e251eff5",
   "metadata": {},
   "outputs": [
    {
     "name": "stdout",
     "output_type": "stream",
     "text": [
      "[4, 16, 36, 64, 100]\n",
      "[4, 5, 6, 7, 8, 9, 10, 11]\n"
     ]
    }
   ],
   "source": [
    "def filter_and_map(filter_func, map_func, lst):\n",
    "  return [map_func(x) for x in lst if filter_func(x)]\n",
    "print(filter_and_map(lambda x:x%2 == 0, lambda x: x**2, [1,2,3,4,5,6,7,8,9,10]))\n",
    "print(filter_and_map(lambda x: x>2, lambda x:x+1, [1,2,3,4,5,6,7,8,9,10]))"
   ]
  },
  {
   "cell_type": "markdown",
   "id": "3b0634de",
   "metadata": {},
   "source": [
    "### Assignment 8: Function Composition\n",
    "\n",
    "Define a function that composes two functions, f and g, such that the result is f(g(x)). Test with different functions f and g."
   ]
  },
  {
   "cell_type": "code",
   "execution_count": 16,
   "id": "7c371d77",
   "metadata": {},
   "outputs": [
    {
     "name": "stdout",
     "output_type": "stream",
     "text": [
      "7\n",
      "5\n"
     ]
    }
   ],
   "source": [
    "def compose(f,g):\n",
    "  return lambda x: f(g(x))\n",
    "f=lambda x: x+1\n",
    "g=lambda x: x*2\n",
    "\n",
    "h = compose(f,g)\n",
    "\n",
    "print(h(3))\n",
    "print(h(2))"
   ]
  },
  {
   "cell_type": "markdown",
   "id": "3e018c91",
   "metadata": {},
   "source": [
    "### Assignment 9: Partial Function Application\n",
    "\n",
    "Use the functools.partial function to create a new function that multiplies its input by 2. Test the new function with different inputs."
   ]
  },
  {
   "cell_type": "code",
   "execution_count": 17,
   "id": "949ba956",
   "metadata": {},
   "outputs": [
    {
     "name": "stdout",
     "output_type": "stream",
     "text": [
      "6\n",
      "18\n"
     ]
    }
   ],
   "source": [
    "from functools import partial\n",
    "multiply_by_2 = partial(lambda x, y: x*y, 2)\n",
    "print(multiply_by_2(3))\n",
    "print(multiply_by_2(9))"
   ]
  },
  {
   "cell_type": "markdown",
   "id": "4a7a6248",
   "metadata": {},
   "source": [
    "### Assignment 10: Function with Error Handling\n",
    "\n",
    "Define a function that takes a list of integers and returns their average. The function should handle any errors that occur (e.g., empty list) and return None in such cases. Test with different inputs."
   ]
  },
  {
   "cell_type": "code",
   "execution_count": 22,
   "id": "325344e5",
   "metadata": {},
   "outputs": [
    {
     "name": "stdout",
     "output_type": "stream",
     "text": [
      "3.0\n",
      "Error\n"
     ]
    }
   ],
   "source": [
    "def avg(lst):\n",
    "  try:\n",
    "    return sum(lst)/len(lst)\n",
    "  except ZeroDivisionError:\n",
    "    return \"Error\"\n",
    "  \n",
    "print(avg([1,2,3,4,5]))\n",
    "print(avg([]))"
   ]
  },
  {
   "cell_type": "markdown",
   "id": "a577147b",
   "metadata": {},
   "source": [
    "### Assignment 11: Function with Generators\n",
    "\n",
    "Define a function that generates an infinite sequence of Fibonacci numbers. Test by printing the first 10 numbers in the sequence."
   ]
  },
  {
   "cell_type": "code",
   "execution_count": 25,
   "id": "7afa08eb",
   "metadata": {},
   "outputs": [
    {
     "name": "stdout",
     "output_type": "stream",
     "text": [
      "0\n",
      "1\n",
      "1\n",
      "2\n",
      "3\n",
      "5\n",
      "8\n",
      "13\n",
      "21\n",
      "34\n"
     ]
    }
   ],
   "source": [
    "def fib_gen():\n",
    "    a, b = 0, 1\n",
    "    while True:\n",
    "        yield a\n",
    "        a, b = b, a + b\n",
    "\n",
    "fib_generator = fib_gen()\n",
    "for _ in range(10):\n",
    "    print(next(fib_generator))"
   ]
  },
  {
   "cell_type": "markdown",
   "id": "e3baa271",
   "metadata": {},
   "source": [
    "### Assignment 12: Currying\n",
    "\n",
    "Define a curried function that takes three arguments, one at a time, and returns their product. Test the function by providing arguments one at a time."
   ]
  },
  {
   "cell_type": "code",
   "execution_count": 1,
   "id": "77350cd0",
   "metadata": {},
   "outputs": [
    {
     "name": "stdout",
     "output_type": "stream",
     "text": [
      "24\n",
      "30\n"
     ]
    }
   ],
   "source": [
    "def curry_product(x):\n",
    "  def inner1(y):\n",
    "    def inner2(z):\n",
    "      return x*y*z\n",
    "    return inner2\n",
    "  return inner1\n",
    "\n",
    "print(curry_product(2)(3)(4))\n",
    "print(curry_product(1)(5)(6))"
   ]
  },
  {
   "cell_type": "markdown",
   "id": "ec107570",
   "metadata": {},
   "source": [
    "### Assignment 13: Function with Context Manager\n",
    "\n",
    "Define a function that uses a context manager to write a list of integers to a file. The function should handle any errors that occur during file operations. Test with different lists."
   ]
  },
  {
   "cell_type": "code",
   "execution_count": 5,
   "id": "a77cfb60",
   "metadata": {},
   "outputs": [],
   "source": [
    "def write_to_file(lst, filename):\n",
    "  try:\n",
    "    with open(filename, 'w') as f:\n",
    "      for num in lst:\n",
    "        f.write(f\"{num}\\n\")\n",
    "  except IOError as e:\n",
    "    print(f\"An error occured: {e}\")\n",
    "\n",
    "write_to_file([1,2,3,4,5], 'output.txt')"
   ]
  },
  {
   "cell_type": "markdown",
   "id": "80293490",
   "metadata": {},
   "source": [
    "### Assignment 14: Function with Multiple Return Types\n",
    "\n",
    "Define a function that takes a list of mixed data types (integers, strings, and floats) and returns three lists: one containing all the integers, one containing all the strings, and one containing all the floats. Test with different inputs."
   ]
  },
  {
   "cell_type": "code",
   "execution_count": 7,
   "id": "7f5438cf",
   "metadata": {},
   "outputs": [
    {
     "name": "stdout",
     "output_type": "stream",
     "text": [
      "([1, 3], ['a', 'b', 'c'], [2.5, 4.0])\n"
     ]
    }
   ],
   "source": [
    "def separate_types(lst):\n",
    "  ints, strs, floats = [],[],[]\n",
    "  for item in lst:\n",
    "    if isinstance(item, int):\n",
    "      ints.append(item)\n",
    "    elif isinstance(item, str):\n",
    "      strs.append(item)\n",
    "    elif isinstance(item, float):\n",
    "      floats.append(item)\n",
    "  return ints, strs, floats\n",
    "\n",
    "print(separate_types([1,'a',2.5, 3, 'b', 4.0, 'c']))"
   ]
  },
  {
   "cell_type": "markdown",
   "id": "00c27934",
   "metadata": {},
   "source": [
    "### Assignment 15: Function with State\n",
    "\n",
    "Define a function that maintains state between calls using a mutable default argument. The function should keep track of how many times it has been called. Test by calling the function multiple times."
   ]
  },
  {
   "cell_type": "code",
   "execution_count": 9,
   "id": "eb30fe93",
   "metadata": {},
   "outputs": [
    {
     "name": "stdout",
     "output_type": "stream",
     "text": [
      "1\n",
      "2\n",
      "3\n"
     ]
    }
   ],
   "source": [
    "def call_c(counter = {'count' : 0}):\n",
    "  counter['count'] += 1\n",
    "  return counter['count']\n",
    "print(call_c())\n",
    "print(call_c())\n",
    "print(call_c())"
   ]
  }
 ],
 "metadata": {
  "kernelspec": {
   "display_name": "Python 3",
   "language": "python",
   "name": "python3"
  },
  "language_info": {
   "codemirror_mode": {
    "name": "ipython",
    "version": 3
   },
   "file_extension": ".py",
   "mimetype": "text/x-python",
   "name": "python",
   "nbconvert_exporter": "python",
   "pygments_lexer": "ipython3",
   "version": "3.12.7"
  }
 },
 "nbformat": 4,
 "nbformat_minor": 5
}
