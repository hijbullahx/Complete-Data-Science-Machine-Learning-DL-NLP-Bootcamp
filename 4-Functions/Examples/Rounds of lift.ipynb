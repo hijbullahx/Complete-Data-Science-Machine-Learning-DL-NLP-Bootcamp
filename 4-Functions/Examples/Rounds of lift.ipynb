{
 "cells": [
  {
   "cell_type": "markdown",
   "id": "3250a23b",
   "metadata": {},
   "source": [
    "# Number of Rounds of Lift\n",
    "Problem Description:\n",
    "\n",
    "You are given n, the total number of people, and capacity, the maximum number of people the lift can carry at a time. All people want to go from the ground floor to the top floor. Your task is to calculate the number of rounds the lift has to make to transport all the people to the top floor.\n",
    "\n",
    "\n",
    "\n",
    "Input:\n",
    "\n",
    "Two integers, n and capacity, where n is the total number of people, and capacity is the maximum number of people the lift can carry in one round.\n",
    "\n",
    "\n",
    "\n",
    "Output:\n",
    "\n",
    "An integer representing the number of rounds the lift needs to cover to transport all people to the top floor.\n",
    "\n",
    "\n",
    "\n",
    "Example:\n",
    "\n",
    "Input: n = 10, capacity = 3\n",
    "Output: 4\n",
    " \n",
    "Input: n = 7, capacity = 4\n",
    "Output: 2\n",
    "\n",
    "\n",
    "Disclaimer: This Udemy coding exercise is still in development, so some advanced complexities might not be fully checked. Please use it primarily for basic code validation."
   ]
  },
  {
   "cell_type": "code",
   "execution_count": null,
   "id": "3b5dbd77",
   "metadata": {},
   "outputs": [
    {
     "name": "stdout",
     "output_type": "stream",
     "text": [
      "5\n"
     ]
    }
   ],
   "source": [
    "def calculate_lift_rounds(n, capacity):\n",
    "    if (n/capacity) > (n//capacity):\n",
    "        return (n//capacity) + 1\n",
    "    else:\n",
    "        return (n/capacity)\n",
    "\n",
    "print(calculate_lift_rounds(7,4))"
   ]
  }
 ],
 "metadata": {
  "kernelspec": {
   "display_name": "Python 3",
   "language": "python",
   "name": "python3"
  },
  "language_info": {
   "codemirror_mode": {
    "name": "ipython",
    "version": 3
   },
   "file_extension": ".py",
   "mimetype": "text/x-python",
   "name": "python",
   "nbconvert_exporter": "python",
   "pygments_lexer": "ipython3",
   "version": "3.12.7"
  }
 },
 "nbformat": 4,
 "nbformat_minor": 5
}
