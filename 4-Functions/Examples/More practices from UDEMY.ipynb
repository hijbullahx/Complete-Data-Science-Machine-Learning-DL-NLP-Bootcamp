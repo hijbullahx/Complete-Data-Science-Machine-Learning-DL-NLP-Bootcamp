{
 "cells": [
  {
   "cell_type": "markdown",
   "id": "b733ecf5",
   "metadata": {},
   "source": [
    "# Largest Element in a List\n",
    "Largest Element in a List\n",
    "Find the Largest Element in a List\n",
    "\n",
    "Write a Python function that finds and returns the largest element in a given list of integers.\n",
    "\n",
    "Parameters:\n",
    "\n",
    "numbers (List of integers): The input list containing integers.\n",
    "\n",
    "Returns:\n",
    "\n",
    "An integer representing the largest element in the input list.\n",
    "\n",
    "Example:\n",
    "\n",
    "Input: numbers = [3, 8, 2, 10, 5]\n",
    "Output: 10\n",
    "\n",
    "Input: numbers = [-5, -10, -2, -1, -7]\n",
    "Output: -1"
   ]
  },
  {
   "cell_type": "code",
   "execution_count": 1,
   "id": "1da862c6",
   "metadata": {},
   "outputs": [
    {
     "data": {
      "text/plain": [
       "10"
      ]
     },
     "execution_count": 1,
     "metadata": {},
     "output_type": "execute_result"
    }
   ],
   "source": [
    "def l_e(numbers):\n",
    "  return max(numbers)\n",
    "\n",
    "n = [3, 8, 2, 10, 5]\n",
    "l_e(n)\n"
   ]
  },
  {
   "cell_type": "code",
   "execution_count": 5,
   "id": "699bce30",
   "metadata": {},
   "outputs": [
    {
     "name": "stdout",
     "output_type": "stream",
     "text": [
      "10\n"
     ]
    }
   ],
   "source": [
    "def find_largest(numbers):\n",
    "    return max(numbers)\n",
    "\n",
    "if __name__ == \"__main__\":\n",
    "    user_input = input()\n",
    "    numbers = list(map(int, user_input.replace(\" \", \"\").split(',')))\n",
    "    print(find_largest(numbers))\n"
   ]
  },
  {
   "cell_type": "markdown",
   "id": "4db34641",
   "metadata": {},
   "source": [
    "# Remove Duplicate in a List\n",
    "Remove Duplicates from a List\n",
    "\n",
    "You are given a list of integers. Write a Python program that removes any duplicate elements from the list and returns a new list with only unique elements. The order of elements in the list should be maintained.\n",
    "\n",
    "Parameters:\n",
    "\n",
    "lst (List of integers): The list of integers from which duplicates should be removed.\n",
    "\n",
    "Returns:\n",
    "\n",
    "A list of integers where all duplicates have been removed, preserving the original order.\n",
    "\n",
    "Example:\n",
    "\n",
    "Input: lst = [1, 2, 2, 3, 4, 4, 5]\n",
    "Output: [1, 2, 3, 4, 5]\n",
    "\n",
    "Input: lst = [4, 5, 5, 4, 6, 7]\n",
    "Output: [4, 5, 6, 7]\n",
    "\n",
    "\n",
    "Note :- Please don't use set or inbuilt functions. Try to use brute force logic."
   ]
  },
  {
   "cell_type": "code",
   "execution_count": 6,
   "id": "25fea6d9",
   "metadata": {},
   "outputs": [
    {
     "data": {
      "text/plain": [
       "[2, 3, 4]"
      ]
     },
     "execution_count": 6,
     "metadata": {},
     "output_type": "execute_result"
    }
   ],
   "source": [
    "def remove_duplicates(lst):\n",
    "  for i in lst:\n",
    "    for j in lst:\n",
    "      if i == j:\n",
    "        lst.remove(i)\n",
    "  return lst\n",
    "num = [1, 2, 2, 3, 4, 4, 5]\n",
    "remove_duplicates(num)\n",
    "\n"
   ]
  }
 ],
 "metadata": {
  "kernelspec": {
   "display_name": "Python 3",
   "language": "python",
   "name": "python3"
  },
  "language_info": {
   "codemirror_mode": {
    "name": "ipython",
    "version": 3
   },
   "file_extension": ".py",
   "mimetype": "text/x-python",
   "name": "python",
   "nbconvert_exporter": "python",
   "pygments_lexer": "ipython3",
   "version": "3.12.7"
  }
 },
 "nbformat": 4,
 "nbformat_minor": 5
}
