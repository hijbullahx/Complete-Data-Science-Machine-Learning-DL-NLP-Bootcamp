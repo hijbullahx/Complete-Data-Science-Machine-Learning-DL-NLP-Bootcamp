{
 "cells": [
  {
   "cell_type": "markdown",
   "id": "95e34759",
   "metadata": {},
   "source": [
    "# Line Equation\n",
    "Problem Description:\n",
    "\n",
    "You are given the slope m and the y-intercept b of a line, along with a value x. Your task is to calculate and return the value of y using the equation of a line in slope-intercept form:\n",
    "\n",
    "y=mx+b\n",
    "\n",
    "\n",
    "\n",
    "Input:\n",
    "\n",
    "Three floating-point numbers: slope, intercept, and x.\n",
    "\n",
    "\n",
    "\n",
    "Output:\n",
    "\n",
    "A floating-point number representing the value of yyy corresponding to the given xxx.\n",
    "\n",
    "\n",
    "\n",
    "Example:\n",
    "\n",
    "Input: slope = 2, intercept = 3, x = 4\n",
    "Output: 11.0\n",
    " \n",
    "Input: slope = 1.5, intercept = -2, x = 2\n",
    "Output: 1.0\n",
    "\n",
    "\n",
    "Disclaimer: This Udemy coding exercise is still in development, so some advanced complexities might not be fully checked. Please use it primarily for basic code validation."
   ]
  },
  {
   "cell_type": "code",
   "execution_count": 1,
   "id": "d4325524",
   "metadata": {},
   "outputs": [
    {
     "name": "stdout",
     "output_type": "stream",
     "text": [
      "11.0\n"
     ]
    }
   ],
   "source": [
    "def calculate_y(slope, intercept, x):\n",
    "    y = (slope*x)+intercept\n",
    "    return float(y)\n",
    "\n",
    "print(calculate_y(2,3,4))\n"
   ]
  }
 ],
 "metadata": {
  "kernelspec": {
   "display_name": "Python 3",
   "language": "python",
   "name": "python3"
  },
  "language_info": {
   "codemirror_mode": {
    "name": "ipython",
    "version": 3
   },
   "file_extension": ".py",
   "mimetype": "text/x-python",
   "name": "python",
   "nbconvert_exporter": "python",
   "pygments_lexer": "ipython3",
   "version": "3.12.7"
  }
 },
 "nbformat": 4,
 "nbformat_minor": 5
}
