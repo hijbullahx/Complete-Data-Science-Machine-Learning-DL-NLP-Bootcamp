{
 "cells": [
  {
   "cell_type": "markdown",
   "id": "6ca468f1",
   "metadata": {},
   "source": [
    "Example 1: Temperature Conversion\n",
    "\n"
   ]
  },
  {
   "cell_type": "code",
   "execution_count": 1,
   "id": "202f0d39",
   "metadata": {},
   "outputs": [
    {
     "name": "stdout",
     "output_type": "stream",
     "text": [
      "77.0\n",
      "25.0\n"
     ]
    }
   ],
   "source": [
    "def convert_temp(temp, unit):\n",
    "  \"\"\"This function converts temperature between Celsius and Fahernheit\"\"\"\n",
    "  if unit == \"C\":\n",
    "    return temp*9/5 +32 ##Celsius to Farenheit\n",
    "  elif unit == \"F\":\n",
    "    return (temp-32)*5/9 ##Farehnheit to celcius\n",
    "  else:\n",
    "    return None\n",
    "\n",
    "print(convert_temp(25,'C'))\n",
    "print(convert_temp(77,'F'))"
   ]
  },
  {
   "cell_type": "markdown",
   "id": "46df1d6d",
   "metadata": {},
   "source": [
    "Example 2: Password Strength Checker\n"
   ]
  },
  {
   "cell_type": "code",
   "execution_count": 2,
   "id": "8d40d7f0",
   "metadata": {},
   "outputs": [
    {
     "name": "stdout",
     "output_type": "stream",
     "text": [
      "False\n",
      "True\n"
     ]
    }
   ],
   "source": [
    "def is_strong_pass(password):\n",
    "  \"\"\"This function checks if the password is strong or not\"\"\"\n",
    "  if len(password)<8:\n",
    "    return False\n",
    "  if not any(char.isdigit() for char in password):\n",
    "    return False\n",
    "  if not any(char.islower() for char in password):\n",
    "    return False\n",
    "  if not any(char.isupper() for char in password):\n",
    "    return False\n",
    "  if not any(char in '!@#$%^&*()_+' for char in password):\n",
    "    return False\n",
    "  return True\n",
    "\n",
    "#calling the function\n",
    "print(is_strong_pass(\"Hijbullah\"))\n",
    "print(is_strong_pass(\"Hijbu@llah2\"))"
   ]
  },
  {
   "cell_type": "markdown",
   "id": "a29f5dd7",
   "metadata": {},
   "source": [
    "##### Example 3: Calculate the Total Cost Of Items In a Shopping Cart"
   ]
  },
  {
   "cell_type": "code",
   "execution_count": 4,
   "id": "fb07d475",
   "metadata": {},
   "outputs": [
    {
     "name": "stdout",
     "output_type": "stream",
     "text": [
      "23.5\n"
     ]
    }
   ],
   "source": [
    "def cal_t_cost(cart):\n",
    "  total_cost = 0\n",
    "  for item in cart:\n",
    "    total_cost+= item['price']*item['quantity']\n",
    "  return total_cost\n",
    "\n",
    "\n",
    "cart = [\n",
    "    {'name': 'Apple', 'price' : 0.7, 'quantity' : 4},\n",
    "    {'name': 'Banana', 'price' : 3, 'quantity' : 6},\n",
    "    {'name': 'Orabge', 'price' : 0.9, 'quantity' : 3},\n",
    "\n",
    "]\n",
    "\n",
    "##Callling function\n",
    "total_cost = cal_t_cost(cart)\n",
    "print(total_cost)"
   ]
  },
  {
   "cell_type": "markdown",
   "id": "ba6682cd",
   "metadata": {},
   "source": [
    "##### Example 4: Check IF a String Is Palindrome"
   ]
  },
  {
   "cell_type": "code",
   "execution_count": 5,
   "id": "c9c509b8",
   "metadata": {},
   "outputs": [
    {
     "name": "stdout",
     "output_type": "stream",
     "text": [
      "True\n",
      "False\n"
     ]
    }
   ],
   "source": [
    "def is_palindrom(s):\n",
    "  s = s.lower().replace(\" \", \"\")\n",
    "  return s == s[::-1]\n",
    "\n",
    "print(is_palindrom(\"A man a plan a canal Panama\"))\n",
    "print(is_palindrom(\"Hijbullah\"))"
   ]
  },
  {
   "cell_type": "markdown",
   "id": "eba078f6",
   "metadata": {},
   "source": [
    "##### Example 5: Calculate the factorials of a number using recursion"
   ]
  },
  {
   "cell_type": "code",
   "execution_count": 7,
   "id": "d3b86fd2",
   "metadata": {},
   "outputs": [
    {
     "name": "stdout",
     "output_type": "stream",
     "text": [
      "120\n"
     ]
    }
   ],
   "source": [
    "def factorial(n):\n",
    "  if n == 0:\n",
    "    return 1\n",
    "  else:\n",
    "    return n* factorial(n-1)\n",
    "\n",
    "print(factorial(5))"
   ]
  },
  {
   "cell_type": "markdown",
   "id": "204c5b03",
   "metadata": {},
   "source": [
    "##### Example 6: A Function To Read A File and count the frequency of each word"
   ]
  },
  {
   "cell_type": "code",
   "execution_count": 9,
   "id": "7ff7a21d",
   "metadata": {},
   "outputs": [
    {
     "name": "stdout",
     "output_type": "stream",
     "text": [
      "{'hello': 1, 'world': 1, 'how': 1, 'are': 1, 'you': 1, 'my': 1, 'name': 1, 'is': 1, 'hijbullah': 2}\n"
     ]
    }
   ],
   "source": [
    "def count_word_frequency(file_path):\n",
    "  word_count = {}\n",
    "  with open(file_path, 'r') as file:\n",
    "    for line in file:\n",
    "      words = line.split()\n",
    "      for word in words:\n",
    "        word = word.lower().strip('.,!?;:\"\\'')\n",
    "        word_count[word] = word_count.get(word,0)+1\n",
    "  return word_count\n",
    "filepath= 'sample.txt'\n",
    "word_frequency = count_word_frequency(filepath)\n",
    "print(word_frequency)"
   ]
  },
  {
   "cell_type": "markdown",
   "id": "829e4525",
   "metadata": {},
   "source": [
    "##### Example 7: Validate Email Address\n"
   ]
  },
  {
   "cell_type": "code",
   "execution_count": 10,
   "id": "1bba5730",
   "metadata": {},
   "outputs": [
    {
     "name": "stdout",
     "output_type": "stream",
     "text": [
      "True\n",
      "False\n"
     ]
    }
   ],
   "source": [
    "import re\n",
    "def is_valid_email(email):\n",
    "  pattern = r'^[a-zA-Z0-9_.+-]+@[a-zA-Z0-9-]+\\.[a-zA-Z0-9-.]+$'\n",
    "  return re.match(pattern, email) is not None\n",
    "\n",
    "print(is_valid_email(\"test@gmail.com\"))\n",
    "print(is_valid_email(\"testgmail.com\"))"
   ]
  }
 ],
 "metadata": {
  "kernelspec": {
   "display_name": "base",
   "language": "python",
   "name": "python3"
  },
  "language_info": {
   "codemirror_mode": {
    "name": "ipython",
    "version": 3
   },
   "file_extension": ".py",
   "mimetype": "text/x-python",
   "name": "python",
   "nbconvert_exporter": "python",
   "pygments_lexer": "ipython3",
   "version": "3.12.7"
  }
 },
 "nbformat": 4,
 "nbformat_minor": 5
}
