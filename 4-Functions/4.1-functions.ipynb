{
 "cells": [
  {
   "cell_type": "code",
   "execution_count": 2,
   "id": "027b8f3f",
   "metadata": {},
   "outputs": [],
   "source": [
    "#Syntex\n",
    "def function_name(parameters):\n",
    "  \"\"\"Docstring for the function.\"\"\"\n",
    "  # Function body\n",
    "  return \"Function executed successfully\"\n"
   ]
  },
  {
   "cell_type": "code",
   "execution_count": 4,
   "id": "5238df00",
   "metadata": {},
   "outputs": [
    {
     "name": "stdout",
     "output_type": "stream",
     "text": [
      "The number is even\n"
     ]
    }
   ],
   "source": [
    "#Why Fucntions?\n",
    "num = 24\n",
    "if num %2 == 0:\n",
    "  print(\"The number is even\")\n",
    "else:\n",
    "  print(\"Not!\")"
   ]
  },
  {
   "cell_type": "code",
   "execution_count": 6,
   "id": "11e73edd",
   "metadata": {},
   "outputs": [],
   "source": [
    "def even_odd (number):\n",
    "  \"\"\"This performs finding even or odd\"\"\"\n",
    "  if number%2 == 0:\n",
    "    print(\"The number is even\")\n",
    "  else:\n",
    "    print(\"The number is odd\")"
   ]
  },
  {
   "cell_type": "code",
   "execution_count": 9,
   "id": "3faab1b7",
   "metadata": {},
   "outputs": [
    {
     "name": "stdout",
     "output_type": "stream",
     "text": [
      "The number is even\n"
     ]
    }
   ],
   "source": [
    "##Calling this fuction\n",
    "even_odd(78)"
   ]
  },
  {
   "cell_type": "code",
   "execution_count": 11,
   "id": "4a3a06db",
   "metadata": {},
   "outputs": [
    {
     "name": "stdout",
     "output_type": "stream",
     "text": [
      "6\n"
     ]
    }
   ],
   "source": [
    "#Function with multiple parameters\n",
    "def add(a,b):\n",
    "  return a+b\n",
    "result = add(2,4)\n",
    "print(result)"
   ]
  },
  {
   "cell_type": "code",
   "execution_count": 16,
   "id": "f7c5b93c",
   "metadata": {},
   "outputs": [
    {
     "name": "stdout",
     "output_type": "stream",
     "text": [
      "Hello Hijbullah Welcome To the paradise\n"
     ]
    }
   ],
   "source": [
    "#Default Parameters\n",
    "def greet(name=\"Geust\"):\n",
    "  print((f\"Hello {name} Welcome To the paradise\"))\n",
    "\n",
    "greet(\"Hijbullah\")"
   ]
  },
  {
   "cell_type": "code",
   "execution_count": 21,
   "id": "2a58fdbb",
   "metadata": {},
   "outputs": [],
   "source": [
    "### Variable Length Arguments\n",
    "## Positional arguments\n",
    "def print_numbers(*args):\n",
    "  for numb in args:\n",
    "    print(numb)"
   ]
  },
  {
   "cell_type": "code",
   "execution_count": 22,
   "id": "e9457ddb",
   "metadata": {},
   "outputs": [
    {
     "name": "stdout",
     "output_type": "stream",
     "text": [
      "taher\n",
      "3\n",
      "4\n",
      "5\n",
      "Hijbullah\n"
     ]
    }
   ],
   "source": [
    "print_numbers(\"taher\", 3,4,5, \"Hijbullah\")"
   ]
  },
  {
   "cell_type": "code",
   "execution_count": 23,
   "id": "d8cb88f0",
   "metadata": {},
   "outputs": [],
   "source": [
    "#Keywords Arguments\n",
    "def print_details(**kwargs):\n",
    "  for key, value in kwargs.items():\n",
    "    print(f\"{key}:{value}\")"
   ]
  },
  {
   "cell_type": "code",
   "execution_count": 26,
   "id": "68ef13bc",
   "metadata": {},
   "outputs": [
    {
     "name": "stdout",
     "output_type": "stream",
     "text": [
      "name:Hijbullah\n",
      "age:22\n",
      "Country:Bangladesh\n"
     ]
    }
   ],
   "source": [
    "print_details(name = \"Hijbullah\", age = 22 , Country = \"Bangladesh\" )"
   ]
  },
  {
   "cell_type": "code",
   "execution_count": 27,
   "id": "e6e6606e",
   "metadata": {},
   "outputs": [],
   "source": [
    "def print_details(*args, **kwargs):\n",
    "  for val in args:\n",
    "    print(f\"Positional argument : {val}\")\n",
    "  for key, value in kwargs.items():\n",
    "    print(f\"{key}:{value}\")"
   ]
  },
  {
   "cell_type": "code",
   "execution_count": 28,
   "id": "9c5e417b",
   "metadata": {},
   "outputs": [
    {
     "name": "stdout",
     "output_type": "stream",
     "text": [
      "Positional argument : 1\n",
      "Positional argument : 2\n",
      "Positional argument : 3\n",
      "Positional argument : 4\n",
      "Positional argument : Hijbullah\n",
      "name:Hijbullah\n",
      "age:22\n",
      "Country:Bangladesh\n"
     ]
    }
   ],
   "source": [
    "print_details(1,2,3,4,\"Hijbullah\", name = \"Hijbullah\", age = 22 , Country = \"Bangladesh\")"
   ]
  },
  {
   "cell_type": "code",
   "execution_count": 29,
   "id": "06b5d73f",
   "metadata": {},
   "outputs": [
    {
     "data": {
      "text/plain": [
       "12"
      ]
     },
     "execution_count": 29,
     "metadata": {},
     "output_type": "execute_result"
    }
   ],
   "source": [
    "### Return statements\n",
    "def multiply(a,b):\n",
    "  return a*b\n",
    "\n",
    "multiply(2,6)"
   ]
  },
  {
   "cell_type": "code",
   "execution_count": 30,
   "id": "03f30279",
   "metadata": {},
   "outputs": [
    {
     "data": {
      "text/plain": [
       "(6, 2)"
      ]
     },
     "execution_count": 30,
     "metadata": {},
     "output_type": "execute_result"
    }
   ],
   "source": [
    "### Return multiple parameters\n",
    "def multiply(a,b):\n",
    "  return a*b,a\n",
    "multiply(2,3)"
   ]
  }
 ],
 "metadata": {
  "kernelspec": {
   "display_name": "base",
   "language": "python",
   "name": "python3"
  },
  "language_info": {
   "codemirror_mode": {
    "name": "ipython",
    "version": 3
   },
   "file_extension": ".py",
   "mimetype": "text/x-python",
   "name": "python",
   "nbconvert_exporter": "python",
   "pygments_lexer": "ipython3",
   "version": "3.12.7"
  }
 },
 "nbformat": 4,
 "nbformat_minor": 5
}
