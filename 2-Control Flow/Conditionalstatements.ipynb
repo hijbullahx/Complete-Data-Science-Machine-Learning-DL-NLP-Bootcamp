{
 "cells": [
  {
   "cell_type": "code",
   "execution_count": 2,
   "id": "ec52a13a",
   "metadata": {},
   "outputs": [
    {
     "name": "stdout",
     "output_type": "stream",
     "text": [
      "You are an adult.\n"
     ]
    }
   ],
   "source": [
    "#If statement\n",
    "age = 20\n",
    "if age >= 18:\n",
    "    print(\"You are an adult.\")\n",
    "else:\n",
    "    print(\"You are a minor.\") "
   ]
  },
  {
   "cell_type": "code",
   "execution_count": 5,
   "id": "13e107c0",
   "metadata": {},
   "outputs": [
    {
     "data": {
      "text/plain": [
       "True"
      ]
     },
     "execution_count": 5,
     "metadata": {},
     "output_type": "execute_result"
    }
   ],
   "source": [
    "age >= 19"
   ]
  },
  {
   "cell_type": "code",
   "execution_count": 7,
   "id": "db9fa5c6",
   "metadata": {},
   "outputs": [
    {
     "name": "stdout",
     "output_type": "stream",
     "text": [
      "You are a minor.\n"
     ]
    }
   ],
   "source": [
    "## else\n",
    "## The else statement executes a block of code if the condition in the if statement is False.\n",
    "\n",
    "age = 20\n",
    "if age >= 28:\n",
    "    print(\"You are an adult.\")\n",
    "else:\n",
    "    print(\"You are a minor.\")"
   ]
  },
  {
   "cell_type": "code",
   "execution_count": 11,
   "id": "0bca8011",
   "metadata": {},
   "outputs": [
    {
     "name": "stdout",
     "output_type": "stream",
     "text": [
      "You are an adult.\n"
     ]
    }
   ],
   "source": [
    "## elif\n",
    "## The elif statement allows you to check multiple conditions. It stands for \"else if\"\n",
    "\n",
    "age = int(input(\"Enter your age: \"))\n",
    "if age >= 18:\n",
    "    print(\"You are an adult.\")\n",
    "elif age >= 13:\n",
    "    print(\"You are a teenager.\")\n",
    "else:\n",
    "    print(\"You are a child.\")"
   ]
  },
  {
   "cell_type": "code",
   "execution_count": 15,
   "id": "01e1bf3c",
   "metadata": {},
   "outputs": [
    {
     "name": "stdout",
     "output_type": "stream",
     "text": [
      "Thenumber is zero or negative.\n"
     ]
    }
   ],
   "source": [
    "## Nested Condiitonal Statements\n",
    "\n",
    "# You can place one or more if, elif, or else statements inside another if, elif, or else statement to create nested conditional statements.\n",
    "\n",
    "## number even ,odd,negative\n",
    "\n",
    "number = int(input(\"Enter a number: \"))\n",
    "if number >0:\n",
    "  print(\"The number is positive.\")\n",
    "  if number%2 == 0:\n",
    "    print(\"The number is even.\")\n",
    "  else:\n",
    "    print(\"The number is odd.\")\n",
    "else:\n",
    "  print(\"Thenumber is zero or negative.\")"
   ]
  },
  {
   "cell_type": "code",
   "execution_count": 17,
   "id": "e6131c8f",
   "metadata": {},
   "outputs": [
    {
     "name": "stdout",
     "output_type": "stream",
     "text": [
      "2022 is not a leap year.\n"
     ]
    }
   ],
   "source": [
    "## Practical Examples\n",
    "\n",
    "## Determine if a year is a leap year using nested condition statement\n",
    "\n",
    "year = int(input(\"Enter the year:\"))\n",
    "if year %4 == 0:\n",
    "  if year %100 == 0:\n",
    "    if year %400 == 0:\n",
    "      print(year, \"is a leap year.\")\n",
    "    else:\n",
    "      print(year, \"is not a leap year.\")\n",
    "  else:\n",
    "    print(year, \"is a leap year.\")\n",
    "else:\n",
    "  print(year, \"is not a leap year.\")"
   ]
  },
  {
   "cell_type": "code",
   "execution_count": 25,
   "id": "b56452ac",
   "metadata": {},
   "outputs": [
    {
     "name": "stdout",
     "output_type": "stream",
     "text": [
      "Result:  0.3333333333333333\n"
     ]
    }
   ],
   "source": [
    "## Assignment\n",
    "## Simple Calculator program\n",
    "# Take user input\n",
    "\n",
    "num1 = float(input(\"Enter first number: \"))\n",
    "num2 = float(input(\"Enter second number: \"))\n",
    "op = input(\"Enter operator (+, -, *, /): \")\n",
    "\n",
    "if op == '+':\n",
    "    result = num1 + num2\n",
    "elif op == '-':\n",
    "    result = num1 - num2\n",
    "elif op == '*':\n",
    "    result = num1 * num2\n",
    "elif op == '/':\n",
    "    if num2 != 0:\n",
    "        result = num1 / num2\n",
    "    else:\n",
    "        print(\"Error: Division by zero is not allowed.\")\n",
    "else:\n",
    "    print(\"Error: Invalid operator. Please use +, -, *, or /.\")\n",
    "\n",
    "print(\"Result: \", result)"
   ]
  },
  {
   "cell_type": "code",
   "execution_count": 27,
   "id": "8c1089e7",
   "metadata": {},
   "outputs": [
    {
     "name": "stdout",
     "output_type": "stream",
     "text": [
      "Your ticket price is: Free\n"
     ]
    }
   ],
   "source": [
    "### Determine the ticket price based on age and whether the person is a student.\n",
    "# Ticket pricing based on age and student status\n",
    "age = int(input(\"Enter your age: \"))\n",
    "is_student = input(\"Are you a student? (yes/no): \").lower()\n",
    "\n",
    "if age < 5:\n",
    "    ticket_price = \"Free\"\n",
    "elif age <=12:\n",
    "    ticket_price = \"$10\"\n",
    "elif age <= 17:\n",
    "    if is_student == \"yes\":\n",
    "        ticket_price = \"$12\"\n",
    "    else:\n",
    "        ticket_price = \"$15\"\n",
    "elif age <= 64:\n",
    "    if is_student == \"yes\":\n",
    "        ticket_price = \"$20\"\n",
    "    else:\n",
    "        ticket_price = \"$25\"\n",
    "else:\n",
    "    ticket_price = \"$18\"\n",
    "\n",
    "print(f\"Your ticket price is: {ticket_price}\")"
   ]
  },
  {
   "cell_type": "code",
   "execution_count": 7,
   "id": "1925e8f6",
   "metadata": {},
   "outputs": [
    {
     "name": "stdout",
     "output_type": "stream",
     "text": [
      "Your bonus amount is: 3497.8$\n"
     ]
    }
   ],
   "source": [
    "# Employee bonus calculation\n",
    "\n",
    "# Take user input\n",
    "\n",
    "y_ser = int(input(\"Enter the year of service: \"))\n",
    "p_rat = float(input(\"Enter the performance rating (1-5): \"))\n",
    "\n",
    "if p_rat >= 4.5:\n",
    "  if y_ser >10:\n",
    "    bonus_per = 20\n",
    "  elif y_ser >= 5:\n",
    "    bonus_per = 15\n",
    "  else:\n",
    "    bonus_per = 10\n",
    "elif p_rat >= 3.5:\n",
    "  if y_ser >10:\n",
    "    bonus_per = 15\n",
    "  elif y_ser >= 5:\n",
    "    bonus_per = 10  \n",
    "  else:\n",
    "    bonus_per = 5\n",
    "else:\n",
    "  bonus_per = 0\n",
    "\n",
    "salary = float(input(\"Enter the current salary: \"))\n",
    "bonus_amount = (bonus_per / 100) * salary\n",
    "print(f\"Your bonus amount is: {bonus_amount}$\")"
   ]
  },
  {
   "cell_type": "code",
   "execution_count": null,
   "id": "90f47133",
   "metadata": {},
   "outputs": [],
   "source": [
    "# User login system\n",
    "\n",
    "# Predefined username and password\n",
    "\n",
    "username = \"user123\"\n",
    "password = \"pass123\"\n",
    "\n",
    "user_input = input(\"Enter your username: \")\n",
    "pas_input = input(\"Enter your password: \")  \n",
    "\n",
    "if user_input == username and pas_input == password:\n",
    "    print(\"Login successful!\")\n",
    "else:\n",
    "    print(\"Login failed! Invalid username or password.\")"
   ]
  }
 ],
 "metadata": {
  "kernelspec": {
   "display_name": "base",
   "language": "python",
   "name": "python3"
  },
  "language_info": {
   "codemirror_mode": {
    "name": "ipython",
    "version": 3
   },
   "file_extension": ".py",
   "mimetype": "text/x-python",
   "name": "python",
   "nbconvert_exporter": "python",
   "pygments_lexer": "ipython3",
   "version": "3.12.7"
  }
 },
 "nbformat": 4,
 "nbformat_minor": 5
}
