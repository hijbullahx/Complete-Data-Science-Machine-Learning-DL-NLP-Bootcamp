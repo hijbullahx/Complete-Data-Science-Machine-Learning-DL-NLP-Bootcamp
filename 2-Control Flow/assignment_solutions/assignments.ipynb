{
 "cells": [
  {
   "cell_type": "markdown",
   "metadata": {},
   "source": [
    "# Module 2: Control Flow Assignments\n",
    "## Lesson 2.1: Conditional Statements\n",
    "### Assignment 1: Simple if Statement\n",
    "\n",
    "Write a program that asks the user to input a number and prints whether the number is positive.\n",
    "\n",
    "### Assignment 2: if-else Statement\n",
    "\n",
    "Write a program that asks the user to input a number and prints whether the number is positive or negative.\n",
    "\n",
    "### Assignment 3: if-elif-else Statement\n",
    "\n",
    "Write a program that asks the user to input a number and prints whether the number is positive, negative, or zero.\n",
    "\n",
    "### Assignment 4: Nested if Statement\n",
    "\n",
    "Write a program that asks the user to input a number and prints whether the number is positive and even, positive and odd, or negative.\n",
    "\n",
    "## Lesson 2.2: Loops\n",
    "### Assignment 5: for Loop\n",
    "\n",
    "Write a program that prints all the numbers from 1 to 10 using a for loop.\n",
    "\n",
    "### Assignment 6: while Loop\n",
    "\n",
    "Write a program that prints all the numbers from 1 to 10 using a while loop.\n",
    "\n",
    "### Assignment 7: Nested Loops\n",
    "\n",
    "Write a program that prints a 5x5 grid of asterisks (*) using nested loops.\n",
    "\n",
    "### Assignment 8: break Statement\n",
    "\n",
    "Write a program that asks the user to input numbers until they input 0. The program should print the sum of all the input numbers.\n",
    "\n",
    "### Assignment 9: continue Statement\n",
    "\n",
    "Write a program that prints all the numbers from 1 to 10 except 5 using a for loop and continue statement.\n",
    "\n",
    "### Assignment 10: pass Statement\n",
    "\n",
    "Write a program that defines an empty function using the pass statement.\n",
    "\n",
    "### Assignment 11: Combining Loops and Conditionals\n",
    "\n",
    "Write a program that asks the user to input a number and prints all the even numbers from 1 to that number using a for loop.\n",
    "\n",
    "### Assignment 12: Factorial Calculation\n",
    "\n",
    "Write a program that calculates the factorial of a number input by the user using a while loop.\n",
    "\n",
    "### Assignment 13: Sum of Digits\n",
    "\n",
    "Write a program that calculates the sum of the digits of a number input by the user using a while loop.\n",
    "\n",
    "### Assignment 14: Prime Number Check\n",
    "\n",
    "Write a program that checks if a number input by the user is a prime number using a for loop.\n",
    "\n",
    "### Assignment 15: Fibonacci Sequence\n",
    "\n",
    "Write a program that prints the first n Fibonacci numbers, where n is input by the user."
   ]
  },
  {
   "cell_type": "code",
   "execution_count": 5,
   "id": "5ac971fb",
   "metadata": {},
   "outputs": [
    {
     "name": "stdout",
     "output_type": "stream",
     "text": [
      "The number is positive.\n"
     ]
    }
   ],
   "source": [
    "### Assignment 1: Simple if Statement\n",
    "\n",
    "#Write a program that asks the user to input a number and prints whether the number is positive.\n",
    "\n",
    "n = float(input(\"Please enter a number: \"))\n",
    "if n> 0:\n",
    "    print(\"The number is positive.\")\n"
   ]
  },
  {
   "cell_type": "code",
   "execution_count": 8,
   "metadata": {},
   "outputs": [
    {
     "name": "stdout",
     "output_type": "stream",
     "text": [
      "The number is not positive.\n"
     ]
    }
   ],
   "source": [
    "### Assignment 2: if-else Statement\n",
    "\n",
    "#Write a program that asks the user to input a number and prints whether the number is positive or negative.\n",
    "\n",
    "\n",
    "n = float(input(\"Please enter a number: \"))\n",
    "if n> 0:\n",
    "    print(\"The number is positive.\")\n",
    "else:\n",
    "    print(\"The number is not positive.\")\n"
   ]
  },
  {
   "cell_type": "code",
   "execution_count": 10,
   "id": "8841b2d2",
   "metadata": {},
   "outputs": [
    {
     "name": "stdout",
     "output_type": "stream",
     "text": [
      "The number is positive.\n"
     ]
    }
   ],
   "source": [
    "### Assignment 3: if-elif-else Statement\n",
    "\n",
    "#Write a program that asks the user to input a number and prints whether the number is positive, negative, or zero.\n",
    "n = float(input(\"Please enter a number: \"))\n",
    "if n > 0:\n",
    "    print(\"The number is positive.\")\n",
    "elif n < 0:\n",
    "    print(\"The number is negative.\")  \n",
    "else:\n",
    "    print(\"The number is zero.\")"
   ]
  },
  {
   "cell_type": "code",
   "execution_count": 16,
   "id": "ee274cb5",
   "metadata": {},
   "outputs": [
    {
     "name": "stdout",
     "output_type": "stream",
     "text": [
      "The number is positive and even.\n"
     ]
    }
   ],
   "source": [
    "### Assignment 4: Nested if Statement\n",
    "\n",
    "#Write a program that asks the user to input a number and prints whether the number is positive and even, positive and odd, or negative.\n",
    "n = float(input(\"Enter a number: \"))\n",
    "if n > 0:\n",
    "  if n % 2 == 0:\n",
    "    print(\"The number is positive and even.\")\n",
    "  else:\n",
    "    print(\"The number is positive and odd.\")\n",
    "else:\n",
    "  print(\"The number is negative.\")"
   ]
  },
  {
   "cell_type": "code",
   "execution_count": 18,
   "id": "49b4c68a",
   "metadata": {},
   "outputs": [
    {
     "name": "stdout",
     "output_type": "stream",
     "text": [
      "1\n",
      "2\n",
      "3\n",
      "4\n",
      "5\n",
      "6\n",
      "7\n",
      "8\n",
      "9\n",
      "10\n"
     ]
    }
   ],
   "source": [
    "### Assignment 5: for Loop\n",
    "\n",
    "#Write a program that prints all the numbers from 1 to 10 using a for loop.\n",
    "for i in range(1, 11):\n",
    "    print(i)"
   ]
  },
  {
   "cell_type": "code",
   "execution_count": 19,
   "id": "078c82ad",
   "metadata": {},
   "outputs": [
    {
     "name": "stdout",
     "output_type": "stream",
     "text": [
      "1\n",
      "2\n",
      "3\n",
      "4\n",
      "5\n",
      "6\n",
      "7\n",
      "8\n",
      "9\n",
      "10\n"
     ]
    }
   ],
   "source": [
    "### Assignment 6: while Loop\n",
    "\n",
    "#Write a program that prints all the numbers from 1 to 10 using a while loop.\n",
    "n= 1\n",
    "while n< 11:\n",
    "  print(n)\n",
    "  n+=1"
   ]
  },
  {
   "cell_type": "code",
   "execution_count": 21,
   "id": "803bd298",
   "metadata": {},
   "outputs": [
    {
     "name": "stdout",
     "output_type": "stream",
     "text": [
      "* * * * * \n",
      "* * * * * \n",
      "* * * * * \n",
      "* * * * * \n",
      "* * * * * \n"
     ]
    }
   ],
   "source": [
    "### Assignment 7: Nested Loops\n",
    "\n",
    "#Write a program that prints a 5x5 grid of asterisks (*) using nested loops.\n",
    "\n",
    "for i in range(5):\n",
    "  for j in range(5):\n",
    "    print(\"*\", end = \" \")\n",
    "  print()  # Move to the next line after each row\n"
   ]
  },
  {
   "cell_type": "code",
   "execution_count": 24,
   "id": "e4aa2c1b",
   "metadata": {},
   "outputs": [
    {
     "name": "stdout",
     "output_type": "stream",
     "text": [
      "The sum of the numbers is: 0\n"
     ]
    }
   ],
   "source": [
    "### Assignment 8: break Statement\n",
    "\n",
    "#Write a program that asks the user to input numbers until they input 0. The program should print the sum of all the input numbers.\n",
    "n = 0\n",
    "while True:\n",
    "  num = int(input(\"Enter a number (0 to stop): \"))\n",
    "  if num == 0:\n",
    "    break\n",
    "  n += num\n",
    "print(\"The sum of the numbers is:\", n)  \n"
   ]
  },
  {
   "cell_type": "code",
   "execution_count": 28,
   "id": "0330a704",
   "metadata": {},
   "outputs": [
    {
     "name": "stdout",
     "output_type": "stream",
     "text": [
      "1\n",
      "2\n",
      "3\n",
      "4\n",
      "Skipping 5\n",
      "6\n",
      "7\n",
      "8\n",
      "9\n",
      "10\n"
     ]
    }
   ],
   "source": [
    "### Assignment 9: continue Statement\n",
    "\n",
    "#Write a program that prints all the numbers from 1 to 10 except 5 using a for loop and continue statement.\n",
    "for i in range(1,11):\n",
    "  if i == 5:\n",
    "    print(\"Skipping 5\")\n",
    "    continue\n",
    "  print(i)"
   ]
  },
  {
   "cell_type": "code",
   "execution_count": 30,
   "id": "455dc2df",
   "metadata": {},
   "outputs": [],
   "source": [
    "### Assignment 10: pass Statement\n",
    "\n",
    "#Write a program that defines an empty function using the pass statement.\n",
    "\n",
    "def empty_function():\n",
    "    pass \n",
    "# This function does nothing but is syntactically correct.  \n",
    "# It can be called without any issues.\n",
    "empty_function()  # This will not produce any output or error."
   ]
  },
  {
   "cell_type": "code",
   "execution_count": 32,
   "id": "752e803b",
   "metadata": {},
   "outputs": [
    {
     "name": "stdout",
     "output_type": "stream",
     "text": [
      "2\n",
      "4\n",
      "6\n",
      "8\n",
      "10\n",
      "12\n",
      "14\n",
      "16\n",
      "18\n",
      "20\n",
      "22\n"
     ]
    }
   ],
   "source": [
    "### Assignment 11: Combining Loops and Conditionals\n",
    "\n",
    "#Write a program that asks the user to input a number and prints all the even numbers from 1 to that number using a for loop.\n",
    "\n",
    "n = int(input(\"Enter a number: \"))\n",
    "for i in range(1, n+1):\n",
    "  if i % 2 == 0:\n",
    "    print(i)"
   ]
  },
  {
   "cell_type": "code",
   "execution_count": 34,
   "id": "f353b0b8",
   "metadata": {},
   "outputs": [
    {
     "name": "stdout",
     "output_type": "stream",
     "text": [
      "The factorial is: 120\n"
     ]
    }
   ],
   "source": [
    "### Assignment 12: Factorial Calculation\n",
    "\n",
    "#Write a program that calculates the factorial of a number input by the user using a while loop.\n",
    "\n",
    "n = int(input(\"Enter a number to calculate its factorial: \"))\n",
    "factorial = 1\n",
    "while n > 0:\n",
    "    factorial *= n\n",
    "    n -= 1\n",
    "print(\"The factorial is:\", factorial)\n"
   ]
  },
  {
   "cell_type": "code",
   "execution_count": 38,
   "id": "79a0ab94",
   "metadata": {},
   "outputs": [
    {
     "name": "stdout",
     "output_type": "stream",
     "text": [
      "The sum of the digits is: 3\n"
     ]
    }
   ],
   "source": [
    "### Assignment 13: Sum of Digits\n",
    "\n",
    "#Write a program that calculates the sum of the digits of a number input by the user using a while loop.\n",
    "n = int(input(\"Enter a number: \"))\n",
    "s_n = 0\n",
    "while n> 0:\n",
    "   s_n += n%10  # Add the last digit to the sum\n",
    "   n //=10 # Remove the last digit\n",
    "print(\"The sum of the digits is:\", s_n)\n"
   ]
  },
  {
   "cell_type": "code",
   "execution_count": 44,
   "id": "29c4e4d8",
   "metadata": {},
   "outputs": [
    {
     "name": "stdout",
     "output_type": "stream",
     "text": [
      "9 is not a prime number.\n"
     ]
    }
   ],
   "source": [
    "### Assignment 14: Prime Number Check\n",
    "\n",
    "#Write a program that checks if a number input by the user is a prime number using a for loop.\n",
    "n = int(input(\"Enter a number: \"))\n",
    "\n",
    "is_prime = True\n",
    "\n",
    "for i in range(2, int(n**0.5) + 1):\n",
    "  if n % i == 0:\n",
    "    is_prime = False\n",
    "    break\n",
    "if n <= 1:\n",
    "  is_prime = False  \n",
    "if is_prime:\n",
    "  print(n, \"is a prime number.\")  \n",
    "else:\n",
    "  print(n, \"is not a prime number.\")\n",
    "  \n"
   ]
  },
  {
   "cell_type": "code",
   "execution_count": 45,
   "id": "b531aa5f",
   "metadata": {},
   "outputs": [
    {
     "name": "stdout",
     "output_type": "stream",
     "text": [
      "0 1 1 2 3 "
     ]
    }
   ],
   "source": [
    "### Assignment 15: Fibonacci Sequence\n",
    "\n",
    "#Write a program that prints the first n Fibonacci numbers, where n is input by the user.\n",
    "\n",
    "n = int(input(\"Enter the number of Fibonacci numbers to print: \"))\n",
    "a, b = 0, 1\n",
    "for _ in range(n):\n",
    "    print(a, end=' ')\n",
    "    a, b = b, a + b  # Update a and b to the next Fibonacci numbers \n",
    "    "
   ]
  }
 ],
 "metadata": {
  "kernelspec": {
   "display_name": "base",
   "language": "python",
   "name": "python3"
  },
  "language_info": {
   "codemirror_mode": {
    "name": "ipython",
    "version": 3
   },
   "file_extension": ".py",
   "mimetype": "text/x-python",
   "name": "python",
   "nbconvert_exporter": "python",
   "pygments_lexer": "ipython3",
   "version": "3.12.7"
  }
 },
 "nbformat": 4,
 "nbformat_minor": 5
}
