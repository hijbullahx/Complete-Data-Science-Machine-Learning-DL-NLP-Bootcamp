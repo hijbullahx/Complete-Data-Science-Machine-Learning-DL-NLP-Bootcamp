{
 "cells": [
  {
   "cell_type": "code",
   "execution_count": 4,
   "id": "25f1f4fb",
   "metadata": {},
   "outputs": [
    {
     "name": "stdout",
     "output_type": "stream",
     "text": [
      "Don't forget to pay bills!\n",
      "Current To-Do List:\n",
      "- Buy groceries\n",
      "- Walk the dog\n",
      "- clean the house\n",
      "- Pay bills\n",
      "- Call mom\n"
     ]
    }
   ],
   "source": [
    "#Example 1. Manage a To Do List\n",
    "to_do_list = [\"Buy groceries\", \"Walk the dog\", \"Read a book\", \"clean the house\", \"Pay bills\"]\n",
    "\n",
    "#Add a new task\n",
    "to_do_list.append(\"Call mom\")\n",
    "\n",
    "#Remove a task\n",
    "to_do_list.remove(\"Read a book\")\n",
    "\n",
    "#Check if a task is in the list\n",
    "if \"Pay bills\" in to_do_list:\n",
    "  print(\"Don't forget to pay bills!\")\n",
    "\n",
    "#Display the current to-do list\n",
    "print(\"Current To-Do List:\")\n",
    "for task in to_do_list:\n",
    "  print(f\"- {task}\")\n",
    "\n",
    "\n"
   ]
  },
  {
   "cell_type": "code",
   "execution_count": 7,
   "id": "6b937b93",
   "metadata": {},
   "outputs": [
    {
     "name": "stdout",
     "output_type": "stream",
     "text": [
      "Average Grade: 88.67\n",
      "Highest Grade: 99\n",
      "Lowest Grade: 78\n"
     ]
    }
   ],
   "source": [
    "#Example 2. Organizing Student Grades\n",
    "grades = [85, 90, 78, 92, 88]\n",
    "\n",
    "#Add a new grade\n",
    "grades.append(99)\n",
    "\n",
    "#Calculate the average grade\n",
    "avg_grade = sum(grades) / len(grades)\n",
    "print(f\"Average Grade: {avg_grade:.2f}\")\n",
    "\n",
    "#Finind the highest and lowest grades\n",
    "highest_grade = max(grades)\n",
    "lowest_grade = min(grades)\n",
    "print(f\"Highest Grade: {highest_grade}\")\n",
    "print(f\"Lowest Grade: {lowest_grade}\")"
   ]
  },
  {
   "cell_type": "code",
   "execution_count": 10,
   "id": "a145ac88",
   "metadata": {},
   "outputs": [
    {
     "name": "stdout",
     "output_type": "stream",
     "text": [
      "Oranges are available in the inventory.\n",
      "Current Inventory:\n",
      "- Apples\n",
      "- Oranges\n",
      "- Grapes\n",
      "- Pineapples\n"
     ]
    }
   ],
   "source": [
    "#Example 3. Managing an Inventory\n",
    "Inv = [\"Apples\", \"Bananas\", \"Oranges\", \"Grapes\"]\n",
    "\n",
    "#Add a new item to the inventory\n",
    "Inv.append(\"Pineapples\")\n",
    "\n",
    "#Remove an item from the inventory\n",
    "Inv.remove(\"Bananas\")\n",
    "\n",
    "#Check if an item is in the inventory\n",
    "if \"Oranges\" in Inv:\n",
    "    print(\"Oranges are available in the inventory.\")\n",
    "else:\n",
    "    print(\"Oranges are not available in the inventory.\")\n",
    "\n",
    "#Display the current inventory\n",
    "print(\"Current Inventory:\")\n",
    "for item in Inv:\n",
    "    print(f\"- {item}\")\n",
    "  "
   ]
  },
  {
   "cell_type": "code",
   "execution_count": 12,
   "id": "2e2d5d67",
   "metadata": {},
   "outputs": [
    {
     "name": "stdout",
     "output_type": "stream",
     "text": [
      "Number of positive feedbacks: 4\n",
      "User Feedback:\n",
      "- Great service!\n",
      "- Very satisfied\n",
      "- Could be better\n",
      "- Loved the product\n",
      "- Excellent support!\n"
     ]
    }
   ],
   "source": [
    "#Example 4: Collecting User Feedback\n",
    "feedback = [\"Great service!\", \"Very satisfied\", \"Could be better\", \"Loved the product\"]\n",
    "\n",
    "#Add new feedback\n",
    "feedback.append(\"Excellent support!\")\n",
    "\n",
    "#Count specific feedback\n",
    "positive_feedback_count = sum(1 for f in feedback if \"great\" in f.lower() or \"excellent\" in f.lower() or\"loved\" in f.lower()  or \"satisfied\" in f.lower())\n",
    "print(f\"Number of positive feedbacks: {positive_feedback_count}\")\n",
    "\n",
    "#Display all feedback\n",
    "print(\"User Feedback:\")\n",
    "for f in feedback:\n",
    "  print(f\"- {f}\")\n"
   ]
  }
 ],
 "metadata": {
  "kernelspec": {
   "display_name": "base",
   "language": "python",
   "name": "python3"
  },
  "language_info": {
   "codemirror_mode": {
    "name": "ipython",
    "version": 3
   },
   "file_extension": ".py",
   "mimetype": "text/x-python",
   "name": "python",
   "nbconvert_exporter": "python",
   "pygments_lexer": "ipython3",
   "version": "3.12.7"
  }
 },
 "nbformat": 4,
 "nbformat_minor": 5
}
