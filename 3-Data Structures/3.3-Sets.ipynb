{
 "cells": [
  {
   "cell_type": "code",
   "execution_count": 33,
   "id": "cfa90c53",
   "metadata": {},
   "outputs": [
    {
     "name": "stdout",
     "output_type": "stream",
     "text": [
      "{1, 2, 3, 4}\n",
      "<class 'set'>\n"
     ]
    }
   ],
   "source": [
    "##Create a set\n",
    "my_set = {1,3,4,2}\n",
    "print(my_set)\n",
    "print(type(my_set))"
   ]
  },
  {
   "cell_type": "code",
   "execution_count": 34,
   "id": "315f58c3",
   "metadata": {},
   "outputs": [
    {
     "name": "stdout",
     "output_type": "stream",
     "text": [
      "{1, 2, 3}\n",
      "<class 'set'>\n"
     ]
    }
   ],
   "source": [
    "my_empty_set = set([1,2,2,3,3,3,3])\n",
    "print(my_empty_set)\n",
    "print(type(my_empty_set))"
   ]
  },
  {
   "cell_type": "code",
   "execution_count": 35,
   "id": "e3d7ec5d",
   "metadata": {},
   "outputs": [
    {
     "name": "stdout",
     "output_type": "stream",
     "text": [
      "{1, 2, 3, 4, 7}\n",
      "{1, 3, 4, 7}\n",
      "{1, 3, 4, 7}\n"
     ]
    }
   ],
   "source": [
    "### Basics Sets Operation\n",
    "## Adiing and Removing Elements\n",
    "my_set.add(7)\n",
    "print(my_set)\n",
    "my_set.remove(2)\n",
    "print(my_set)\n",
    "my_set.discard(11) # Does not raise an error if the element is not found\n",
    "print(my_set)\n"
   ]
  },
  {
   "cell_type": "code",
   "execution_count": 36,
   "id": "58c67548",
   "metadata": {},
   "outputs": [
    {
     "name": "stdout",
     "output_type": "stream",
     "text": [
      "1\n",
      "{3, 4, 7}\n"
     ]
    }
   ],
   "source": [
    "## pop method\n",
    "reomoved_element = my_set.pop() # Removes and returns an arbitrary element\n",
    "print(reomoved_element)\n",
    "print(my_set)"
   ]
  },
  {
   "cell_type": "code",
   "execution_count": 38,
   "id": "e59a60e0",
   "metadata": {},
   "outputs": [
    {
     "name": "stdout",
     "output_type": "stream",
     "text": [
      "set()\n"
     ]
    }
   ],
   "source": [
    "## clear all the elements\n",
    "my_set.clear() # Removes all elements from the set\n",
    "print(my_set) # Should print an empty set"
   ]
  },
  {
   "cell_type": "code",
   "execution_count": 41,
   "id": "77921f8a",
   "metadata": {},
   "outputs": [
    {
     "name": "stdout",
     "output_type": "stream",
     "text": [
      "True\n",
      "False\n"
     ]
    }
   ],
   "source": [
    "## Set Memebership test\n",
    "my_set = {3,4,5,2,6,3}\n",
    "print(3 in my_set)\n",
    "print(1 in my_set)"
   ]
  },
  {
   "cell_type": "code",
   "execution_count": 47,
   "id": "8156bff4",
   "metadata": {},
   "outputs": [
    {
     "name": "stdout",
     "output_type": "stream",
     "text": [
      "Union: {1, 2, 3, 4, 5, 6}\n",
      "Intersection: {3, 4}\n",
      "Updated set1 with intersection: {3, 4}\n"
     ]
    }
   ],
   "source": [
    "## Mathematical Operation\n",
    "set1 = {1,2,3,4}\n",
    "set2 = {3,4,5,6}\n",
    "\n",
    "# Union\n",
    "union_set = set1.union(set2)\n",
    "print(\"Union:\", union_set)\n",
    "\n",
    "# Intersection\n",
    "intersection_set = set1.intersection(set2)\n",
    "print(\"Intersection:\", intersection_set)\n",
    "\n",
    "set1.intersection_update(set2) # Updates set1 with the intersection\n",
    "print(\"Updated set1 with intersection:\", set1)\n"
   ]
  },
  {
   "cell_type": "code",
   "execution_count": 49,
   "id": "c0201789",
   "metadata": {},
   "outputs": [
    {
     "name": "stdout",
     "output_type": "stream",
     "text": [
      "Difference (set1 - set2): {1, 2}\n"
     ]
    }
   ],
   "source": [
    "# Difference\n",
    "set1 = {1, 2, 3, 4}\n",
    "set2 = {3, 4, 5, 6}\n",
    "difference_set = set1.difference(set2)\n",
    "print(\"Difference (set1 - set2):\", difference_set)\n"
   ]
  },
  {
   "cell_type": "code",
   "execution_count": 51,
   "id": "073e3835",
   "metadata": {},
   "outputs": [
    {
     "data": {
      "text/plain": [
       "{5, 6}"
      ]
     },
     "execution_count": 51,
     "metadata": {},
     "output_type": "execute_result"
    }
   ],
   "source": [
    "set2.difference(set1)"
   ]
  },
  {
   "cell_type": "code",
   "execution_count": 53,
   "id": "3062edbc",
   "metadata": {},
   "outputs": [
    {
     "name": "stdout",
     "output_type": "stream",
     "text": [
      "Symmetric Difference: {1, 2, 5, 6}\n"
     ]
    }
   ],
   "source": [
    "#Symmetric Difference\n",
    "symmetric_difference_set = set1.symmetric_difference(set2)\n",
    "print(\"Symmetric Difference:\", symmetric_difference_set)"
   ]
  },
  {
   "cell_type": "code",
   "execution_count": 60,
   "id": "92009401",
   "metadata": {},
   "outputs": [
    {
     "name": "stdout",
     "output_type": "stream",
     "text": [
      "True\n",
      "False\n"
     ]
    }
   ],
   "source": [
    "#sets methods\n",
    "set1 = {1, 2, 3, 4}\n",
    "set2 = {3, 4}\n",
    "#sis ubset\n",
    "print(set2.issubset(set1))\n",
    "print(set2.issuperset(set1))\n"
   ]
  },
  {
   "cell_type": "code",
   "execution_count": 63,
   "id": "6a6f8029",
   "metadata": {},
   "outputs": [
    {
     "data": {
      "text/plain": [
       "{1, 2, 3, 4, 5}"
      ]
     },
     "execution_count": 63,
     "metadata": {},
     "output_type": "execute_result"
    }
   ],
   "source": [
    "lst = [1, 2, 3, 3, 4, 5,5,5]\n",
    "set(lst) # Converts the list to a set, removing duplicates\n"
   ]
  },
  {
   "cell_type": "code",
   "execution_count": 65,
   "id": "498196a2",
   "metadata": {},
   "outputs": [
    {
     "name": "stdout",
     "output_type": "stream",
     "text": [
      "Unique words: {'text', 'words', 'is', 'This', 'some', 'a', 'sample', 'with'}\n",
      "Number of unique words: 8\n"
     ]
    }
   ],
   "source": [
    "### Counting Unique words in text\n",
    "text = \"This is a sample text with some sample words\"\n",
    "words = text.split()\n",
    "\n",
    "## convert list of words to set to get unique words\n",
    "\n",
    "unique_words = set(words)\n",
    "print(\"Unique words:\", unique_words)\n",
    "print(\"Number of unique words:\", len(unique_words))"
   ]
  }
 ],
 "metadata": {
  "kernelspec": {
   "display_name": "base",
   "language": "python",
   "name": "python3"
  },
  "language_info": {
   "codemirror_mode": {
    "name": "ipython",
    "version": 3
   },
   "file_extension": ".py",
   "mimetype": "text/x-python",
   "name": "python",
   "nbconvert_exporter": "python",
   "pygments_lexer": "ipython3",
   "version": "3.12.7"
  }
 },
 "nbformat": 4,
 "nbformat_minor": 5
}
