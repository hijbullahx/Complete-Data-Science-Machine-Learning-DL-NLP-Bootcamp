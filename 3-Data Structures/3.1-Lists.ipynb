{
 "cells": [
  {
   "cell_type": "code",
   "execution_count": 1,
   "id": "8e1ee3fa",
   "metadata": {},
   "outputs": [
    {
     "name": "stdout",
     "output_type": "stream",
     "text": [
      "<class 'list'>\n"
     ]
    }
   ],
   "source": [
    "lst = []\n",
    "print(type(lst))"
   ]
  },
  {
   "cell_type": "code",
   "execution_count": 37,
   "id": "7d385633",
   "metadata": {},
   "outputs": [
    {
     "name": "stdout",
     "output_type": "stream",
     "text": [
      "['Hijbullah', 'Hassan', 'Husain', 'Hussain']\n"
     ]
    }
   ],
   "source": [
    "names = [\"Hijbullah\", \"Hassan\", \"Husain\", \"Hussain\"]\n",
    "print(names)"
   ]
  },
  {
   "cell_type": "code",
   "execution_count": 38,
   "id": "1f353ede",
   "metadata": {},
   "outputs": [
    {
     "name": "stdout",
     "output_type": "stream",
     "text": [
      "[1, 2.5, 'Husain', True, None]\n"
     ]
    }
   ],
   "source": [
    "mixed_List = [1, 2.5, \"Husain\", True, None]\n",
    "print(mixed_List)"
   ]
  },
  {
   "cell_type": "code",
   "execution_count": 39,
   "id": "70dc718d",
   "metadata": {},
   "outputs": [
    {
     "name": "stdout",
     "output_type": "stream",
     "text": [
      "Apple\n",
      "Banana\n",
      "Date\n",
      "Cherry\n"
     ]
    }
   ],
   "source": [
    "### Accessing List Elements\n",
    "fruits = [\"Apple\", \"Banana\", \"Cherry\", \"Date\"]\n",
    "print(fruits[0])  # First element\n",
    "print(fruits[1])  # Second element\n",
    "print(fruits[-1])  # Last element\n",
    "print(fruits[-2])  # Second last element"
   ]
  },
  {
   "cell_type": "code",
   "execution_count": 40,
   "id": "6595e3b2",
   "metadata": {},
   "outputs": [
    {
     "name": "stdout",
     "output_type": "stream",
     "text": [
      "['Banana', 'Cherry']\n",
      "['Apple', 'Banana']\n",
      "['Cherry', 'Date']\n",
      "['Banana', 'Cherry']\n",
      "['Banana', 'Cherry', 'Date']\n"
     ]
    }
   ],
   "source": [
    "print(fruits[1:3])  # Slicing from index 1 to 2 (exclusive of 3)\n",
    "print(fruits[:2])   # Slicing from start to index 1 (exclusive of 2)\n",
    "print(fruits[2:])  # Slicing from index 2 to the end\n",
    "print(fruits[-3:-1])  # Slicing from third last to second last element\n",
    "print(fruits[1:])  # Slicing from index 1 to the end"
   ]
  },
  {
   "cell_type": "code",
   "execution_count": 41,
   "id": "423933a9",
   "metadata": {},
   "outputs": [
    {
     "name": "stdout",
     "output_type": "stream",
     "text": [
      "['Apple', 'Blueberry', 'Cherry', 'Date']\n"
     ]
    }
   ],
   "source": [
    "## Modifying The List elements\n",
    "fruits[1] = \"Blueberry\"  # Change second element\n",
    "print(fruits)\n"
   ]
  },
  {
   "cell_type": "code",
   "execution_count": 43,
   "id": "bffa5a16",
   "metadata": {},
   "outputs": [
    {
     "name": "stdout",
     "output_type": "stream",
     "text": [
      "['Apple', 'Blueberry', 'Cherry', 'Date', 'orange', 'orange']\n"
     ]
    }
   ],
   "source": [
    "## List Methods\n",
    "fruits.append(\"orange\")  # Add an element to the end\n",
    "print(fruits)"
   ]
  },
  {
   "cell_type": "code",
   "execution_count": 50,
   "id": "4c3ad219",
   "metadata": {},
   "outputs": [
    {
     "name": "stdout",
     "output_type": "stream",
     "text": [
      "['Apple', 'Mango', 'Mango', 'Mango', 'Mango', 'Blueberry', 'Cherry', 'Date', 'orange', 'orange']\n"
     ]
    }
   ],
   "source": [
    "fruits.insert(1, \"Mango\")  # Insert an element at index 1\n",
    "print(fruits)\n"
   ]
  },
  {
   "cell_type": "code",
   "execution_count": 51,
   "id": "c6c02b6e",
   "metadata": {},
   "outputs": [
    {
     "name": "stdout",
     "output_type": "stream",
     "text": [
      "['Apple', 'Mango', 'Mango', 'Mango', 'Blueberry', 'Cherry', 'Date', 'orange', 'orange']\n"
     ]
    }
   ],
   "source": [
    "fruits.remove(\"Mango\")  # Remove the first occurrence of \"Mango\"\n",
    "print(fruits)"
   ]
  },
  {
   "cell_type": "code",
   "execution_count": 52,
   "id": "7e7aeeae",
   "metadata": {},
   "outputs": [
    {
     "name": "stdout",
     "output_type": "stream",
     "text": [
      "orange\n",
      "['Apple', 'Mango', 'Mango', 'Mango', 'Blueberry', 'Cherry', 'Date', 'orange']\n"
     ]
    }
   ],
   "source": [
    "## Remove and return the last element\n",
    "popped_fruits = fruits.pop()  # Removes the last element\n",
    "print(popped_fruits)  # Print the removed element\n",
    "print(fruits)  # Print the list after popping\n"
   ]
  },
  {
   "cell_type": "code",
   "execution_count": 55,
   "id": "152dac6a",
   "metadata": {},
   "outputs": [
    {
     "name": "stdout",
     "output_type": "stream",
     "text": [
      "1\n"
     ]
    }
   ],
   "source": [
    "Index = fruits.index(\"Mango\")  # Find the index of \"Banana\"\n",
    "print(Index)  # Print the index of \"Banana\""
   ]
  },
  {
   "cell_type": "code",
   "execution_count": 56,
   "id": "eeb2e501",
   "metadata": {},
   "outputs": [
    {
     "name": "stdout",
     "output_type": "stream",
     "text": [
      "3\n"
     ]
    }
   ],
   "source": [
    "\n",
    "print(fruits.count(\"Mango\"))  # Print the count of \"Mango\""
   ]
  },
  {
   "cell_type": "code",
   "execution_count": 58,
   "id": "43c6342a",
   "metadata": {},
   "outputs": [
    {
     "name": "stdout",
     "output_type": "stream",
     "text": [
      "['Apple', 'Blueberry', 'Cherry', 'Date', 'Mango', 'Mango', 'Mango', 'orange']\n"
     ]
    }
   ],
   "source": [
    "fruits.sort()  # Sort the list in ascending order\n",
    "print(fruits)"
   ]
  },
  {
   "cell_type": "code",
   "execution_count": 59,
   "id": "4bc034e1",
   "metadata": {},
   "outputs": [
    {
     "name": "stdout",
     "output_type": "stream",
     "text": [
      "['orange', 'Mango', 'Mango', 'Mango', 'Date', 'Cherry', 'Blueberry', 'Apple']\n"
     ]
    }
   ],
   "source": [
    "fruits.reverse()  # Reverse the order of the list\n",
    "print(fruits)"
   ]
  },
  {
   "cell_type": "code",
   "execution_count": 60,
   "id": "9e9aff43",
   "metadata": {},
   "outputs": [
    {
     "name": "stdout",
     "output_type": "stream",
     "text": [
      "[]\n"
     ]
    }
   ],
   "source": [
    "fruits.clear()  # Clear the list\n",
    "print(fruits)  # Print the empty list"
   ]
  },
  {
   "cell_type": "code",
   "execution_count": 62,
   "id": "0389fed6",
   "metadata": {},
   "outputs": [
    {
     "name": "stdout",
     "output_type": "stream",
     "text": [
      "[3, 4, 5]\n",
      "[1, 2, 3, 4, 5]\n",
      "[6, 7, 8, 9, 10]\n",
      "[1, 3, 5, 7, 9]\n",
      "[10, 9, 8, 7, 6, 5, 4, 3, 2, 1]\n"
     ]
    }
   ],
   "source": [
    "#Slicing List\n",
    "numbers = [1, 2, 3, 4, 5, 6, 7, 8, 9, 10]\n",
    "print(numbers[2:5])  # Slicing from index 2 to 4 (exclusive of 5)\n",
    "print(numbers[:5])  # Slicing from start to index 2 (exclusive of 3)\n",
    "print(numbers[5:])  # Slicing from index 5 to the end\n",
    "print(numbers[::2])  # Slicing with a step of 2 (every second element)\n",
    "print(numbers[::-1]) # Slicing to reverse the list"
   ]
  },
  {
   "cell_type": "code",
   "execution_count": 65,
   "id": "916f0dc2",
   "metadata": {},
   "outputs": [
    {
     "name": "stdout",
     "output_type": "stream",
     "text": [
      "1\n",
      "2\n",
      "3\n",
      "4\n",
      "5\n",
      "6\n",
      "7\n",
      "8\n",
      "9\n",
      "10\n"
     ]
    }
   ],
   "source": [
    "#Iterating over a List\n",
    "for number in numbers:\n",
    "    print(number)"
   ]
  },
  {
   "cell_type": "code",
   "execution_count": 67,
   "id": "33dfcb84",
   "metadata": {},
   "outputs": [
    {
     "name": "stdout",
     "output_type": "stream",
     "text": [
      "Index: 0, Value: 1\n",
      "Index: 1, Value: 2\n",
      "Index: 2, Value: 3\n",
      "Index: 3, Value: 4\n",
      "Index: 4, Value: 5\n",
      "Index: 5, Value: 6\n",
      "Index: 6, Value: 7\n",
      "Index: 7, Value: 8\n",
      "Index: 8, Value: 9\n",
      "Index: 9, Value: 10\n"
     ]
    }
   ],
   "source": [
    "for index, number in enumerate(numbers):\n",
    "    print(f\"Index: {index}, Value: {number}\")"
   ]
  },
  {
   "cell_type": "code",
   "execution_count": 72,
   "id": "bcbba0f5",
   "metadata": {},
   "outputs": [
    {
     "name": "stdout",
     "output_type": "stream",
     "text": [
      "[0, 1, 4, 9, 16, 25, 36, 49, 64, 81]\n"
     ]
    }
   ],
   "source": [
    "#List comprehension\n",
    "list=[]\n",
    "for x in range(10):\n",
    "  list.append(x**2)\n",
    "print(list)\n"
   ]
  },
  {
   "cell_type": "code",
   "execution_count": 76,
   "id": "0ff16fbf",
   "metadata": {},
   "outputs": [
    {
     "data": {
      "text/plain": [
       "[0, 1, 4, 9, 16, 25, 36, 49, 64, 81]"
      ]
     },
     "execution_count": 76,
     "metadata": {},
     "output_type": "execute_result"
    }
   ],
   "source": [
    "#more shortcut\n",
    "[x**2 for x in range(10)]  # List comprehension to create a list of squares"
   ]
  },
  {
   "cell_type": "code",
   "execution_count": 80,
   "id": "7ca86ef3",
   "metadata": {},
   "outputs": [
    {
     "name": "stdout",
     "output_type": "stream",
     "text": [
      "[0, 1, 4, 9, 16, 25, 36, 49, 64, 81]\n"
     ]
    }
   ],
   "source": [
    "#basic list comprehension\n",
    "\n",
    "sqr = [num**2 for num in range(10)]\n",
    "print(sqr)  # Print the list of squares"
   ]
  },
  {
   "cell_type": "code",
   "execution_count": 82,
   "id": "a3896a57",
   "metadata": {},
   "outputs": [
    {
     "name": "stdout",
     "output_type": "stream",
     "text": [
      "[0, 2, 4, 6, 8]\n"
     ]
    }
   ],
   "source": [
    "#List Comprehension with Conditions\n",
    "even_num = [num for num in range(10) if num %2 == 0 ]  # List comprehension to create a list of even numbers\n",
    "print(even_num)  # Print the list of even numbers"
   ]
  },
  {
   "cell_type": "code",
   "execution_count": 85,
   "id": "d0e821a2",
   "metadata": {},
   "outputs": [
    {
     "name": "stdout",
     "output_type": "stream",
     "text": [
      "[[1, 'a'], [1, 'b'], [1, 'c'], [1, 'd'], [2, 'a'], [2, 'b'], [2, 'c'], [2, 'd'], [3, 'a'], [3, 'b'], [3, 'c'], [3, 'd']]\n"
     ]
    }
   ],
   "source": [
    "#Nested List comprehension\n",
    "lst1 = [1, 2, 3]\n",
    "lst2 = ['a', 'b', 'c', 'd']\n",
    "pair = [[i,j] for i in lst1 for j in lst2]\n",
    "print(pair)  # Print the list of pairs"
   ]
  },
  {
   "cell_type": "code",
   "execution_count": null,
   "id": "120e4415",
   "metadata": {},
   "outputs": [
    {
     "name": "stdout",
     "output_type": "stream",
     "text": [
      "[3, 3, 3]\n"
     ]
    },
    {
     "ename": "",
     "evalue": "",
     "output_type": "error",
     "traceback": [
      "\u001b[1;31mThe Kernel crashed while executing code in the current cell or a previous cell. \n",
      "\u001b[1;31mPlease review the code in the cell(s) to identify a possible cause of the failure. \n",
      "\u001b[1;31mClick <a href='https://aka.ms/vscodeJupyterKernelCrash'>here</a> for more info. \n",
      "\u001b[1;31mView Jupyter <a href='command:jupyter.viewOutput'>log</a> for further details."
     ]
    }
   ],
   "source": [
    "#List Comprehension with fuction calls\n",
    "words = [\"hello\", \"world\", \"python\"]\n",
    "lengths = [len(words) for word in words]  # List comprehension to create a list of lengths of words\n",
    "print(lengths)  # Print the list of lengths"
   ]
  }
 ],
 "metadata": {
  "kernelspec": {
   "display_name": "base",
   "language": "python",
   "name": "python3"
  },
  "language_info": {
   "codemirror_mode": {
    "name": "ipython",
    "version": 3
   },
   "file_extension": ".py",
   "mimetype": "text/x-python",
   "name": "python",
   "nbconvert_exporter": "python",
   "pygments_lexer": "ipython3",
   "version": "3.12.7"
  }
 },
 "nbformat": 4,
 "nbformat_minor": 5
}
