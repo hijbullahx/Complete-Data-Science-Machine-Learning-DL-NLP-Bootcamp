{
 "cells": [
  {
   "cell_type": "code",
   "execution_count": 3,
   "id": "2e0cb82f",
   "metadata": {},
   "outputs": [
    {
     "name": "stdout",
     "output_type": "stream",
     "text": [
      "You have to pay bills.\n",
      "To Do List remaining:\n",
      "- Buy groceries\n",
      "- Finish homework\n",
      "- Pay bills\n",
      "- Schedule meeting\n",
      "- Gp for a walk\n"
     ]
    }
   ],
   "source": [
    "#Exaple 1. Manage A to Do List\n",
    "to_do_lst = [\"Buy groceries\", \"Clean the house\", \"Finish homework\", \"Pay bills\"]\n",
    "\n",
    "# Add a new task\n",
    "to_do_lst.append(\"Schedule meeting\")\n",
    "to_do_lst.append(\"Gp for a walk\")\n",
    "\n",
    "# Remove a task\n",
    "to_do_lst.remove(\"Clean the house\")\n",
    "\n",
    "#Check if a task is in the list\n",
    "if \"Pay bills\" in to_do_lst:\n",
    "  print(\"You have to pay bills.\")\n",
    "\n",
    "# Print the updated to-do list\n",
    "print(\"To Do List remaining:\")\n",
    "for tast in to_do_lst:\n",
    "  print(\"- \" + tast)\n"
   ]
  },
  {
   "cell_type": "code",
   "execution_count": 5,
   "id": "d3272765",
   "metadata": {},
   "outputs": [
    {
     "name": "stdout",
     "output_type": "stream",
     "text": [
      "Avgerage grade: 88.00\n",
      "Highest grade: 95\n",
      "Lowest grade: 78\n"
     ]
    }
   ],
   "source": [
    "#Example 2: Organizing Student Grades\n",
    "grades = [85, 90, 78, 92, 88]\n",
    "\n",
    "# Add a new grade\n",
    "grades.append(95)\n",
    "\n",
    "#Calculate the average grade\n",
    "av_grade = sum(grades) / len(grades)\n",
    "print(f\"Avgerage grade: {av_grade:.2f}\")\n",
    "\n",
    "#Finding the highest and lowest grades\n",
    "highest_grd = max(grades)\n",
    "Lowsest_grd = min(grades)\n",
    "print(f\"Highest grade: {highest_grd}\")  \n",
    "print(f\"Lowest grade: {Lowsest_grd}\")"
   ]
  },
  {
   "cell_type": "code",
   "execution_count": 7,
   "id": "35a9b927",
   "metadata": {},
   "outputs": [
    {
     "name": "stdout",
     "output_type": "stream",
     "text": [
      "Oranges are in stock.\n",
      "Current Inventory:\n",
      "- Apples\n",
      "- Oranges\n",
      "- Grapes\n",
      "- Mangoes\n"
     ]
    }
   ],
   "source": [
    "#Wxample 3: Managing an Inventory\n",
    "inv = [\"Apples\", \"Bananas\", \"Oranges\", \"Grapes\"]\n",
    "\n",
    "# Add a new item\n",
    "inv.append(\"Mangoes\")\n",
    "# Remove an item\n",
    "inv.remove(\"Bananas\")\n",
    "\n",
    "# Check if an item is in the inventory\n",
    "if \"Oranges\" in inv:\n",
    "  print(\"Oranges are in stock.\")\n",
    "else:\n",
    "  print(\"Oranges are not in stock.\")\n",
    "\n",
    "# Print the updated inventory\n",
    "print(\"Current Inventory:\")\n",
    "for item in inv:\n",
    "  print(\"- \" + item)"
   ]
  },
  {
   "cell_type": "code",
   "execution_count": null,
   "id": "92aa565f",
   "metadata": {},
   "outputs": [
    {
     "name": "stdout",
     "output_type": "stream",
     "text": [
      "Number of positive feedbacks: 2\n",
      "User Feedback:\n",
      "- Great product!\n",
      "- Needs improvement\n",
      "- Excellent service\n",
      "- Very satisfied\n"
     ]
    },
    {
     "ename": "",
     "evalue": "",
     "output_type": "error",
     "traceback": [
      "\u001b[1;31mThe Kernel crashed while executing code in the current cell or a previous cell. \n",
      "\u001b[1;31mPlease review the code in the cell(s) to identify a possible cause of the failure. \n",
      "\u001b[1;31mClick <a href='https://aka.ms/vscodeJupyterKernelCrash'>here</a> for more info. \n",
      "\u001b[1;31mView Jupyter <a href='command:jupyter.viewOutput'>log</a> for further details."
     ]
    }
   ],
   "source": [
    "#Exaple 4: Collecting User Feedback\n",
    "feedback = [\"Great product!\", \"Needs improvement\", \"Excellent service\"]\n",
    "\n",
    "# Add new feedback\n",
    "feedback.append(\"Very satisfied\")\n",
    "\n",
    "#Countig specific feedback\n",
    "pos_f_count = sum(1 for comment in feedback if \"Great\" in comment or \"Excellent\" in comment)\n",
    "print(f\"Number of positive feedbacks: {pos_f_count}\")\n",
    "\n",
    "#printing all feedback\n",
    "print(\"User Feedback:\")\n",
    "for c in feedback:\n",
    "  print(\"- \" + c)"
   ]
  }
 ],
 "metadata": {
  "kernelspec": {
   "display_name": "base",
   "language": "python",
   "name": "python3"
  },
  "language_info": {
   "codemirror_mode": {
    "name": "ipython",
    "version": 3
   },
   "file_extension": ".py",
   "mimetype": "text/x-python",
   "name": "python",
   "nbconvert_exporter": "python",
   "pygments_lexer": "ipython3",
   "version": "3.12.7"
  }
 },
 "nbformat": 4,
 "nbformat_minor": 5
}
