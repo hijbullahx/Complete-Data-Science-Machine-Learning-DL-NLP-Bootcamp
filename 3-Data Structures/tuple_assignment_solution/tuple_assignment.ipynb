{
 "cells": [
  {
   "cell_type": "code",
   "execution_count": 3,
   "id": "81523d2a",
   "metadata": {},
   "outputs": [
    {
     "name": "stdout",
     "output_type": "stream",
     "text": [
      "(1, 2, 3, 4, 5, 6, 7, 8, 9, 10)\n"
     ]
    }
   ],
   "source": [
    "### Assignment 1: Creating and Accessing Tuples\n",
    "\n",
    "#Create a tuple with the first 10 positive integers. Print the tuple.\n",
    "tpl_int = tuple(range(1,11))\n",
    "print(tpl_int)"
   ]
  },
  {
   "cell_type": "code",
   "execution_count": 14,
   "id": "f9fd2086",
   "metadata": {},
   "outputs": [
    {
     "name": "stdout",
     "output_type": "stream",
     "text": [
      "Middle:  6\n",
      "First : 1\n",
      "Lase: 10\n"
     ]
    }
   ],
   "source": [
    "\n",
    "### Assignment 2: Accessing Tuple Elements\n",
    "\n",
    "#Print the first, middle, and last elements of the tuple created in Assignment 1.\n",
    "print(f\"Middle:  {tpl_int[len(tpl_int) // 2]}\")\n",
    "print(f\"First : {tpl_int[0]}\")\n",
    "print(f\"Lase: {tpl_int[-1]}\")"
   ]
  },
  {
   "cell_type": "code",
   "execution_count": 18,
   "id": "b57c9deb",
   "metadata": {},
   "outputs": [
    {
     "name": "stdout",
     "output_type": "stream",
     "text": [
      "First three elements: (1, 2, 3)\n",
      "Last three elements: (8, 9, 10)\n",
      "Elements from index 2 to 5: (3, 4, 5, 6) \n"
     ]
    }
   ],
   "source": [
    "\n",
    "### Assignment 3: Tuple Slicing\n",
    "\n",
    "#Print the first three elements, the last three elements, and the elements from index 2 to 5 of the tuple created in Assignment 1.\n",
    "print(f\"First three elements: {tpl_int[:3]}\")\n",
    "print(f\"Last three elements: {tpl_int[-3:]}\")\n",
    "print(f\"Elements from index 2 to 5: {tpl_int[2:6]} \")"
   ]
  },
  {
   "cell_type": "code",
   "execution_count": 4,
   "id": "b67fe63c",
   "metadata": {},
   "outputs": [
    {
     "name": "stdout",
     "output_type": "stream",
     "text": [
      "((1, 2, 3), (4, 5, 6), (7, 8, 9))\n",
      "Matrix: \n",
      "(1, 2, 3)\n",
      "(4, 5, 6)\n",
      "(7, 8, 9)\n",
      "Element at the second row and third column: 6\n"
     ]
    }
   ],
   "source": [
    "\n",
    "### Assignment 4: Nested Tuples\n",
    "\n",
    "#Create a nested tuple representing a 3x3 matrix and print the matrix. Access and print the element at the second row and third column.\n",
    "nstd_tuple = (\n",
    "  (1,2,3),\n",
    "  (4,5,6),\n",
    "  (7,8,9),\n",
    ")\n",
    "print(nstd_tuple)\n",
    "print(\"Matrix: \")\n",
    "for row in nstd_tuple:\n",
    "  print(row)\n",
    "print(f\"Element at the second row and third column: {nstd_tuple[1][2]}\")\n"
   ]
  },
  {
   "cell_type": "code",
   "execution_count": 5,
   "id": "b995dec5",
   "metadata": {},
   "outputs": [
    {
     "name": "stdout",
     "output_type": "stream",
     "text": [
      "Concatenated Tuple: (2, 2, 3, 0, 3, 1, 4, 2)\n"
     ]
    }
   ],
   "source": [
    "### Assignment 5: Tuple Concatenation\n",
    "\n",
    "#Concatenate two tuples: (1, 2, 3) and (4, 5, 6). Print the resulting tuple.\n",
    "tple1 = (2,2,3,0)\n",
    "tple2 = (3,1,4,2)\n",
    "concatened = tple1 + tple2\n",
    "print(f\"Concatenated Tuple: {concatened}\")"
   ]
  },
  {
   "cell_type": "code",
   "execution_count": 8,
   "id": "8f44923d",
   "metadata": {},
   "outputs": [
    {
     "name": "stdout",
     "output_type": "stream",
     "text": [
      "Duplicates of 3 2\n",
      "Index Nnumber of 2: 6\n"
     ]
    }
   ],
   "source": [
    "### Assignment 6: Tuple Methods\n",
    "\n",
    "#Create a tuple with duplicate elements and count the occurrences of an element. Find the index of the first occurrence of an element in the tuple.\n",
    "tpl = (2,2,3,0,3,1,4,2)\n",
    "print(f\"Duplicates of 3 {tpl.count(3)}\")\n",
    "print(f\"Index Nnumber of 2: {tpl.index(4)}\")\n"
   ]
  },
  {
   "cell_type": "code",
   "execution_count": 10,
   "id": "d14b8394",
   "metadata": {},
   "outputs": [
    {
     "name": "stdout",
     "output_type": "stream",
     "text": [
      "5\n"
     ]
    }
   ],
   "source": [
    "\n",
    "### Assignment 7: Unpacking Tuples\n",
    "\n",
    "#Create a tuple with 5 elements and unpack it into 5 variables. Print the variables.\n",
    "u_tpl = (1,2,3,4,5)\n",
    "a,b,c,d,e = u_tpl\n",
    "print(e)"
   ]
  },
  {
   "cell_type": "code",
   "execution_count": 14,
   "id": "df97a643",
   "metadata": {},
   "outputs": [
    {
     "name": "stdout",
     "output_type": "stream",
     "text": [
      "(1, 2, 3, 5, 7, 9)\n"
     ]
    }
   ],
   "source": [
    "\n",
    "### Assignment 8: Tuple Conversion\n",
    "\n",
    "#Convert a list of the first 5 positive integers to a tuple. Print the tuple.\n",
    "lst = [1,2,3,5,7,9]\n",
    "tiple_lst = tuple(lst)\n",
    "print(tiple_lst)\n"
   ]
  },
  {
   "cell_type": "code",
   "execution_count": 16,
   "id": "e17581d6",
   "metadata": {},
   "outputs": [
    {
     "name": "stdout",
     "output_type": "stream",
     "text": [
      "((1, 2, 3), (9, 8, 7), (5, 6, 4))\n"
     ]
    }
   ],
   "source": [
    "\n",
    "### Assignment 9: Tuple of Tuples\n",
    "\n",
    "#Create a tuple containing 3 tuples, each with 3 elements. Print the tuple of tuples.\n",
    "tpl_tple = (\n",
    "  (1,2,3),\n",
    "  (9,8,7),\n",
    "  (5,6,4),\n",
    ")\n",
    "print(tpl_tple)\n"
   ]
  },
  {
   "cell_type": "code",
   "execution_count": 20,
   "id": "692dc9d9",
   "metadata": {},
   "outputs": [
    {
     "name": "stdout",
     "output_type": "stream",
     "text": [
      "(1, 2, 3, 4, 5, 6)\n"
     ]
    }
   ],
   "source": [
    "### Assignment 10: Tuple and List\n",
    "\n",
    "#Create a tuple with the first 5 positive integers. Convert it to a list, append the number 6, and convert it back to a tuple. Print the resulting tuple.\n",
    "tuple_p = (1,2,3,4,5)\n",
    "tpl_lst = list(tuple_p)\n",
    "tpl_lst.append(6)\n",
    "tuple_p = tuple(tpl_lst)\n",
    "print(tuple_p)\n",
    "\n"
   ]
  },
  {
   "cell_type": "code",
   "execution_count": 23,
   "id": "cffa526b",
   "metadata": {},
   "outputs": [
    {
     "name": "stdout",
     "output_type": "stream",
     "text": [
      "hij\n"
     ]
    }
   ],
   "source": [
    "\n",
    "### Assignment 11: Tuple and String\n",
    "\n",
    "#Create a tuple with the characters of a string. Join the tuple elements into a single string. Print the string.\n",
    "tpl = ('h', 'i', 'j')\n",
    "joined_tpl = ''.join(tpl)\n",
    "print(joined_tpl)"
   ]
  },
  {
   "cell_type": "code",
   "execution_count": 25,
   "id": "4d11bbed",
   "metadata": {},
   "outputs": [
    {
     "name": "stdout",
     "output_type": "stream",
     "text": [
      "{(1, 2): 3, (4, 5): 6, (7, 8): 9}\n"
     ]
    }
   ],
   "source": [
    "### Assignment 12: Tuple and Dictionary\n",
    "\n",
    "#Create a dictionary with tuple keys and integer values. Print the dictionary.\n",
    "tpl_dict = {\n",
    "(1,2) : 3,\n",
    "(4,5) : 6,\n",
    "(7,8) : 9,\n",
    "}\n",
    "print(tpl_dict)"
   ]
  },
  {
   "cell_type": "code",
   "execution_count": 27,
   "id": "99d571f9",
   "metadata": {},
   "outputs": [
    {
     "name": "stdout",
     "output_type": "stream",
     "text": [
      "1\n",
      "2\n",
      "3\n",
      "2\n",
      "3\n",
      "4\n",
      "5\n",
      "5\n",
      "6\n"
     ]
    }
   ],
   "source": [
    "### Assignment 13: Nested Tuple Iteration\n",
    "\n",
    "#Create a nested tuple and iterate over the elements, printing each element.\n",
    "n_t = (\n",
    "  (1,2,3),\n",
    "  (2,3,4),\n",
    "  (5,5,6),\n",
    ")\n",
    "for row in n_t:\n",
    "  for el in row:\n",
    "    print(el)"
   ]
  },
  {
   "cell_type": "code",
   "execution_count": 28,
   "id": "b087f1a1",
   "metadata": {},
   "outputs": [
    {
     "name": "stdout",
     "output_type": "stream",
     "text": [
      "{0, 1, 2, 3, 4}\n"
     ]
    }
   ],
   "source": [
    "### Assignment 14: Tuple and Set\n",
    "\n",
    "#Create a tuple with duplicate elements. Convert it to a set to remove duplicates and print the resulting set.\n",
    "dpl_tpl = (2,2,3,0,1,4,2)\n",
    "unique_set = set(dpl_tpl)\n",
    "print(unique_set)"
   ]
  },
  {
   "cell_type": "code",
   "execution_count": 29,
   "id": "1604086c",
   "metadata": {},
   "outputs": [
    {
     "name": "stdout",
     "output_type": "stream",
     "text": [
      "Minimum value: 0\n",
      "Maximum value: 4\n",
      "Summetion: 14\n"
     ]
    }
   ],
   "source": [
    "### Assignment 15: Tuple Functions\n",
    "\n",
    "#Write functions that take a tuple and return the minimum, maximum, and sum of the elements. Print the results for a sample tuple.\n",
    "def min_tpl(tpl):\n",
    "  return min(tpl)\n",
    "def max_tpl(tpl):\n",
    "  return max(tpl)\n",
    "def sum_tpl(tpl):\n",
    "  return sum(tpl)\n",
    "\n",
    "smple_tpl = dpl_tpl\n",
    "print(f\"Minimum value: {min_tpl(smple_tpl)}\")\n",
    "print(f\"Maximum value: {max_tpl(smple_tpl)}\")\n",
    "print(f\"Summetion: {sum_tpl(smple_tpl)}\")\n"
   ]
  }
 ],
 "metadata": {
  "kernelspec": {
   "display_name": "base",
   "language": "python",
   "name": "python3"
  },
  "language_info": {
   "codemirror_mode": {
    "name": "ipython",
    "version": 3
   },
   "file_extension": ".py",
   "mimetype": "text/x-python",
   "name": "python",
   "nbconvert_exporter": "python",
   "pygments_lexer": "ipython3",
   "version": "3.12.7"
  }
 },
 "nbformat": 4,
 "nbformat_minor": 5
}
