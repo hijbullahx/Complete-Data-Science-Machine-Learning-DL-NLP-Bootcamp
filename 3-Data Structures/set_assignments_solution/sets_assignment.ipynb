{
 "cells": [
  {
   "cell_type": "code",
   "execution_count": 12,
   "id": "d6691758",
   "metadata": {},
   "outputs": [
    {
     "name": "stdout",
     "output_type": "stream",
     "text": [
      "{1, 2, 3, 4, 5, 6, 7, 8, 9, 10}\n"
     ]
    }
   ],
   "source": [
    "### Assignment 1: Creating and Accessing Sets\n",
    "\n",
    "#Create a set with the first 10 positive integers. Print the set.\n",
    "p_set = set(range(1,11))\n",
    "print(p_set)"
   ]
  },
  {
   "cell_type": "code",
   "execution_count": 13,
   "id": "e3ff9441",
   "metadata": {},
   "outputs": [
    {
     "name": "stdout",
     "output_type": "stream",
     "text": [
      "After adding 11: {1, 2, 3, 4, 5, 6, 7, 8, 9, 10, 11}\n",
      "After removing 1: {2, 3, 4, 5, 6, 7, 8, 9, 10, 11}\n"
     ]
    }
   ],
   "source": [
    "### Assignment 2: Adding and Removing Elements\n",
    "\n",
    "#Add the number 11 to the set created in Assignment 1. Then remove the number 1 from the set. Print the modified set.\n",
    "p_set.add(11)\n",
    "print(\"After adding 11:\", p_set)\n",
    "p_set.remove(1)\n",
    "print(f\"After removing 1:\", p_set)"
   ]
  },
  {
   "cell_type": "code",
   "execution_count": 18,
   "id": "b486c664",
   "metadata": {},
   "outputs": [
    {
     "name": "stdout",
     "output_type": "stream",
     "text": [
      "Set 1: {1, 2, 3, 4, 5}\n",
      "Set 2: {2, 4, 6, 8, 10}\n",
      "Union: {1, 2, 3, 4, 5, 6, 8, 10}\n",
      "Intersection: {2, 4}\n",
      "Difference (set1-set2): {1, 3, 5}\n",
      "Difference (set2-set1): {8, 10, 6}\n",
      "Symmetric Difference: {1, 3, 5, 6, 8, 10}\n"
     ]
    }
   ],
   "source": [
    "### Assignment 3: Set Operations\n",
    "\n",
    "#Create two sets: one with the first 5 positive integers and another with the first 5 even integers. \n",
    "#Perform and print the results of union, intersection, difference, and symmetric difference operations on these sets.\n",
    "\n",
    "set1 = set(range(1,6))\n",
    "set2 = set(range(2,11,2))\n",
    "print(\"Set 1:\", set1)\n",
    "print(\"Set 2:\", set2)\n",
    "\n",
    "print(f\"Union: {set1.union(set2)}\")\n",
    "print(f\"Intersection: {set1.intersection(set2)}\")\n",
    "print(f\"Difference (set1-set2): {set1.difference(set2)}\")\n",
    "print(f\"Difference (set2-set1): {set2.difference(set1)}\")\n",
    "print(f\"Symmetric Difference: {set1.symmetric_difference(set2)}\")"
   ]
  },
  {
   "cell_type": "code",
   "execution_count": 19,
   "id": "ad5233d1",
   "metadata": {},
   "outputs": [
    {
     "name": "stdout",
     "output_type": "stream",
     "text": [
      "Squares of first 10 positive integers: {64, 1, 4, 36, 100, 9, 16, 49, 81, 25}\n"
     ]
    }
   ],
   "source": [
    "### Assignment 4: Set Comprehensions\n",
    "\n",
    "#Create a new set containing the squares of the first 10 positive integers using a set comprehension. Print the new set.\n",
    "sqr_set = {i**2 for i in range(1,11)}\n",
    "print(\"Squares of first 10 positive integers:\", sqr_set)\n"
   ]
  },
  {
   "cell_type": "code",
   "execution_count": 20,
   "id": "f063b8df",
   "metadata": {},
   "outputs": [
    {
     "name": "stdout",
     "output_type": "stream",
     "text": [
      "Even numbers from the set: {2, 4, 6, 8, 10}\n"
     ]
    }
   ],
   "source": [
    "### Assignment 5: Filtering Sets\n",
    "\n",
    "#Create a new set containing only the even numbers from the set created in Assignment 1 using a set comprehension. Print the new set.\n",
    "even_set = {i for i in p_set if i%2 == 0}\n",
    "print(\"Even numbers from the set:\", even_set)"
   ]
  },
  {
   "cell_type": "code",
   "execution_count": 23,
   "id": "0984900a",
   "metadata": {},
   "outputs": [
    {
     "name": "stdout",
     "output_type": "stream",
     "text": [
      "Set with duplicates: {1, 2, 3, 4, 5}\n",
      "Set after removing duplicates: {1, 3, 5}\n",
      "Unique set: {1, 3, 5}\n"
     ]
    }
   ],
   "source": [
    "### Assignment 6: Set Methods\n",
    "\n",
    "#Create a set with duplicate elements and remove the duplicates using set methods. Print the modified set.\n",
    "dup_set = {1, 2, 2, 3, 4, 4, 5}\n",
    "print(\"Set with duplicates:\", dup_set)\n",
    "dup_set.discard(2) # Remove an element\n",
    "dup_set.discard(4) # Remove another element\n",
    "print(\"Set after removing duplicates:\", dup_set)\n",
    "unique_set = set(dup_set)  # Convert to set to remove duplicates\n",
    "print(\"Unique set:\", unique_set)"
   ]
  },
  {
   "cell_type": "code",
   "execution_count": 24,
   "id": "00623c7a",
   "metadata": {},
   "outputs": [
    {
     "name": "stdout",
     "output_type": "stream",
     "text": [
      "Set A: {1, 2, 3, 4, 5}\n",
      "Set B: {1, 2, 3}\n",
      "Is Set B a subset of Set A? True\n",
      "Is Set A a superset of Set B? True\n"
     ]
    }
   ],
   "source": [
    "### Assignment 7: Subsets and Supersets\n",
    "\n",
    "#Create two sets: one with the first 5 positive integers and another with the first 3 positive integers. \n",
    "#Check if the second set is a subset of the first set and if the first set is a superset of the second set. Print the results.\n",
    "set_a = set(range(1,6))\n",
    "set_b = set(range(1,4))\n",
    "print(\"Set A:\", set_a)\n",
    "print(\"Set B:\", set_b)\n",
    "print(f\"Is Set B a subset of Set A? {set_b.issubset(set_a)}\")\n",
    "print(f\"Is Set A a superset of Set B? {set_a.issuperset(set_b)}\")"
   ]
  },
  {
   "cell_type": "code",
   "execution_count": 25,
   "id": "20f0e745",
   "metadata": {},
   "outputs": [
    {
     "name": "stdout",
     "output_type": "stream",
     "text": [
      "Frozenset with first 5 positive integers: frozenset({1, 2, 3, 4, 5})\n"
     ]
    }
   ],
   "source": [
    "### Assignment 8: Frozenset\n",
    "\n",
    "#Create a frozenset with the first 5 positive integers. Print the frozenset.\n",
    "frozen_set = frozenset(range(1,6))\n",
    "print(\"Frozenset with first 5 positive integers:\", frozen_set)"
   ]
  },
  {
   "cell_type": "code",
   "execution_count": 26,
   "id": "7e4de6a9",
   "metadata": {},
   "outputs": [
    {
     "name": "stdout",
     "output_type": "stream",
     "text": [
      "Original set: {1, 2, 3, 4, 5}\n",
      "Set after converting to list, appending 6, and converting back: {1, 2, 3, 4, 5, 6}\n"
     ]
    }
   ],
   "source": [
    "### Assignment 9: Set and List Conversion\n",
    "\n",
    "#Create a set with the first 5 positive integers. Convert it to a list, append the number 6, and convert it back to a set. Print the resulting set.\n",
    "set_org = set(range(1,6))\n",
    "print(\"Original set:\", set_org)\n",
    "list_from_set = list(set_org)\n",
    "list_from_set.append(6)\n",
    "set_modified = set(list_from_set)\n",
    "print(\"Set after converting to list, appending 6, and converting back:\", set_modified)\n"
   ]
  },
  {
   "cell_type": "code",
   "execution_count": 28,
   "id": "803935fc",
   "metadata": {},
   "outputs": [
    {
     "name": "stdout",
     "output_type": "stream",
     "text": [
      "Dictionary with set keys: {frozenset({1, 2}): 10, frozenset({3, 4}): 20, frozenset({5, 6}): 30, frozenset({8, 7}): 40}\n"
     ]
    }
   ],
   "source": [
    "### Assignment 10: Set and Dictionary\n",
    "\n",
    "#Create a dictionary with set keys and integer values. Print the dictionary.\n",
    "dict_with_set_keys = {\n",
    "  frozenset({1,2}) : 10,\n",
    "  frozenset({3,4}) : 20,\n",
    "  frozenset({5,6}) : 30,\n",
    "  frozenset({7,8}) : 40,\n",
    "}\n",
    "print(\"Dictionary with set keys:\", dict_with_set_keys)\n"
   ]
  },
  {
   "cell_type": "code",
   "execution_count": 30,
   "id": "5d9e3846",
   "metadata": {},
   "outputs": [
    {
     "name": "stdout",
     "output_type": "stream",
     "text": [
      "Iterating over the set:\n",
      "1\n",
      "2\n",
      "3\n",
      "4\n",
      "5\n"
     ]
    }
   ],
   "source": [
    "### Assignment 11: Iterating Over Sets\n",
    "\n",
    "#Create a set and iterate over the elements, printing each element.\n",
    "s = set(range(1,6))\n",
    "print(\"Iterating over the set:\")\n",
    "for elm in s :\n",
    "  print(elm)\n",
    "\n"
   ]
  },
  {
   "cell_type": "code",
   "execution_count": 31,
   "id": "601b4e31",
   "metadata": {},
   "outputs": [
    {
     "name": "stdout",
     "output_type": "stream",
     "text": [
      "Current set: {1, 2, 3, 4, 5}\n",
      "Set after removal: {2, 3, 4, 5}\n",
      "\n",
      "Current set: {2, 3, 4, 5}\n",
      "Set after removal: {3, 4, 5}\n",
      "\n",
      "Current set: {3, 4, 5}\n",
      "Set after removal: {4, 5}\n",
      "\n",
      "Current set: {4, 5}\n",
      "Set after removal: {5}\n",
      "\n",
      "Current set: {5}\n",
      "Set after removal: set()\n",
      "\n"
     ]
    }
   ],
   "source": [
    "### Assignment 12: Removing Elements from Sets\n",
    "\n",
    "#Create a set and remove elements from it until it is empty. Print the set after each removal.\n",
    "s = set(range(1,6))\n",
    "while s:\n",
    "  print(\"Current set:\", s)\n",
    "  s.pop()  # Remove an arbitrary element\n",
    "  print(\"Set after removal:\", s)\n",
    "  print() \n",
    "  \n",
    "  \n"
   ]
  },
  {
   "cell_type": "code",
   "execution_count": 32,
   "id": "117b856f",
   "metadata": {},
   "outputs": [
    {
     "name": "stdout",
     "output_type": "stream",
     "text": [
      "Set A after symmetric difference update with Set B: {1, 2, 4, 5}\n"
     ]
    }
   ],
   "source": [
    "### Assignment 13: Set Symmetric Difference Update\n",
    "#Create two sets and update the first set with the symmetric difference of the two sets. Print the modified first set.\n",
    "set_a = {1, 2, 3}\n",
    "set_b = {3, 4, 5}\n",
    "set_a.symmetric_difference_update(set_b)\n",
    "print(\"Set A after symmetric difference update with Set B:\", set_a)\n",
    "\n"
   ]
  },
  {
   "cell_type": "code",
   "execution_count": 34,
   "id": "d94b9cdd",
   "metadata": {},
   "outputs": [
    {
     "name": "stdout",
     "output_type": "stream",
     "text": [
      "Testing membership in the set:\n",
      "Is 3 in the set? True\n",
      "Is 6 in the set? False\n"
     ]
    }
   ],
   "source": [
    "### Assignment 14: Set Membership Testing\n",
    "\n",
    "#Create a set and test if certain elements are present in the set. Print the results.\n",
    "test_set = {1, 2, 3, 4, 5}\n",
    "print(\"Testing membership in the set:\")\n",
    "print(\"Is 3 in the set?\", 3 in test_set)\n",
    "print(\"Is 6 in the set?\", 6 in test_set)\n"
   ]
  },
  {
   "cell_type": "code",
   "execution_count": 35,
   "id": "a6f95862",
   "metadata": {},
   "outputs": [
    {
     "name": "stdout",
     "output_type": "stream",
     "text": [
      "Set of tuples: {(1, 2), (3, 4), (5, 6)}\n"
     ]
    }
   ],
   "source": [
    "### Assignment 15: Set of Tuples\n",
    "\n",
    "#Create a set containing tuples, where each tuple contains two elements. Print the set.\n",
    "tuple_set = {(1,2), (3,4), (5,6)}\n",
    "print(\"Set of tuples:\", tuple_set)\n"
   ]
  }
 ],
 "metadata": {
  "kernelspec": {
   "display_name": "base",
   "language": "python",
   "name": "python3"
  },
  "language_info": {
   "codemirror_mode": {
    "name": "ipython",
    "version": 3
   },
   "file_extension": ".py",
   "mimetype": "text/x-python",
   "name": "python",
   "nbconvert_exporter": "python",
   "pygments_lexer": "ipython3",
   "version": "3.12.7"
  }
 },
 "nbformat": 4,
 "nbformat_minor": 5
}
