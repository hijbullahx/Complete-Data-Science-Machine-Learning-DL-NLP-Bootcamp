{
 "cells": [
  {
   "cell_type": "code",
   "execution_count": 42,
   "id": "7d762749",
   "metadata": {},
   "outputs": [
    {
     "name": "stdout",
     "output_type": "stream",
     "text": [
      "<class 'dict'>\n"
     ]
    }
   ],
   "source": [
    "#Creating Dictionaries\n",
    "empty_dict = {}\n",
    "print(type(empty_dict))  # Output: <class 'dict'>"
   ]
  },
  {
   "cell_type": "code",
   "execution_count": 43,
   "id": "9eab0047",
   "metadata": {},
   "outputs": [
    {
     "data": {
      "text/plain": [
       "{}"
      ]
     },
     "execution_count": 43,
     "metadata": {},
     "output_type": "execute_result"
    }
   ],
   "source": [
    "empty_dict = dict()\n",
    "empty_dict"
   ]
  },
  {
   "cell_type": "code",
   "execution_count": 44,
   "id": "ee0fe8d9",
   "metadata": {},
   "outputs": [
    {
     "name": "stdout",
     "output_type": "stream",
     "text": [
      "{'name': 'Hijbullah', 'age': 25, 'grade': 'A+'}\n",
      "<class 'dict'>\n"
     ]
    }
   ],
   "source": [
    "student = {\"name\": \"Hijbullah\", \"age\" : 25, \"grade\": \"A+\"}\n",
    "print(student)\n",
    "print(type(student))  # Output: <class 'dict'>"
   ]
  },
  {
   "cell_type": "code",
   "execution_count": 45,
   "id": "845ecf37",
   "metadata": {},
   "outputs": [
    {
     "name": "stdout",
     "output_type": "stream",
     "text": [
      "{'name': '24', 'age': 25, 'grade': 'A+'}\n"
     ]
    }
   ],
   "source": [
    "#Single key is always used\n",
    "student_double_name = {\"name\": \"Hijbullah\", \"age\" : 25, \"grade\": \"A+\", \"name\" : \"24\"}\n",
    "print(student_double_name) "
   ]
  },
  {
   "cell_type": "code",
   "execution_count": 46,
   "id": "2ef21968",
   "metadata": {},
   "outputs": [
    {
     "name": "stdout",
     "output_type": "stream",
     "text": [
      "Hijbullah\n",
      "25\n",
      "A+\n",
      "Not Found\n"
     ]
    }
   ],
   "source": [
    "#Accessing dictionary elements\n",
    "print(student[\"name\"])\n",
    "print(student[\"age\"])\n",
    "\n",
    "# Accessing using get() method\n",
    "print(student.get(\"grade\",\"Not Found\"))\n",
    "print(student.get(\"address\",\"Not Found\"))"
   ]
  },
  {
   "cell_type": "code",
   "execution_count": 47,
   "id": "7fe4a745",
   "metadata": {},
   "outputs": [
    {
     "name": "stdout",
     "output_type": "stream",
     "text": [
      "{'name': 'Hijbullah', 'age': 26, 'grade': 'A+', 'address': 'Uttara, Dhaka'}\n",
      "{'name': 'Hijbullah', 'age': 26, 'address': 'Uttara, Dhaka'}\n"
     ]
    }
   ],
   "source": [
    "## Modifying Dicitonary Elements\n",
    "## Dictionary are mutable,so you can add, update or delete elements\n",
    "student[\"age\"] = 26 # Updating existing key\n",
    "student[\"address\"] = \"Uttara, Dhaka\" # Adding new key-value pair\n",
    "print(student)\n",
    "# Deleting elements\n",
    "del student[\"grade\"]  # Deleting a key-value pair\n",
    "print(student)"
   ]
  },
  {
   "cell_type": "code",
   "execution_count": 48,
   "id": "1baa3bcb",
   "metadata": {},
   "outputs": [
    {
     "name": "stdout",
     "output_type": "stream",
     "text": [
      "dict_keys(['name', 'age', 'address'])\n",
      "dict_values(['Hijbullah', 26, 'Uttara, Dhaka'])\n",
      "dict_items([('name', 'Hijbullah'), ('age', 26), ('address', 'Uttara, Dhaka')])\n"
     ]
    }
   ],
   "source": [
    "## Dictionary methods\n",
    "keys = student.keys() # Returns a view object of all keys\n",
    "print(keys)\n",
    "values = student.values() # Returns a view object of all values\n",
    "print(values)\n",
    "\n",
    "items = student.items() # Returns a view object of all key-value pairs\n",
    "print(items) #List of tuples\n",
    "\n"
   ]
  },
  {
   "cell_type": "code",
   "execution_count": 49,
   "id": "55ac2d73",
   "metadata": {},
   "outputs": [
    {
     "name": "stdout",
     "output_type": "stream",
     "text": [
      "{'name': 'Hijbullah', 'age': 26, 'address': 'Uttara, Dhaka'}\n",
      "{'name': 'Hijbullah', 'age': 26, 'address': 'Uttara, Dhaka'}\n",
      "{'name': 'Taher', 'age': 26, 'address': 'Uttara, Dhaka'}\n",
      "{'name': 'Hijbullah', 'age': 26, 'address': 'Uttara, Dhaka'}\n"
     ]
    }
   ],
   "source": [
    "## shallow copy\n",
    "student_copy = student.copy()  # Creates a shallow copy of the dictionary\n",
    "print(student)\n",
    "print(student_copy)\n",
    "\n",
    "student[\"name\"] = \"Taher\"\n",
    "print(student)\n",
    "print(student_copy)"
   ]
  },
  {
   "cell_type": "code",
   "execution_count": 52,
   "id": "6a2a86af",
   "metadata": {},
   "outputs": [
    {
     "name": "stdout",
     "output_type": "stream",
     "text": [
      "name\n",
      "age\n",
      "address\n"
     ]
    }
   ],
   "source": [
    "### Iterating Over Dictionaries\n",
    "## You can use loops to iterate over dictionatries, keys,values,or items\n",
    "\n",
    "# Iterating over keys\n",
    "for key in student.keys():\n",
    "  print(key)"
   ]
  },
  {
   "cell_type": "code",
   "execution_count": 54,
   "id": "d265c063",
   "metadata": {},
   "outputs": [
    {
     "name": "stdout",
     "output_type": "stream",
     "text": [
      "Taher\n",
      "26\n",
      "Uttara, Dhaka\n"
     ]
    }
   ],
   "source": [
    "#Iterating over values\n",
    "for value in student.values():\n",
    "  print(value)"
   ]
  },
  {
   "cell_type": "code",
   "execution_count": 56,
   "id": "9ab935da",
   "metadata": {},
   "outputs": [
    {
     "name": "stdout",
     "output_type": "stream",
     "text": [
      "name: Taher\n",
      "age: 26\n",
      "address: Uttara, Dhaka\n"
     ]
    }
   ],
   "source": [
    "#Iterateing over key value pairs\n",
    "for key, value in student.items():\n",
    "  print(f\"{key}: {value}\")"
   ]
  },
  {
   "cell_type": "code",
   "execution_count": 58,
   "id": "af88a573",
   "metadata": {},
   "outputs": [
    {
     "name": "stdout",
     "output_type": "stream",
     "text": [
      "{'student1': {'name': 'Hijbullah', 'age': 25, 'grade': 'A+'}, 'student2': {'name': 'Taher', 'age': 24, 'grade': 'A'}, 'student3': {'name': 'Rafi', 'age': 23, 'grade': 'B+'}}\n"
     ]
    }
   ],
   "source": [
    "## Nested Disctionaries\n",
    "students = {\n",
    "  \"student1\" : {\"name\" : \"Hijbullah\", \"age\": 25, \"grade\" : \"A+\"},\n",
    "  \"student2\" : {\"name\" : \"Taher\", \"age\" : 24, \"grade\" : \"A\"},\n",
    "  \"student3\" : {\"name\" : \"Rafi\", \"age\": 23, \"grade\" : \"B+\"}\n",
    "}\n",
    "print(students)"
   ]
  },
  {
   "cell_type": "code",
   "execution_count": 60,
   "id": "48617e16",
   "metadata": {},
   "outputs": [
    {
     "name": "stdout",
     "output_type": "stream",
     "text": [
      "24\n",
      "Rafi\n"
     ]
    }
   ],
   "source": [
    "## Access nested dictionaries elements\n",
    "print(students[\"student2\"][\"age\"])\n",
    "print(students[\"student3\"][\"name\"])"
   ]
  },
  {
   "cell_type": "code",
   "execution_count": 62,
   "id": "37adbec2",
   "metadata": {},
   "outputs": [
    {
     "data": {
      "text/plain": [
       "dict_items([('student1', {'name': 'Hijbullah', 'age': 25, 'grade': 'A+'}), ('student2', {'name': 'Taher', 'age': 24, 'grade': 'A'}), ('student3', {'name': 'Rafi', 'age': 23, 'grade': 'B+'})])"
      ]
     },
     "execution_count": 62,
     "metadata": {},
     "output_type": "execute_result"
    }
   ],
   "source": [
    "students.items()  # Returns a view object of all key-value pairs in the outer dictionary"
   ]
  },
  {
   "cell_type": "code",
   "execution_count": 66,
   "id": "cf7212f5",
   "metadata": {},
   "outputs": [
    {
     "name": "stdout",
     "output_type": "stream",
     "text": [
      "student1 : {'name': 'Hijbullah', 'age': 25, 'grade': 'A+'}\n",
      "name: Hijbullah\n",
      "age: 25\n",
      "grade: A+\n",
      "student2 : {'name': 'Taher', 'age': 24, 'grade': 'A'}\n",
      "name: Taher\n",
      "age: 24\n",
      "grade: A\n",
      "student3 : {'name': 'Rafi', 'age': 23, 'grade': 'B+'}\n",
      "name: Rafi\n",
      "age: 23\n",
      "grade: B+\n"
     ]
    }
   ],
   "source": [
    "## Iterating over nested dictionaries\n",
    "for student_id, student_info in students.items():\n",
    "  print(f\"{student_id} : {student_info}\")\n",
    "  for key, value in student_info.items():\n",
    "    print(f\"{key}: {value}\")"
   ]
  },
  {
   "cell_type": "code",
   "execution_count": 73,
   "id": "622fb741",
   "metadata": {},
   "outputs": [
    {
     "name": "stdout",
     "output_type": "stream",
     "text": [
      "{1: 1, 2: 4, 3: 9, 4: 16, 5: 25, 6: 36, 7: 49, 8: 64, 9: 81, 10: 100}\n"
     ]
    }
   ],
   "source": [
    "## Dictionary Comphrehension\n",
    "squares = {X:X ** 2 for X in range(1,11)}\n",
    "print(squares)"
   ]
  },
  {
   "cell_type": "code",
   "execution_count": 74,
   "id": "c87ca8fb",
   "metadata": {},
   "outputs": [
    {
     "name": "stdout",
     "output_type": "stream",
     "text": [
      "{0: 0, 2: 4, 4: 16, 6: 36, 8: 64}\n"
     ]
    }
   ],
   "source": [
    "## Condition dictionary comprehension\n",
    "even_sqrs = {x:x ** 2 for x in range(10) if x%2 == 0}\n",
    "print(even_sqrs)"
   ]
  },
  {
   "cell_type": "code",
   "execution_count": 77,
   "id": "45be0c0d",
   "metadata": {},
   "outputs": [
    {
     "name": "stdout",
     "output_type": "stream",
     "text": [
      "{1: 1, 2: 2, 3: 3, 4: 4, 7: 2}\n"
     ]
    }
   ],
   "source": [
    "## Practical Examples\n",
    "\n",
    "## USe a dictionary to count he frequency of elements in list\n",
    "\n",
    "numbers = [1, 2, 2, 3, 3, 3, 4, 4, 4, 4,7,7]\n",
    "frequency = {}\n",
    "for number in numbers:\n",
    "  if number in frequency:\n",
    "    frequency[number] += 1\n",
    "  else:\n",
    "    frequency[number] = 1\n",
    "print(frequency)"
   ]
  },
  {
   "cell_type": "code",
   "execution_count": 78,
   "id": "89a28917",
   "metadata": {},
   "outputs": [
    {
     "name": "stdout",
     "output_type": "stream",
     "text": [
      "{'a': 1, 'b': 2, 'c': 3, 'd': 4}\n"
     ]
    }
   ],
   "source": [
    "## Merge 2 dictionaries into one\n",
    "dict1 = {\"a\":1 , \"b\" : 2}\n",
    "dict2 = {\"c\" : 3, \"d\" : 4}\n",
    "merged_dict = {**dict1, **dict2} # Merging two dictionaries\n",
    "print(merged_dict)"
   ]
  }
 ],
 "metadata": {
  "kernelspec": {
   "display_name": "base",
   "language": "python",
   "name": "python3"
  },
  "language_info": {
   "codemirror_mode": {
    "name": "ipython",
    "version": 3
   },
   "file_extension": ".py",
   "mimetype": "text/x-python",
   "name": "python",
   "nbconvert_exporter": "python",
   "pygments_lexer": "ipython3",
   "version": "3.12.7"
  }
 },
 "nbformat": 4,
 "nbformat_minor": 5
}
