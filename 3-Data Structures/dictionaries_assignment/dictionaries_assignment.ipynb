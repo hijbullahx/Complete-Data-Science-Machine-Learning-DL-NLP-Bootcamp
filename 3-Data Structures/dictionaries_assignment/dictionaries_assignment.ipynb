{
 "cells": [
  {
   "cell_type": "code",
   "execution_count": 6,
   "id": "97f7e309",
   "metadata": {},
   "outputs": [
    {
     "name": "stdout",
     "output_type": "stream",
     "text": [
      "{1: 1, 2: 4, 3: 9, 4: 16, 5: 25, 6: 36, 7: 49, 8: 64, 9: 81, 10: 100}\n"
     ]
    }
   ],
   "source": [
    "### Assignment 1: Creating and Accessing Dictionaries\n",
    "\n",
    "#Create a dictionary with the first 10 positive integers as keys and their squares as values. Print the dictionary.\n",
    "p_dict = {h: h**2 for h in range(1,11)}\n",
    "print(p_dict)"
   ]
  },
  {
   "cell_type": "code",
   "execution_count": 7,
   "id": "a68d3a5e",
   "metadata": {},
   "outputs": [
    {
     "name": "stdout",
     "output_type": "stream",
     "text": [
      "Value of key 5: 25\n",
      "Keys: [1, 2, 3, 4, 5, 6, 7, 8, 9, 10]\n"
     ]
    }
   ],
   "source": [
    "### Assignment 2: Accessing Dictionary Elements\n",
    "\n",
    "#Print the value of the key 5 and the keys of the dictionary created in Assignment 1.\n",
    "print(f\"Value of key 5: {p_dict[5]}\")\n",
    "print(f\"Keys: {list(p_dict.keys())}\")"
   ]
  },
  {
   "cell_type": "code",
   "execution_count": 8,
   "id": "55084225",
   "metadata": {},
   "outputs": [
    {
     "name": "stdout",
     "output_type": "stream",
     "text": [
      "Modified dictionary: {2: 4, 3: 9, 4: 16, 5: 25, 6: 36, 7: 49, 8: 64, 9: 81, 10: 100, 11: 121}\n"
     ]
    }
   ],
   "source": [
    "### Assignment 3: Dictionary Methods\n",
    "\n",
    "#Add a new key-value pair (11, 121) to the dictionary created in Assignment 1 and then remove the key-value pair with key 1. Print the modified dictionary.\n",
    "p_dict[11] = 121\n",
    "p_dict.pop(1)\n",
    "print(f\"Modified dictionary: {p_dict}\")"
   ]
  },
  {
   "cell_type": "code",
   "execution_count": 10,
   "id": "ed46935f",
   "metadata": {},
   "outputs": [
    {
     "name": "stdout",
     "output_type": "stream",
     "text": [
      "key: 2, value: 4\n",
      "key: 3, value: 9\n",
      "key: 4, value: 16\n",
      "key: 5, value: 25\n",
      "key: 6, value: 36\n",
      "key: 7, value: 49\n",
      "key: 8, value: 64\n",
      "key: 9, value: 81\n",
      "key: 10, value: 100\n",
      "key: 11, value: 121\n"
     ]
    }
   ],
   "source": [
    "### Assignment 4: Iterating Over Dictionaries\n",
    "\n",
    "#Iterate over the dictionary created in Assignment 1 and print each key-value pair.\n",
    "for key, value in p_dict.items():\n",
    "  print(f\"key: {key}, value: {value}\")"
   ]
  },
  {
   "cell_type": "code",
   "execution_count": 11,
   "id": "47cf4129",
   "metadata": {},
   "outputs": [
    {
     "name": "stdout",
     "output_type": "stream",
     "text": [
      "Cubes dictionary: {1: 1, 2: 8, 3: 27, 4: 64, 5: 125, 6: 216, 7: 343, 8: 512, 9: 729, 10: 1000}\n"
     ]
    }
   ],
   "source": [
    "### Assignment 5: Dictionary Comprehensions\n",
    "\n",
    "#Create a new dictionary containing the cubes of the first 10 positive integers using a dictionary comprehension. Print the new dictionary.\n",
    "cubes_dict = {c: c**3 for c in range(1,11)}\n",
    "print(f\"Cubes dictionary: {cubes_dict}\")"
   ]
  },
  {
   "cell_type": "code",
   "execution_count": null,
   "id": "f4792e95",
   "metadata": {},
   "outputs": [
    {
     "name": "stdout",
     "output_type": "stream",
     "text": [
      "Merged dictionary: {1: 1, 2: 4, 3: 9, 4: 16, 5: 25, 6: 36, 7: 49, 8: 64, 9: 81, 10: 100}\n"
     ]
    }
   ],
   "source": [
    "### Assignment 6: Merging Dictionaries\n",
    "\n",
    "#Create two dictionaries: one with keys as the first 5 positive integers and values as their squares, and another with keys as the next 5 positive integers and values as their squares. \n",
    "#Merge these dictionaries into a single dictionary and print it.\n",
    "dict1 = {i: i**2 for i in range(1,6)}\n",
    "dict2 = {i: i**2 for i in range(6,11)}\n",
    "merged_dict = {**dict1, **dict2}\n",
    "print(f\"Merged dictionary: {merged_dict}\")"
   ]
  },
  {
   "cell_type": "code",
   "execution_count": 14,
   "id": "f92dbee6",
   "metadata": {},
   "outputs": [
    {
     "name": "stdout",
     "output_type": "stream",
     "text": [
      "Nested dictionary: {'name': 'hijbullah', 'age': 25, 'grades': {'math': 90, 'science': 99, 'english': 85}}\n"
     ]
    }
   ],
   "source": [
    "### Assignment 7: Nested Dictionaries\n",
    "\n",
    "#Create a nested dictionary representing a student with keys 'name', 'age', 'grades', where 'grades' is another dictionary with keys 'math', 'science', and 'english'. Print the nested dictionary.\n",
    "student_dict = {\n",
    "  'name' : 'hijbullah',\n",
    "  'age' : 25,\n",
    "  'grades' : {\n",
    "    'math' : 90,\n",
    "    'science' : 99,\n",
    "    'english' : 85\n",
    "  }\n",
    "}\n",
    "print(f\"Nested dictionary: {student_dict}\")"
   ]
  },
  {
   "cell_type": "code",
   "execution_count": 15,
   "id": "9bf23e08",
   "metadata": {},
   "outputs": [
    {
     "name": "stdout",
     "output_type": "stream",
     "text": [
      "Dictionary of lists: {1: [1, 2, 3, 4, 5], 2: [2, 4, 6, 8, 10], 3: [3, 6, 9, 12, 15], 4: [4, 8, 12, 16, 20], 5: [5, 10, 15, 20, 25]}\n"
     ]
    }
   ],
   "source": [
    "### Assignment 8: Dictionary of Lists\n",
    "\n",
    "#Create a dictionary where the keys are the first 5 positive integers and the values are lists containing the first 5 multiples of the key. Print the dictionary.\n",
    "dict_of_list = {i : [i*j for j in range(1,6)] for i in range(1,6)}\n",
    "print(f\"Dictionary of lists: {dict_of_list}\")"
   ]
  },
  {
   "cell_type": "code",
   "execution_count": 16,
   "id": "62989f99",
   "metadata": {},
   "outputs": [
    {
     "name": "stdout",
     "output_type": "stream",
     "text": [
      "Dictionary of tuples: {1: (1, 1), 2: (2, 4), 3: (3, 9), 4: (4, 16), 5: (5, 25)}\n"
     ]
    }
   ],
   "source": [
    "### Assignment 9: Dictionary of Tuples\n",
    "\n",
    "#Create a dictionary where the keys are the first 5 positive integers and the values are tuples containing the key and its square. Print the dictionary.\n",
    "dict_of_tuples = {i : (i, i**2) for i in range(1,6)}\n",
    "print(f\"Dictionary of tuples: {dict_of_tuples}\")"
   ]
  },
  {
   "cell_type": "code",
   "execution_count": 17,
   "id": "3f2dca00",
   "metadata": {},
   "outputs": [
    {
     "name": "stdout",
     "output_type": "stream",
     "text": [
      "Converted dictionary to list of tuples: [(1, 1), (2, 4), (3, 9), (4, 16), (5, 25)]\n"
     ]
    }
   ],
   "source": [
    "### Assignment 10: Dictionary and List Conversion\n",
    "\n",
    "#Create a dictionary with the first 5 positive integers as keys and their squares as values. Convert the dictionary to a list of tuples and print it.\n",
    "m_dict = {i: i**2 for i in range(1,6)}\n",
    "converted_dict_list = list(m_dict.items())\n",
    "print(f\"Converted dictionary to list of tuples: {converted_dict_list}\")"
   ]
  },
  {
   "cell_type": "code",
   "execution_count": 18,
   "id": "d9aa1763",
   "metadata": {},
   "outputs": [
    {
     "name": "stdout",
     "output_type": "stream",
     "text": [
      "Even dictionary: {2: 4, 4: 16, 6: 36, 8: 64, 10: 100}\n"
     ]
    }
   ],
   "source": [
    "### Assignment 11: Dictionary Filtering\n",
    "\n",
    "#Create a dictionary with the first 10 positive integers as keys and their squares as values. Create a new dictionary containing only the key-value pairs where the key is even. Print the new dictionary.\n",
    "dict = {j: j**2 for j in range(1,11)}\n",
    "even_dict = {k: v for k,v in dict.items() if k%2 ==0}\n",
    "print(f\"Even dictionary: {even_dict}\")\n"
   ]
  },
  {
   "cell_type": "code",
   "execution_count": 19,
   "id": "cc12909f",
   "metadata": {},
   "outputs": [
    {
     "name": "stdout",
     "output_type": "stream",
     "text": [
      "Swapped dictionary: {1: 1, 4: 2, 9: 3, 16: 4, 25: 5}\n"
     ]
    }
   ],
   "source": [
    "### Assignment 12: Dictionary Key and Value Transformation\n",
    "\n",
    "#Create a dictionary with the first 5 positive integers as keys and their squares as values. Create a new dictionary with keys and values swapped. Print the new dictionary.\n",
    "p5_dict = {i: i**2 for i in range(1,6)}\n",
    "swapped_dict = {v: k for k, v in p5_dict.items()}\n",
    "print(f\"Swapped dictionary: {swapped_dict}\")"
   ]
  },
  {
   "cell_type": "code",
   "execution_count": 20,
   "id": "6d095a56",
   "metadata": {},
   "outputs": [
    {
     "name": "stdout",
     "output_type": "stream",
     "text": [
      "Default dictionary: defaultdict(<class 'list'>, {'a': [1, 4], 'b': [2], 'c': [3]})\n"
     ]
    }
   ],
   "source": [
    "### Assignment 13: Default Dictionary\n",
    "\n",
    "#Create a default dictionary where each key has a default value of an empty list. Add some elements to the lists and print the dictionary.\n",
    "from collections import defaultdict\n",
    "defaul_dict = defaultdict(list)\n",
    "defaul_dict['a'].append(1)\n",
    "defaul_dict['b'].append(2)\n",
    "defaul_dict['c'].append(3)\n",
    "defaul_dict['a'].append(4)\n",
    "print(f\"Default dictionary: {defaul_dict}\")"
   ]
  },
  {
   "cell_type": "code",
   "execution_count": 22,
   "id": "494f6a4b",
   "metadata": {},
   "outputs": [
    {
     "name": "stdout",
     "output_type": "stream",
     "text": [
      "Character count dictionary: {'H': 1, 'i': 1, 'j': 1, 'b': 1, 'u': 1, 'l': 2, 'a': 1, 'h': 1}\n"
     ]
    }
   ],
   "source": [
    "### Assignment 14: Counting with Dictionaries\n",
    "\n",
    "#Write a function that takes a string and returns a dictionary with the count of each character in the string. Print the dictionary.\n",
    "def count_ch(s):\n",
    "  count_dict = {}\n",
    "  for char in s:\n",
    "    if char in count_dict:\n",
    "      count_dict[char] +=1\n",
    "    else:\n",
    "      count_dict[char] = 1\n",
    "  return count_dict\n",
    "string = \"Hijbullah\"\n",
    "count_dictionary = count_ch(string)\n",
    "print(f\"Character count dictionary: {count_dictionary}\")\n"
   ]
  },
  {
   "cell_type": "code",
   "execution_count": 24,
   "id": "2acde275",
   "metadata": {},
   "outputs": [
    {
     "name": "stdout",
     "output_type": "stream",
     "text": [
      "Book JSON: {\"title\": \"The Great Gatsby\", \"author\": \"F. Scott Fitzgerald\", \"year\": 1925, \"genre\": \"Fiction\"}\n"
     ]
    }
   ],
   "source": [
    "### Assignment 15: Dictionary and JSON\n",
    "\n",
    "#Create a dictionary representing a book with keys 'title', 'author', 'year', and 'genre'. Convert the dictionary to a JSON string and print it.\n",
    "import json \n",
    "book_dict = {\n",
    "  'title' : 'The Great Gatsby',\n",
    "  'author' : 'F. Scott Fitzgerald',\n",
    "  'year' : 1925,\n",
    "  'genre' : 'Fiction'\n",
    "\n",
    "}\n",
    "book_json = json.dumps(book_dict)\n",
    "print(f\"Book JSON: {book_json}\")\n"
   ]
  }
 ],
 "metadata": {
  "kernelspec": {
   "display_name": "base",
   "language": "python",
   "name": "python3"
  },
  "language_info": {
   "codemirror_mode": {
    "name": "ipython",
    "version": 3
   },
   "file_extension": ".py",
   "mimetype": "text/x-python",
   "name": "python",
   "nbconvert_exporter": "python",
   "pygments_lexer": "ipython3",
   "version": "3.12.7"
  }
 },
 "nbformat": 4,
 "nbformat_minor": 5
}
