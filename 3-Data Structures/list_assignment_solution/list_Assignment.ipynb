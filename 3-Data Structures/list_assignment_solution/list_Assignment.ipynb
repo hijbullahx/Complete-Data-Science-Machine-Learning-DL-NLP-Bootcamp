{
 "cells": [
  {
   "cell_type": "markdown",
   "metadata": {},
   "source": [
    "# Module 3: Data Structures Assignments\n",
    "## Lesson 3.1: Lists\n",
    "### Assignment 1: Creating and Accessing Lists\n",
    "\n",
    "Create a list of the first 20 positive integers. Print the list.\n",
    "\n",
    "### Assignment 2: Accessing List Elements\n",
    "\n",
    "Print the first, middle, and last elements of the list created in Assignment 1.\n",
    "\n",
    "### Assignment 3: List Slicing\n",
    "\n",
    "Print the first five elements, the last five elements, and the elements from index 5 to 15 of the list created in Assignment 1.\n",
    "\n",
    "### Assignment 4: List Comprehensions\n",
    "\n",
    "Create a new list containing the squares of the first 10 positive integers using a list comprehension. Print the new list.\n",
    "\n",
    "### Assignment 5: Filtering Lists\n",
    "\n",
    "Create a new list containing only the even numbers from the list created in Assignment 1 using a list comprehension. Print the new list.\n",
    "\n",
    "### Assignment 6: List Methods\n",
    "\n",
    "Create a list of random numbers and sort it in ascending and descending order. Remove the duplicates from the list and print the modified list.\n",
    "\n",
    "### Assignment 7: Nested Lists\n",
    "\n",
    "Create a nested list representing a 3x3 matrix and print the matrix. Access and print the element at the second row and third column.\n",
    "\n",
    "### Assignment 8: List of Dictionaries\n",
    "\n",
    "Create a list of dictionaries where each dictionary represents a student with keys 'name' and 'score'. Sort the list of dictionaries by the 'score' in descending order and print the sorted list.\n",
    "\n",
    "### Assignment 9: Matrix Transposition\n",
    "\n",
    "Write a function that takes a 3x3 matrix (nested list) as input and returns its transpose. Print the original and transposed matrices.\n",
    "\n",
    "### Assignment 10: Flattening a Nested List\n",
    "\n",
    "Write a function that takes a nested list and flattens it into a single list. Print the original and flattened lists.\n",
    "\n",
    "### Assignment 11: List Manipulation\n",
    "\n",
    "Create a list of the first 10 positive integers. Remove the elements at indices 2, 4, and 6, and insert the element '99' at index 5. Print the modified list.\n",
    "\n",
    "### Assignment 12: List Zipping\n",
    "\n",
    "Create two lists of the same length. Use the `zip` function to combine these lists into a list of tuples and print the result.\n",
    "\n",
    "### Assignment 13: List Reversal\n",
    "\n",
    "Write a function that takes a list and returns a new list with the elements in reverse order. Print the original and reversed lists.\n",
    "\n",
    "### Assignment 14: List Rotation\n",
    "\n",
    "Write a function that rotates a list by n positions. Print the original and rotated lists.\n",
    "\n",
    "### Assignment 15: List Intersection\n",
    "\n",
    "Write a function that takes two lists and returns a new list containing only the elements that are present in both lists. Print the intersected list."
   ]
  },
  {
   "cell_type": "code",
   "execution_count": 2,
   "id": "1b57ef68",
   "metadata": {},
   "outputs": [
    {
     "name": "stdout",
     "output_type": "stream",
     "text": [
      "[1, 2, 3, 4, 5, 6, 7, 8, 9, 10, 11, 12, 13, 14, 15, 16, 17, 18, 19, 20]\n"
     ]
    }
   ],
   "source": [
    "# Module 3: Data Structures Assignments\n",
    "## Lesson 3.1: Lists\n",
    "### Assignment 1: Creating and Accessing Lists\n",
    "\n",
    "#Create a list of the first 20 positive integers. Print the list.\n",
    "\n",
    "lst = [i for i in range(1,21)]\n",
    "print(lst)  # Print the list of first 20 positive integers"
   ]
  },
  {
   "cell_type": "code",
   "execution_count": 5,
   "metadata": {},
   "outputs": [
    {
     "name": "stdout",
     "output_type": "stream",
     "text": [
      "First element: 1\n",
      "Middle element: 11\n",
      "Last element: 20\n"
     ]
    }
   ],
   "source": [
    "### Assignment 2: Accessing List Elements\n",
    "\n",
    "#Print the first, middle, and last elements of the list created in Assignment 1.\n",
    "\n",
    "frst_el = lst[0] # First element\n",
    "mid_el = lst[len(lst)//2] # Middle element\n",
    "last_le = lst[-1] # Last element\n",
    "print(f\"First element: {frst_el}\")\n",
    "print(f\"Middle element: {mid_el}\")  \n",
    "print(f\"Last element: {last_le}\")"
   ]
  },
  {
   "cell_type": "code",
   "execution_count": 7,
   "id": "0fdcdf5d",
   "metadata": {},
   "outputs": [
    {
     "name": "stdout",
     "output_type": "stream",
     "text": [
      "First five elements: [1, 2, 3, 4, 5]\n",
      "Last five elements: [1, 2, 3, 4, 5, 6, 7, 8, 9, 10, 11, 12, 13, 14, 15]\n",
      "Elements from index 5 to 15: [6, 7, 8, 9, 10, 11, 12, 13, 14, 15, 16]\n"
     ]
    }
   ],
   "source": [
    "### Assignment 3: List Slicing\n",
    "\n",
    "#Print the first five elements, the last five elements, and the elements from index 5 to 15 of the list created in Assignment 1.\n",
    "frst_five = lst[:5] # First five elements\n",
    "lst_five = lst[:-5] # Last five elements\n",
    "slice_5_to_15 = lst[5:16] # Elements from index 5 to 15\n",
    "print(f\"First five elements: {frst_five}\")  \n",
    "print(f\"Last five elements: {lst_five}\")\n",
    "print(f\"Elements from index 5 to 15: {slice_5_to_15}\")"
   ]
  },
  {
   "cell_type": "code",
   "execution_count": 9,
   "id": "b01e5552",
   "metadata": {},
   "outputs": [
    {
     "name": "stdout",
     "output_type": "stream",
     "text": [
      "Squares of the first 10 positive integers: [1, 4, 9, 16, 25, 36, 49, 64, 81, 100]\n"
     ]
    }
   ],
   "source": [
    "### Assignment 4: List Comprehensions\n",
    "\n",
    "#Create a new list containing the squares of the first 10 positive integers using a list comprehension. Print the new list.\n",
    "squares = [i**2 for i in range(1,11)]\n",
    "print(f\"Squares of the first 10 positive integers: {squares}\")"
   ]
  },
  {
   "cell_type": "code",
   "execution_count": 4,
   "id": "d1e83542",
   "metadata": {},
   "outputs": [
    {
     "name": "stdout",
     "output_type": "stream",
     "text": [
      "Even numbers from the list: [2, 4, 6, 8, 10, 12, 14, 16, 18, 20]\n"
     ]
    }
   ],
   "source": [
    "### Assignment 5: Filtering Lists\n",
    "\n",
    "#Create a new list containing only the even numbers from the list created in Assignment 1 using a list comprehension. Print the new list.\n",
    "even = [i for i in lst if i % 2 == 0]\n",
    "print(f\"Even numbers from the list: {even}\")"
   ]
  },
  {
   "cell_type": "code",
   "execution_count": 20,
   "id": "658abea0",
   "metadata": {},
   "outputs": [
    {
     "name": "stdout",
     "output_type": "stream",
     "text": [
      "Original list of random numbers: [98, 34, 78, 33, 64, 74, 99, 66, 31, 33, 17, 46, 66, 57, 60, 67, 77, 61, 29, 34]\n",
      "Sorted list in ascending order: [17, 29, 31, 33, 33, 34, 34, 46, 57, 60, 61, 64, 66, 66, 67, 74, 77, 78, 98, 99]\n",
      "Sorted list in descending order: [99, 98, 78, 77, 74, 67, 66, 66, 64, 61, 60, 57, 46, 34, 34, 33, 33, 31, 29, 17]\n",
      "List after removing duplicates: [64, 33, 98, 99, 67, 66, 34, 74, 77, 78, 46, 17, 29, 57, 60, 61, 31]\n"
     ]
    }
   ],
   "source": [
    "### Assignment 6: List Methods\n",
    "\n",
    "#Create a list of random numbers and sort it in ascending and descending order. Remove the duplicates from the list and print the modified list.\n",
    "import random \n",
    "r_num = [random.randint(1, 100) for i in range(20)]  # Create a list of 20 random numbers between 1 and 100\n",
    "print(f\"Original list of random numbers: {r_num}\")\n",
    "r_num.sort()  # Sort the list in ascending order\n",
    "print(f\"Sorted list in ascending order: {r_num}\")\n",
    "r_num.sort(reverse=True)  # Sort the list in descending order\n",
    "print(f\"Sorted list in descending order: {r_num}\")\n",
    "r_num = list(set(r_num))  # Remove duplicates by converting to a set and back to a list\n",
    "print(f\"List after removing duplicates: {r_num}\")\n"
   ]
  },
  {
   "cell_type": "code",
   "execution_count": 25,
   "id": "19ba0120",
   "metadata": {},
   "outputs": [
    {
     "name": "stdout",
     "output_type": "stream",
     "text": [
      "3x3 Matrix:\n",
      "[1, 2, 3]\n",
      "[4, 5, 6]\n",
      "[7, 8, 9]\n",
      "Element at second row and third column: 6\n"
     ]
    }
   ],
   "source": [
    "### Assignment 7: Nested Lists\n",
    "\n",
    "#Create a nested list representing a 3x3 matrix and print the matrix. Access and print the element at the second row and third column.\n",
    "mat = [\n",
    "  [1,2,3],\n",
    "  [4,5,6],\n",
    "  [7,8,9] \n",
    "]\n",
    "print(\"3x3 Matrix:\" )\n",
    "for row in mat:\n",
    "  print(row)\n",
    "print(f\"Element at second row and third column: {mat[1][2]}\")  # Accessing the element at second row and third column"
   ]
  },
  {
   "cell_type": "code",
   "execution_count": 27,
   "id": "70967621",
   "metadata": {},
   "outputs": [
    {
     "name": "stdout",
     "output_type": "stream",
     "text": [
      "Sorted students by score in descending order:\n",
      "{'name': 'Fatima', 'score': 95}\n",
      "{'name': 'Ali', 'score': 90}\n",
      "{'name': 'Hijbullah', 'score': 85}\n",
      "{'name': 'Eve', 'score': 78}\n",
      "{'name': 'Zainab', 'score': 75}\n",
      "{'name': 'David', 'score': 65}\n"
     ]
    }
   ],
   "source": [
    "### Assignment 8: List of Dictionaries\n",
    "\n",
    "#Create a list of dictionaries where each dictionary represents a student with keys 'name' and 'score'. Sort the list of dictionaries by the 'score' in descending order and print the sorted list.\n",
    "students = [\n",
    "  {'name' : 'Hijbullah', 'score' : 85},\n",
    "  {'name' : 'Ali', 'score' : 90},\n",
    "  {'name' : 'Zainab', 'score' : 75},\n",
    "  {'name' : 'Fatima', 'score' : 95},\n",
    "  {'name' : 'David', 'score' : 65},\n",
    "  {'name' : 'Eve', 'score' : 78}\n",
    "]\n",
    "# Sort the list of students by the 'score' key in descending order\n",
    "srtd_stdns = sorted(students, key = lambda x: x['score'], reverse=True)\n",
    "print(\"Sorted students by score in descending order:\")\n",
    "for student in srtd_stdns:\n",
    "  print(student)\n",
    "  "
   ]
  },
  {
   "cell_type": "code",
   "execution_count": 31,
   "id": "2555dd35",
   "metadata": {},
   "outputs": [
    {
     "name": "stdout",
     "output_type": "stream",
     "text": [
      "Original Matrix:\n",
      "[1, 2, 3]\n",
      "[4, 5, 6]\n",
      "[7, 8, 9]\n",
      "Transposed Matrix:\n",
      "[1, 4, 7]\n",
      "[2, 5, 8]\n",
      "[3, 6, 9]\n"
     ]
    }
   ],
   "source": [
    "### Assignment 9: Matrix Transposition\n",
    "\n",
    "#Write a function that takes a 3x3 matrix (nested list) as input and returns its transpose. Print the original and transposed matrices.\n",
    "def transpose(matrix):\n",
    "  return [[matrix[j][i] for j in range(len(matrix))] for i in range(len(matrix[0]))]\n",
    "mat = [\n",
    "  [1, 2, 3],\n",
    "  [4, 5, 6],\n",
    "  [7, 8, 9]\n",
    "]\n",
    "transposed_mat = transpose(mat)\n",
    "print(\"Original Matrix:\")\n",
    "for row in mat:\n",
    "  print(row)\n",
    "print(\"Transposed Matrix:\")\n",
    "for row in transposed_mat:\n",
    "  print(row)\n",
    "  "
   ]
  },
  {
   "cell_type": "code",
   "execution_count": 33,
   "id": "30414a31",
   "metadata": {},
   "outputs": [
    {
     "name": "stdout",
     "output_type": "stream",
     "text": [
      "Original Nested List:\n",
      "[[1, 2, 3], [4, 5], [6, 7, 8, 9]]\n",
      "Flattened List:\n",
      "[1, 2, 3, 4, 5, 6, 7, 8, 9]\n"
     ]
    }
   ],
   "source": [
    "### Assignment 10: Flattening a Nested List\n",
    "\n",
    "#Write a function that takes a nested list and flattens it into a single list. Print the original and flattened lists.\n",
    "def flatten_list(nested_list):\n",
    "  flat_list = [item for sublist in nested_list for item in sublist]\n",
    "  return flat_list\n",
    "nested_list = [\n",
    "  [1, 2, 3],\n",
    "  [4, 5],\n",
    "  [6, 7, 8, 9]\n",
    "]\n",
    "flattened = flatten_list(nested_list)\n",
    "print(\"Original Nested List:\")\n",
    "print(nested_list)\n",
    "print(\"Flattened List:\")\n",
    "print(flattened)"
   ]
  },
  {
   "cell_type": "code",
   "execution_count": 36,
   "id": "4a5585aa",
   "metadata": {},
   "outputs": [
    {
     "name": "stdout",
     "output_type": "stream",
     "text": [
      "Original list: [1, 2, 3, 4, 5, 6, 7, 8, 9, 10]\n",
      "Modified list after removing elements at indices 2, 4, and 6 and inserting '99' at index 5: [1, 2, 4, 5, 7, 99, 8, 10]\n"
     ]
    }
   ],
   "source": [
    "### Assignment 11: List Manipulation\n",
    "\n",
    "#Create a list of the first 10 positive integers. Remove the elements at indices 2, 4, and 6, and insert the element '99' at index 5. Print the modified list.\n",
    "lst = list(range(1, 11)) # List of first 10 positive integers\n",
    "print(f\"Original list: {lst}\")\n",
    "del lst[2] # Remove element at index 2\n",
    "del lst[4] # Remove element at index 4 (after previous deletion, this is now index 3)\n",
    "del lst [6] # Remove element at index 6 (after previous deletions, this is now index 4)\n",
    "lst.insert(5, 99) # Insert '99' at index 5\n",
    "print(f\"Modified list after removing elements at indices 2, 4, and 6 and inserting '99' at index 5: {lst}\")\n"
   ]
  },
  {
   "cell_type": "code",
   "execution_count": 38,
   "id": "3b89cae7",
   "metadata": {},
   "outputs": [
    {
     "name": "stdout",
     "output_type": "stream",
     "text": [
      "Zipped list of tuples: [(1, 'a'), (2, 'b'), (3, 'c'), (4, 'd'), (5, 'e')]\n"
     ]
    }
   ],
   "source": [
    "### Assignment 12: List Zipping\n",
    "\n",
    "#Create two lists of the same length. Use the `zip` function to combine these lists into a list of tuples and print the result.\n",
    "lst1  = [1, 2, 3, 4, 5]\n",
    "lst2 = ['a', 'b', 'c', 'd', 'e']\n",
    "zipped = list(zip(lst1, lst2))  # Combine the two lists into a list of tuples\n",
    "print(f\"Zipped list of tuples: {zipped}\")"
   ]
  },
  {
   "cell_type": "code",
   "execution_count": 41,
   "id": "39f2f3a7",
   "metadata": {},
   "outputs": [
    {
     "name": "stdout",
     "output_type": "stream",
     "text": [
      "Original list: [1, 2, 4, 5, 7, 99, 8, 10]\n",
      "Reversed list: [10, 8, 99, 7, 5, 4, 2, 1]\n"
     ]
    }
   ],
   "source": [
    "### Assignment 13: List Reversal\n",
    "\n",
    "#Write a function that takes a list and returns a new list with the elements in reverse order. Print the original and reversed lists.\n",
    "def reversed_list(lst):\n",
    "    return lst[::-1]  # Return the list in reverse order\n",
    "\n",
    "# Use the existing 'lst' variable from previous cells\n",
    "reversed_lst = reversed_list(lst)\n",
    "print(f\"Original list: {lst}\")\n",
    "print(f\"Reversed list: {reversed_lst}\")\n"
   ]
  },
  {
   "cell_type": "code",
   "execution_count": 45,
   "id": "3fe3bfd5",
   "metadata": {},
   "outputs": [
    {
     "name": "stdout",
     "output_type": "stream",
     "text": [
      "Original list: [1, 2, 4, 5, 7, 99, 8, 10]\n",
      "Rotated list: [4, 5, 7, 99, 8, 10, 1, 2]\n"
     ]
    }
   ],
   "source": [
    "### Assignment 14: List Rotation\n",
    "\n",
    "#Write a function that rotates a list by n positions. Print the original and rotated lists.\n",
    "def rotate_lst(lst, n):\n",
    "  return lst[n:] + lst[:n]  # Rotate the list by n positions\n",
    "# Use the existing 'lst' variable from previous cells\n",
    "rotated_lst = rotate_lst(lst, 2)  # Rotate the list by 3 positions\n",
    "print(f\"Original list: {lst}\")\n",
    "print(f\"Rotated list: {rotated_lst}\")\n",
    "\n"
   ]
  },
  {
   "cell_type": "code",
   "execution_count": 46,
   "id": "a4983c4d",
   "metadata": {},
   "outputs": [
    {
     "name": "stdout",
     "output_type": "stream",
     "text": [
      "Intersected list: [3, 4, 5]\n"
     ]
    }
   ],
   "source": [
    "### Assignment 15: List Intersection\n",
    "\n",
    "#Write a function that takes two lists and returns a new list containing only the elements that are present in both lists. Print the intersected list.\n",
    "def intersect_lst(lst1, lst2):\n",
    "  return [item for item in lst1 if item in lst2]\n",
    "lst1 = [1, 2, 3, 4, 5]\n",
    "lst2 = [3, 4, 5, 6, 7]\n",
    "intersectionned_list = intersect_lst(lst1, lst2)\n",
    "print(f\"Intersected list: {intersectionned_list}\")\n"
   ]
  }
 ],
 "metadata": {
  "kernelspec": {
   "display_name": "base",
   "language": "python",
   "name": "python3"
  },
  "language_info": {
   "codemirror_mode": {
    "name": "ipython",
    "version": 3
   },
   "file_extension": ".py",
   "mimetype": "text/x-python",
   "name": "python",
   "nbconvert_exporter": "python",
   "pygments_lexer": "ipython3",
   "version": "3.12.7"
  }
 },
 "nbformat": 4,
 "nbformat_minor": 5
}
