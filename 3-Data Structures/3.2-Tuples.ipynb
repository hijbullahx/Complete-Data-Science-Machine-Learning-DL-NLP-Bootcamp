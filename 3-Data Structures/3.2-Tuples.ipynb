{
 "cells": [
  {
   "cell_type": "code",
   "execution_count": 7,
   "id": "9a77a499",
   "metadata": {},
   "outputs": [
    {
     "name": "stdout",
     "output_type": "stream",
     "text": [
      "Empty Tuple: ()\n",
      "Type of empty_tuple: <class 'tuple'>\n"
     ]
    }
   ],
   "source": [
    "#Creating a tuple\n",
    "empty_tuple = ()\n",
    "print(\"Empty Tuple:\", empty_tuple)\n",
    "print(\"Type of empty_tuple:\", type(empty_tuple))"
   ]
  },
  {
   "cell_type": "code",
   "execution_count": 8,
   "id": "7ab2d617",
   "metadata": {},
   "outputs": [
    {
     "name": "stdout",
     "output_type": "stream",
     "text": [
      "Type of lst: <class 'list'>\n",
      "Type of tpl: <class 'tuple'>\n"
     ]
    }
   ],
   "source": [
    "lst = list()\n",
    "print(\"Type of lst:\", type(lst))\n",
    "tpl = tuple()\n",
    "print(\"Type of tpl:\", type(tpl))\n"
   ]
  },
  {
   "cell_type": "code",
   "execution_count": 9,
   "id": "e4c30a67",
   "metadata": {},
   "outputs": [
    {
     "data": {
      "text/plain": [
       "(1, 2, 3, 4, 5)"
      ]
     },
     "execution_count": 9,
     "metadata": {},
     "output_type": "execute_result"
    }
   ],
   "source": [
    "tuple([1, 2, 3, 4, 5])  # Creating a tuple from a list"
   ]
  },
  {
   "cell_type": "code",
   "execution_count": 10,
   "id": "7c5eccfc",
   "metadata": {},
   "outputs": [
    {
     "data": {
      "text/plain": [
       "[1, 2, 3, 4, 5]"
      ]
     },
     "execution_count": 10,
     "metadata": {},
     "output_type": "execute_result"
    }
   ],
   "source": [
    "list((1, 2, 3, 4, 5))  # Creating a list "
   ]
  },
  {
   "cell_type": "code",
   "execution_count": 11,
   "id": "6957a333",
   "metadata": {},
   "outputs": [
    {
     "name": "stdout",
     "output_type": "stream",
     "text": [
      "Mixed Tuple: (1, 2.5, 'hellp', [1, 2, 3], (1, 2, 3), {1, 2, 3}, {1: 'one', 2: 'two'})\n",
      "Type of mxd_tuple: <class 'tuple'>\n"
     ]
    }
   ],
   "source": [
    "mxd_tuple = (1,2.5, \"hellp\", [1,2,3], (1,2,3), {1,2,3}, {1: \"one\", 2: \"two\"})\n",
    "print(\"Mixed Tuple:\", mxd_tuple)\n",
    "print(\"Type of mxd_tuple:\", type(mxd_tuple))"
   ]
  },
  {
   "cell_type": "code",
   "execution_count": 21,
   "id": "2df06143",
   "metadata": {},
   "outputs": [],
   "source": [
    "# Accessing elements in a tuple\n",
    "numbers = (1,1, 2, 3, 4, 5)"
   ]
  },
  {
   "cell_type": "code",
   "execution_count": 22,
   "id": "0024d827",
   "metadata": {},
   "outputs": [
    {
     "data": {
      "text/plain": [
       "(1, 1, 2, 3, 4, 5)"
      ]
     },
     "execution_count": 22,
     "metadata": {},
     "output_type": "execute_result"
    }
   ],
   "source": [
    "numbers"
   ]
  },
  {
   "cell_type": "code",
   "execution_count": 14,
   "id": "5212e722",
   "metadata": {},
   "outputs": [
    {
     "name": "stdout",
     "output_type": "stream",
     "text": [
      "First element: 1\n",
      "Last element: 5\n",
      "Slice from index 1 to 3: (2, 3, 4)\n",
      "Slice from start to index 3: (1, 2, 3, 4)\n",
      "Slice from index 2 to end: (3, 4, 5)\n",
      "Slice with step 2: (1, 3, 5)\n",
      "Slice with step -1 (reversed): (5, 4, 3, 2, 1)\n"
     ]
    }
   ],
   "source": [
    "print(\"First element:\", numbers[0])  # Accessing first element\n",
    "print(\"Last element:\", numbers[-1])  # Accessing last element\n",
    "print(\"Slice from index 1 to 3:\", numbers[1:4])  # Slicing from index 1 to 3\n",
    "print(\"Slice from start to index 3:\", numbers[:4])  # Slicing from start to index   3\n",
    "print(\"Slice from index 2 to end:\", numbers[2:])  # Slicing from index 2 to end\n",
    "print(\"Slice with step 2:\", numbers[::2])  # Slicing with step 2\n",
    "print(\"Slice with step -1 (reversed):\", numbers[::-1])  # Slicing with step -1 (reversed)\n"
   ]
  },
  {
   "cell_type": "code",
   "execution_count": 15,
   "id": "9443c6ca",
   "metadata": {},
   "outputs": [
    {
     "name": "stdout",
     "output_type": "stream",
     "text": [
      "Concatenated Tuple: (1, 2, 3, 4, 5, 1, 2.5, 'hellp', [1, 2, 3], (1, 2, 3), {1, 2, 3}, {1: 'one', 2: 'two'})\n"
     ]
    }
   ],
   "source": [
    "#Tuple operations\n",
    "concatenated_tuple = numbers + mxd_tuple  # Concatenation of tuples\n",
    "print(\"Concatenated Tuple:\", concatenated_tuple)"
   ]
  },
  {
   "cell_type": "code",
   "execution_count": 17,
   "id": "4b578cb8",
   "metadata": {},
   "outputs": [
    {
     "data": {
      "text/plain": [
       "(1,\n",
       " 2.5,\n",
       " 'hellp',\n",
       " [1, 2, 3],\n",
       " (1, 2, 3),\n",
       " {1, 2, 3},\n",
       " {1: 'one', 2: 'two'},\n",
       " 1,\n",
       " 2.5,\n",
       " 'hellp',\n",
       " [1, 2, 3],\n",
       " (1, 2, 3),\n",
       " {1, 2, 3},\n",
       " {1: 'one', 2: 'two'},\n",
       " 1,\n",
       " 2.5,\n",
       " 'hellp',\n",
       " [1, 2, 3],\n",
       " (1, 2, 3),\n",
       " {1, 2, 3},\n",
       " {1: 'one', 2: 'two'})"
      ]
     },
     "execution_count": 17,
     "metadata": {},
     "output_type": "execute_result"
    }
   ],
   "source": [
    "mxd_tuple*3  # Repeating the mixed tuple three times"
   ]
  },
  {
   "cell_type": "code",
   "execution_count": 19,
   "id": "3069cc94",
   "metadata": {},
   "outputs": [
    {
     "name": "stdout",
     "output_type": "stream",
     "text": [
      "Error: 'tuple' object does not support item assignment\n"
     ]
    }
   ],
   "source": [
    "#Immetuble nature of tuples\n",
    "try:\n",
    "  numbers[0] = 10  # Attempting to change the first element\n",
    "except TypeError as e:\n",
    "  print(\"Error:\", e)  # Catching the TypeError since tuples are immutable"
   ]
  },
  {
   "cell_type": "code",
   "execution_count": 25,
   "id": "2aa26d77",
   "metadata": {},
   "outputs": [
    {
     "name": "stdout",
     "output_type": "stream",
     "text": [
      "Count of 1 in numbers:  2\n",
      "indes of 2 in numbers:  2\n"
     ]
    }
   ],
   "source": [
    "# Tuple Methods\n",
    "print(\"Count of 1 in numbers: \", numbers.count(1)) # Counting occurrences of 1\n",
    "print(\"indes of 2 in numbers: \", numbers.index(2))"
   ]
  },
  {
   "cell_type": "code",
   "execution_count": 28,
   "id": "6ba52498",
   "metadata": {},
   "outputs": [
    {
     "name": "stdout",
     "output_type": "stream",
     "text": [
      "Packed Tuple: (1, 'Helo', 3.14)\n"
     ]
    }
   ],
   "source": [
    "## Packing and Unpacking tuple\n",
    "## packing\n",
    "packed_tuple = 1, \"Helo\", 3.14\n",
    "print(\"Packed Tuple:\", packed_tuple)"
   ]
  },
  {
   "cell_type": "code",
   "execution_count": 32,
   "id": "67ea893b",
   "metadata": {},
   "outputs": [
    {
     "name": "stdout",
     "output_type": "stream",
     "text": [
      "1\n",
      "Helo\n",
      "3.14\n"
     ]
    }
   ],
   "source": [
    "#Unpacking Tuple\n",
    "a, b, c = packed_tuple\n",
    "print(a) # 1\n",
    "print(b) # Helo\n",
    "print(c) # 3.14"
   ]
  },
  {
   "cell_type": "code",
   "execution_count": 35,
   "id": "9cfb7d55",
   "metadata": {},
   "outputs": [
    {
     "name": "stdout",
     "output_type": "stream",
     "text": [
      "First: 1\n",
      "Middle: [2, 3, 4]\n",
      "Last: 5\n"
     ]
    }
   ],
   "source": [
    "#Unpacking with *\n",
    "numbers = (1, 2, 3, 4, 5)\n",
    "first, *middle, last = numbers\n",
    "print(\"First:\", first)  # 1\n",
    "print(\"Middle:\", middle)  # [2, 3, 4]\n",
    "print(\"Last:\", last)  # 5\n"
   ]
  },
  {
   "cell_type": "code",
   "execution_count": 45,
   "id": "85b7ea29",
   "metadata": {},
   "outputs": [
    {
     "data": {
      "text/plain": [
       "[1, 2, 3]"
      ]
     },
     "execution_count": 45,
     "metadata": {},
     "output_type": "execute_result"
    }
   ],
   "source": [
    "## Nested List\n",
    "nested_list = [[1, 2, 3,4], [4, \"Hello\", 6], [7, 8, 9]]\n",
    "\n",
    "nested_list[0][0:3] # Accessing elements in a nested list\n"
   ]
  },
  {
   "cell_type": "code",
   "execution_count": 51,
   "id": "0a90131a",
   "metadata": {},
   "outputs": [
    {
     "name": "stdout",
     "output_type": "stream",
     "text": [
      "(1, 2)\n",
      "Nested Tuple: ((1, 2, 3), (4, 'Hello', 6), (7, 8, 9))\n",
      "Nested Tuple of first element: (1, 2, 3)\n"
     ]
    }
   ],
   "source": [
    "#Nested Tuple\n",
    "nested_tuple = ((1, 2, 3), (4, \"Hello\", 6), (7, 8, 9))\n",
    "print(nested_tuple[0][0:2])  # Accessing elements in a nested tuple\n",
    "print(\"Nested Tuple:\", nested_tuple)\n",
    "print(\"Nested Tuple of first element:\", nested_tuple[0])  # Accessing elements in a nested tuple\n"
   ]
  },
  {
   "cell_type": "code",
   "execution_count": 52,
   "id": "9b60a028",
   "metadata": {},
   "outputs": [
    {
     "name": "stdout",
     "output_type": "stream",
     "text": [
      "1 2 3 \n",
      "4 Hello 6 \n",
      "7 8 9 \n"
     ]
    }
   ],
   "source": [
    "## iterating over nested tuples\n",
    "for sub_tuple in nested_tuple:\n",
    "  for item in sub_tuple:\n",
    "    print(item, end = ' ')\n",
    "  print() # Printing each item in the nested tuple"
   ]
  }
 ],
 "metadata": {
  "kernelspec": {
   "display_name": "base",
   "language": "python",
   "name": "python3"
  },
  "language_info": {
   "codemirror_mode": {
    "name": "ipython",
    "version": 3
   },
   "file_extension": ".py",
   "mimetype": "text/x-python",
   "name": "python",
   "nbconvert_exporter": "python",
   "pygments_lexer": "ipython3",
   "version": "3.12.7"
  }
 },
 "nbformat": 4,
 "nbformat_minor": 5
}
