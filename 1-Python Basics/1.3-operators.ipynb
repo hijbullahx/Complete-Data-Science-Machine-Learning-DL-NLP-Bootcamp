{
 "cells": [
  {
   "cell_type": "code",
   "execution_count": 2,
   "id": "8b5852b3",
   "metadata": {},
   "outputs": [
    {
     "name": "stdout",
     "output_type": "stream",
     "text": [
      "Addition:  15\n",
      "Substraction:  5\n",
      "multiplication:  50\n",
      "Division:  2.0\n",
      "Floor DIvision:  2\n",
      "Modulus:  0\n",
      "Exponential:  100000\n"
     ]
    }
   ],
   "source": [
    "#Arithmetic Operation\n",
    "a= 10\n",
    "b= 5\n",
    "\n",
    "add_op = a+b\n",
    "sub_op = a-b\n",
    "mult_op = a*b\n",
    "div_op = a/b\n",
    "floor_div_op = a//b\n",
    "modulus_op = a%b\n",
    "\n",
    "exponent_op = a**b\n",
    "\n",
    "print(\"Addition: \", add_op)\n",
    "print(\"Substraction: \", sub_op)\n",
    "print(\"multiplication: \",mult_op)\n",
    "print(\"Division: \", div_op)\n",
    "print(\"Floor DIvision: \",floor_div_op)\n",
    "print(\"Modulus: \", (modulus_op))\n",
    "print(\"Exponential: \", exponent_op)"
   ]
  },
  {
   "cell_type": "code",
   "execution_count": 3,
   "id": "4ef8718d",
   "metadata": {},
   "outputs": [
    {
     "data": {
      "text/plain": [
       "2.0"
      ]
     },
     "execution_count": 3,
     "metadata": {},
     "output_type": "execute_result"
    }
   ],
   "source": [
    "10/5"
   ]
  },
  {
   "cell_type": "code",
   "execution_count": 9,
   "id": "5d3ee4f9",
   "metadata": {},
   "outputs": [
    {
     "data": {
      "text/plain": [
       "2.625"
      ]
     },
     "execution_count": 9,
     "metadata": {},
     "output_type": "execute_result"
    }
   ],
   "source": [
    "21/8"
   ]
  },
  {
   "cell_type": "code",
   "execution_count": 10,
   "id": "89343813",
   "metadata": {},
   "outputs": [
    {
     "data": {
      "text/plain": [
       "2"
      ]
     },
     "execution_count": 10,
     "metadata": {},
     "output_type": "execute_result"
    }
   ],
   "source": [
    "21//8"
   ]
  },
  {
   "cell_type": "code",
   "execution_count": 11,
   "id": "a2a42b00",
   "metadata": {},
   "outputs": [
    {
     "data": {
      "text/plain": [
       "True"
      ]
     },
     "execution_count": 11,
     "metadata": {},
     "output_type": "execute_result"
    }
   ],
   "source": [
    "#### Comparison Operators\n",
    "# == Equal to\n",
    "a=10\n",
    "b = 10\n",
    "\n",
    "a==b"
   ]
  },
  {
   "cell_type": "code",
   "execution_count": 17,
   "id": "acc03232",
   "metadata": {},
   "outputs": [
    {
     "data": {
      "text/plain": [
       "True"
      ]
     },
     "execution_count": 17,
     "metadata": {},
     "output_type": "execute_result"
    }
   ],
   "source": [
    "str1 = \"hijbullah\"\n",
    "str2 = \"hijbullah\"\n",
    "\n",
    "str1==str2"
   ]
  },
  {
   "cell_type": "code",
   "execution_count": null,
   "id": "95f13cf7",
   "metadata": {},
   "outputs": [],
   "source": []
  }
 ],
 "metadata": {
  "kernelspec": {
   "display_name": "base",
   "language": "python",
   "name": "python3"
  },
  "language_info": {
   "codemirror_mode": {
    "name": "ipython",
    "version": 3
   },
   "file_extension": ".py",
   "mimetype": "text/x-python",
   "name": "python",
   "nbconvert_exporter": "python",
   "pygments_lexer": "ipython3",
   "version": "3.12.7"
  }
 },
 "nbformat": 4,
 "nbformat_minor": 5
}
