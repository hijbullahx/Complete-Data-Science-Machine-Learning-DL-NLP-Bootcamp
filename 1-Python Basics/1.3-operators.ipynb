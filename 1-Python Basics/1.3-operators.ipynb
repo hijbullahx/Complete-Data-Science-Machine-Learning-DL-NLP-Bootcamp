{
 "cells": [
  {
   "cell_type": "code",
   "execution_count": 2,
   "id": "8b5852b3",
   "metadata": {},
   "outputs": [
    {
     "name": "stdout",
     "output_type": "stream",
     "text": [
      "Addition:  15\n",
      "Substraction:  5\n",
      "multiplication:  50\n",
      "Division:  2.0\n",
      "Floor DIvision:  2\n",
      "Modulus:  0\n",
      "Exponential:  100000\n"
     ]
    }
   ],
   "source": [
    "#Arithmetic Operation\n",
    "a= 10\n",
    "b= 5\n",
    "\n",
    "add_op = a+b\n",
    "sub_op = a-b\n",
    "mult_op = a*b\n",
    "div_op = a/b\n",
    "floor_div_op = a//b\n",
    "modulus_op = a%b\n",
    "\n",
    "exponent_op = a**b\n",
    "\n",
    "print(\"Addition: \", add_op)\n",
    "print(\"Substraction: \", sub_op)\n",
    "print(\"multiplication: \",mult_op)\n",
    "print(\"Division: \", div_op)\n",
    "print(\"Floor DIvision: \",floor_div_op)\n",
    "print(\"Modulus: \", (modulus_op))\n",
    "print(\"Exponential: \", exponent_op)"
   ]
  },
  {
   "cell_type": "code",
   "execution_count": 3,
   "id": "4ef8718d",
   "metadata": {},
   "outputs": [
    {
     "data": {
      "text/plain": [
       "2.0"
      ]
     },
     "execution_count": 3,
     "metadata": {},
     "output_type": "execute_result"
    }
   ],
   "source": [
    "10/5"
   ]
  },
  {
   "cell_type": "code",
   "execution_count": 9,
   "id": "5d3ee4f9",
   "metadata": {},
   "outputs": [
    {
     "data": {
      "text/plain": [
       "2.625"
      ]
     },
     "execution_count": 9,
     "metadata": {},
     "output_type": "execute_result"
    }
   ],
   "source": [
    "21/8"
   ]
  },
  {
   "cell_type": "code",
   "execution_count": 10,
   "id": "89343813",
   "metadata": {},
   "outputs": [
    {
     "data": {
      "text/plain": [
       "2"
      ]
     },
     "execution_count": 10,
     "metadata": {},
     "output_type": "execute_result"
    }
   ],
   "source": [
    "21//8"
   ]
  },
  {
   "cell_type": "markdown",
   "id": "fe73b4e4",
   "metadata": {},
   "source": [
    "Comparison Operators"
   ]
  },
  {
   "cell_type": "code",
   "execution_count": 11,
   "id": "a2a42b00",
   "metadata": {},
   "outputs": [
    {
     "data": {
      "text/plain": [
       "True"
      ]
     },
     "execution_count": 11,
     "metadata": {},
     "output_type": "execute_result"
    }
   ],
   "source": [
    "#### Comparison Operators\n",
    "# == Equal to\n",
    "a=10\n",
    "b = 10\n",
    "\n",
    "a==b"
   ]
  },
  {
   "cell_type": "code",
   "execution_count": 17,
   "id": "acc03232",
   "metadata": {},
   "outputs": [
    {
     "data": {
      "text/plain": [
       "True"
      ]
     },
     "execution_count": 17,
     "metadata": {},
     "output_type": "execute_result"
    }
   ],
   "source": [
    "str1 = \"hijbullah\"\n",
    "str2 = \"hijbullah\"\n",
    "\n",
    "str1==str2"
   ]
  },
  {
   "cell_type": "code",
   "execution_count": 18,
   "id": "95f13cf7",
   "metadata": {},
   "outputs": [
    {
     "data": {
      "text/plain": [
       "False"
      ]
     },
     "execution_count": 18,
     "metadata": {},
     "output_type": "execute_result"
    }
   ],
   "source": [
    "##Not equal to !=\n",
    "str1 != str2"
   ]
  },
  {
   "cell_type": "code",
   "execution_count": 19,
   "id": "d6ea22a8",
   "metadata": {},
   "outputs": [
    {
     "data": {
      "text/plain": [
       "True"
      ]
     },
     "execution_count": 19,
     "metadata": {},
     "output_type": "execute_result"
    }
   ],
   "source": [
    "str3 = \"Hijbullah\"\n",
    "str4 = \"hijbullah\"\n",
    "\n",
    "str3 != str4"
   ]
  },
  {
   "cell_type": "code",
   "execution_count": 20,
   "id": "f3d4f9c5",
   "metadata": {},
   "outputs": [
    {
     "data": {
      "text/plain": [
       "False"
      ]
     },
     "execution_count": 20,
     "metadata": {},
     "output_type": "execute_result"
    }
   ],
   "source": [
    "#greater than>\n",
    "num1 = 45\n",
    "num2 = 55\n",
    "\n",
    "num1>num2"
   ]
  },
  {
   "cell_type": "code",
   "execution_count": null,
   "id": "81390b0f",
   "metadata": {},
   "outputs": [
    {
     "data": {
      "text/plain": [
       "True"
      ]
     },
     "execution_count": 21,
     "metadata": {},
     "output_type": "execute_result"
    }
   ],
   "source": [
    "#less than <\n",
    "num1<num2"
   ]
  },
  {
   "cell_type": "code",
   "execution_count": 23,
   "id": "8dd2b485",
   "metadata": {},
   "outputs": [
    {
     "data": {
      "text/plain": [
       "True"
      ]
     },
     "execution_count": 23,
     "metadata": {},
     "output_type": "execute_result"
    }
   ],
   "source": [
    "#greater than or equal to \n",
    "number1 = 45\n",
    "number2 = 45\n",
    "number1>=number2"
   ]
  },
  {
   "cell_type": "code",
   "execution_count": 24,
   "id": "a040a074",
   "metadata": {},
   "outputs": [
    {
     "data": {
      "text/plain": [
       "True"
      ]
     },
     "execution_count": 24,
     "metadata": {},
     "output_type": "execute_result"
    }
   ],
   "source": [
    "#less than or equal to \n",
    "number1 = 44\n",
    "number2 = 45\n",
    "number1<=number2"
   ]
  },
  {
   "cell_type": "markdown",
   "id": "2ff8d3c1",
   "metadata": {},
   "source": [
    "Logical Operators\n"
   ]
  },
  {
   "cell_type": "code",
   "execution_count": 25,
   "id": "f405b298",
   "metadata": {},
   "outputs": [
    {
     "name": "stdout",
     "output_type": "stream",
     "text": [
      "True\n"
     ]
    }
   ],
   "source": [
    "# And, Not, Or\n",
    "X = True\n",
    "Y = True\n",
    "\n",
    "result = X and Y\n",
    "print(result)"
   ]
  },
  {
   "cell_type": "code",
   "execution_count": 26,
   "id": "4404a81f",
   "metadata": {},
   "outputs": [
    {
     "name": "stdout",
     "output_type": "stream",
     "text": [
      "False\n"
     ]
    }
   ],
   "source": [
    "X = True\n",
    "Y = False\n",
    "\n",
    "result = X and Y\n",
    "print(result)"
   ]
  },
  {
   "cell_type": "code",
   "execution_count": 29,
   "id": "1a0e8ae3",
   "metadata": {},
   "outputs": [
    {
     "name": "stdout",
     "output_type": "stream",
     "text": [
      "False\n"
     ]
    }
   ],
   "source": [
    "#Or\n",
    "X = False\n",
    "Y = False\n",
    "\n",
    "result = X or Y\n",
    "print(result)\n",
    "#all others comdiotions are true"
   ]
  },
  {
   "cell_type": "code",
   "execution_count": 30,
   "id": "4e887c06",
   "metadata": {},
   "outputs": [
    {
     "data": {
      "text/plain": [
       "True"
      ]
     },
     "execution_count": 30,
     "metadata": {},
     "output_type": "execute_result"
    }
   ],
   "source": [
    "#Not\n",
    "X= False\n",
    "not X"
   ]
  },
  {
   "cell_type": "code",
   "execution_count": 35,
   "id": "6c035f30",
   "metadata": {},
   "outputs": [
    {
     "name": "stdout",
     "output_type": "stream",
     "text": [
      "Addition:  16.0\n",
      "Substraction:  8.0\n",
      "multiplication:  48.0\n",
      "Division:  3.0\n",
      "Floor DIvision:  3\n",
      "Modulus:  0.0\n",
      "Exponential:  20736.0\n"
     ]
    }
   ],
   "source": [
    "#Simple Calcultor\n",
    "a = float(input(\"Enter first number: \"))\n",
    "b = float(input(\"Enter second number: \"))\n",
    "\n",
    "add_op = a+b\n",
    "sub_op = a-b\n",
    "mult_op = a*b\n",
    "div_op = a/b\n",
    "floor_div_op = a//b\n",
    "modulus_op = a%b\n",
    "\n",
    "exponent_op = a**b\n",
    "\n",
    "print(\"Addition: \", add_op)\n",
    "print(\"Substraction: \", sub_op)\n",
    "print(\"multiplication: \",mult_op)\n",
    "print(\"Division: \", div_op)\n",
    "print(\"Floor DIvision: \",int(floor_div_op))\n",
    "print(\"Modulus: \", (modulus_op))\n",
    "print(\"Exponential: \", exponent_op)"
   ]
  },
  {
   "cell_type": "code",
   "execution_count": null,
   "id": "e1a90397",
   "metadata": {},
   "outputs": [],
   "source": []
  }
 ],
 "metadata": {
  "kernelspec": {
   "display_name": "base",
   "language": "python",
   "name": "python3"
  },
  "language_info": {
   "codemirror_mode": {
    "name": "ipython",
    "version": 3
   },
   "file_extension": ".py",
   "mimetype": "text/x-python",
   "name": "python",
   "nbconvert_exporter": "python",
   "pygments_lexer": "ipython3",
   "version": "3.12.7"
  }
 },
 "nbformat": 4,
 "nbformat_minor": 5
}
