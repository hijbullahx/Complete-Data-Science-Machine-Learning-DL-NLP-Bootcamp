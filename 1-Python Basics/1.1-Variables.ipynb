{
 "cells": [
  {
   "cell_type": "code",
   "execution_count": null,
   "id": "a0424410",
   "metadata": {},
   "outputs": [],
   "source": [
    "a=100"
   ]
  },
  {
   "cell_type": "code",
   "execution_count": 6,
   "id": "646480b0",
   "metadata": {},
   "outputs": [
    {
     "name": "stdout",
     "output_type": "stream",
     "text": [
      "age:  25\n",
      "height:  5.7\n",
      "name:  Hijbullah\n"
     ]
    }
   ],
   "source": [
    "age=25\n",
    "height = 5.7\n",
    "name = \"Hijbullah\"\n",
    "is_student = True\n",
    "\n",
    "#printing the variables\n",
    "\n",
    "print(\"age: \", age)\n",
    "print(\"height: \", height )\n",
    "print(\"name: \", name)"
   ]
  },
  {
   "cell_type": "code",
   "execution_count": 8,
   "id": "a1042327",
   "metadata": {},
   "outputs": [],
   "source": [
    "## Naming Conventions\n",
    "## Variable names should be descriptive\n",
    "## They must start with a letter or an '_' and contains letter,numbers and underscores\n",
    "## variables names case sensitive\n",
    "\n",
    "#valid variable names\n",
    "\n",
    "first_name = \"Taher Bin Omar\"\n",
    "last_name = \"Hijbullah\""
   ]
  },
  {
   "cell_type": "code",
   "execution_count": 10,
   "id": "c1f7c294",
   "metadata": {},
   "outputs": [],
   "source": [
    "# Invalid variable names\n",
    "#2age=30\n",
    "#first-name=\"Krish\"\n",
    "##@name=\"Krish\""
   ]
  },
  {
   "cell_type": "code",
   "execution_count": 12,
   "id": "b928a668",
   "metadata": {},
   "outputs": [],
   "source": [
    "#case sesitivity\n",
    "name = \"Hijbullah\"\n",
    "Name = \"Taher Bin Omar\""
   ]
  },
  {
   "cell_type": "code",
   "execution_count": 15,
   "id": "fca3afbe",
   "metadata": {},
   "outputs": [
    {
     "name": "stdout",
     "output_type": "stream",
     "text": [
      "Type of age:  <class 'int'>\n",
      "Type of height:  <class 'float'>\n",
      "Type of name:  <class 'str'>\n",
      "Type of is_student:  <class 'bool'>\n"
     ]
    }
   ],
   "source": [
    "#Understanding the type of variables\n",
    "## Python is dynamically typed,type of a variable is determined at runtime\n",
    "age = 25 #integer\n",
    "height = 5.7 #float\n",
    "name = \"Hijbullah\" #string\n",
    "is_student = True #boolean\n",
    "\n",
    "print(\"Type of age: \", type(age))\n",
    "print(\"Type of height: \", type(height))\n",
    "print(\"Type of name: \", type(name))\n",
    "print(\"Type of is_student: \", type(is_student))\n"
   ]
  },
  {
   "cell_type": "code",
   "execution_count": 17,
   "id": "54f951c7",
   "metadata": {},
   "outputs": [
    {
     "data": {
      "text/plain": [
       "int"
      ]
     },
     "execution_count": 17,
     "metadata": {},
     "output_type": "execute_result"
    }
   ],
   "source": [
    "### Type Checking and Conversion\n",
    "type(age)"
   ]
  },
  {
   "cell_type": "code",
   "execution_count": 18,
   "id": "2a3dcac1",
   "metadata": {},
   "outputs": [
    {
     "name": "stdout",
     "output_type": "stream",
     "text": [
      "<class 'int'>\n",
      "Age as string:  25\n",
      "Type of age_str:  <class 'str'>\n"
     ]
    }
   ],
   "source": [
    "age= 25\n",
    "print(type(age))\n",
    "\n",
    "# Converting between types\n",
    "age_str = str(age)  # Convert integer to string\n",
    "print(\"Age as string: \", age_str  )\n",
    "print(\"Type of age_str: \", type(age_str))"
   ]
  },
  {
   "cell_type": "code",
   "execution_count": 21,
   "id": "6001e0c3",
   "metadata": {},
   "outputs": [
    {
     "name": "stdout",
     "output_type": "stream",
     "text": [
      "<class 'int'>\n"
     ]
    }
   ],
   "source": [
    "int(age) # Convert string to integer\n",
    "print(type(age))"
   ]
  },
  {
   "cell_type": "code",
   "execution_count": 23,
   "id": "e6dfb6c0",
   "metadata": {},
   "outputs": [
    {
     "ename": "ValueError",
     "evalue": "invalid literal for int() with base 10: 'Hijbullah'",
     "output_type": "error",
     "traceback": [
      "\u001b[1;31m---------------------------------------------------------------------------\u001b[0m",
      "\u001b[1;31mValueError\u001b[0m                                Traceback (most recent call last)",
      "Cell \u001b[1;32mIn[23], line 2\u001b[0m\n\u001b[0;32m      1\u001b[0m name \u001b[38;5;241m=\u001b[39m \u001b[38;5;124m\"\u001b[39m\u001b[38;5;124mHijbullah\u001b[39m\u001b[38;5;124m\"\u001b[39m\n\u001b[1;32m----> 2\u001b[0m \u001b[38;5;28mint\u001b[39m(name)\n",
      "\u001b[1;31mValueError\u001b[0m: invalid literal for int() with base 10: 'Hijbullah'"
     ]
    }
   ],
   "source": [
    "name = \"Hijbullah\"\n",
    "int(name)  # This will raise an error because name is a string and cannot be converted to an integer"
   ]
  },
  {
   "cell_type": "code",
   "execution_count": 26,
   "id": "3462fa60",
   "metadata": {},
   "outputs": [
    {
     "name": "stdout",
     "output_type": "stream",
     "text": [
      "<class 'float'>\n",
      "Height as integer:  5\n",
      "Type of height_int:  <class 'int'>\n",
      "Height as float:  5.0\n"
     ]
    }
   ],
   "source": [
    "height = 5.7\n",
    "print(type(height))  # This will return <class 'float'>\n",
    "# Converting float to integer\n",
    "height_int = int(height)  # This will truncate the decimal part\n",
    "print(\"Height as integer: \", height_int)\n",
    "print(\"Type of height_int: \", type(height_int))\n",
    "# Converting integer to float\n",
    "height_float = float(height_int)  # This will convert the integer back to float\n",
    "print(\"Height as float: \", height_float)"
   ]
  },
  {
   "cell_type": "code",
   "execution_count": 31,
   "id": "f105ab0a",
   "metadata": {},
   "outputs": [
    {
     "name": "stdout",
     "output_type": "stream",
     "text": [
      "10 <class 'int'>\n",
      "Hello <class 'str'>\n",
      "3.14 <class 'float'>\n"
     ]
    }
   ],
   "source": [
    "#Dynamic Typing\n",
    "## Python allows the type of a vraible to change as the program executes\n",
    "var = 10\n",
    "print(var, type(var))\n",
    "\n",
    "var = \"Hello\"\n",
    "print(var, type(var))\n",
    "\n",
    "var = 3.14\n",
    "print(var, type(var))"
   ]
  },
  {
   "cell_type": "code",
   "execution_count": null,
   "id": "c3abb209",
   "metadata": {},
   "outputs": [
    {
     "ename": "ValueError",
     "evalue": "invalid literal for int() with base 10: ''",
     "output_type": "error",
     "traceback": [
      "\u001b[1;31m---------------------------------------------------------------------------\u001b[0m",
      "\u001b[1;31mValueError\u001b[0m                                Traceback (most recent call last)",
      "Cell \u001b[1;32mIn[1], line 2\u001b[0m\n\u001b[0;32m      1\u001b[0m \u001b[38;5;66;03m#Input\u001b[39;00m\n\u001b[1;32m----> 2\u001b[0m age \u001b[38;5;241m=\u001b[39m \u001b[38;5;28mint\u001b[39m(\u001b[38;5;28minput\u001b[39m(\u001b[38;5;124m\"\u001b[39m\u001b[38;5;124mWhat is your age? \u001b[39m\u001b[38;5;124m\"\u001b[39m))\n\u001b[0;32m      3\u001b[0m \u001b[38;5;28mprint\u001b[39m(age, \u001b[38;5;28mtype\u001b[39m(age))\n",
      "\u001b[1;31mValueError\u001b[0m: invalid literal for int() with base 10: ''"
     ]
    }
   ],
   "source": [
    "#Input\n",
    "age=int(input(\"What is the age\"))\n",
    "print(age,type(age))"
   ]
  }
 ],
 "metadata": {
  "kernelspec": {
   "display_name": "base",
   "language": "python",
   "name": "python3"
  },
  "language_info": {
   "codemirror_mode": {
    "name": "ipython",
    "version": 3
   },
   "file_extension": ".py",
   "mimetype": "text/x-python",
   "name": "python",
   "nbconvert_exporter": "python",
   "pygments_lexer": "ipython3",
   "version": "3.12.7"
  }
 },
 "nbformat": 4,
 "nbformat_minor": 5
}
