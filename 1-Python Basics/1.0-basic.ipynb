{
 "cells": [
  {
   "cell_type": "code",
   "execution_count": null,
   "id": "795eab4c",
   "metadata": {},
   "outputs": [
    {
     "name": "stdout",
     "output_type": "stream",
     "text": [
      "Taher\n",
      "Hijbullah\n"
     ]
    }
   ],
   "source": [
    "#Python is case sensitive\n",
    "name = \"Taher\"\n",
    "Name = \"Hij\"\n",
    "print(name)\n",
    "print(Name)"
   ]
  },
  {
   "cell_type": "code",
   "execution_count": null,
   "id": "35d6c742",
   "metadata": {},
   "outputs": [
    {
     "name": "stdout",
     "output_type": "stream",
     "text": [
      "You are old\n"
     ]
    }
   ],
   "source": [
    "#Indentation(4 spaces or a tab )\n",
    "age = 32\n",
    "if age>30:\n",
    "    print(\"You are old\")"
   ]
  },
  {
   "cell_type": "code",
   "execution_count": null,
   "id": "9dc34ca8",
   "metadata": {},
   "outputs": [
    {
     "name": "stdout",
     "output_type": "stream",
     "text": [
      "30\n"
     ]
    }
   ],
   "source": [
    "##Line continuation\n",
    "#Using backslash to continue a line\n",
    "x = 1 + 2 + 3 + 4 + 5 + \\\n",
    "4+5+6\n",
    "print(x)\n"
   ]
  },
  {
   "cell_type": "code",
   "execution_count": 8,
   "id": "2032b751",
   "metadata": {},
   "outputs": [
    {
     "name": "stdout",
     "output_type": "stream",
     "text": [
      "10\n"
     ]
    }
   ],
   "source": [
    "#Multiple statements on a single line\n",
    "x = 1 + 2; y = 3 + 4; z = x + y\n",
    "print(z)"
   ]
  },
  {
   "cell_type": "code",
   "execution_count": 11,
   "id": "2d345502",
   "metadata": {},
   "outputs": [
    {
     "data": {
      "text/plain": [
       "str"
      ]
     },
     "execution_count": 11,
     "metadata": {},
     "output_type": "execute_result"
    }
   ],
   "source": [
    "#Understanding Semantics in Python\n",
    "#Semantics refers to the meaning of the code\n",
    "#variable names should be meaningful\n",
    "age = 32 ##kerner understads that age is a int variable that holds a number\n",
    "name = \"Taher\" ##kerner understands that name is a string that holds a string\n",
    "type(age) ##type function returns the type of the variable\n",
    "type(name) ##type function returns the type of the variable"
   ]
  },
  {
   "cell_type": "code",
   "execution_count": 14,
   "id": "8332e2cd",
   "metadata": {},
   "outputs": [
    {
     "name": "stdout",
     "output_type": "stream",
     "text": [
      "<class 'int'>\n",
      "<class 'str'>\n"
     ]
    }
   ],
   "source": [
    "#Type Inference\n",
    "#Python is dynamically typed, meaning you don't need to declare the type of a variable\n",
    "variable = 10  # This is an integer\n",
    "print(type(variable))  # Output: <class 'int'>\n",
    "variable = \"Hello\"  # Now it's a string\n",
    "print(type(variable))  # Output: <class 'str'>"
   ]
  },
  {
   "cell_type": "code",
   "execution_count": null,
   "id": "77925919",
   "metadata": {},
   "outputs": [],
   "source": []
  }
 ],
 "metadata": {
  "kernelspec": {
   "display_name": "base",
   "language": "python",
   "name": "python3"
  },
  "language_info": {
   "codemirror_mode": {
    "name": "ipython",
    "version": 3
   },
   "file_extension": ".py",
   "mimetype": "text/x-python",
   "name": "python",
   "nbconvert_exporter": "python",
   "pygments_lexer": "ipython3",
   "version": "3.12.7"
  }
 },
 "nbformat": 4,
 "nbformat_minor": 5
}
